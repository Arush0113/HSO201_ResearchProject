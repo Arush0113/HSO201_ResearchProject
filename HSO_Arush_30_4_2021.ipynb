{
  "nbformat": 4,
  "nbformat_minor": 0,
  "metadata": {
    "colab": {
      "name": "HSO_Arush_30_4_2021.ipynb",
      "provenance": [],
      "collapsed_sections": [],
      "mount_file_id": "https://github.com/Arush0113/HSO201_ResearchProject/blob/main/HSO_Arush_29_4_2021.ipynb",
      "authorship_tag": "ABX9TyNqzPeBmMdhc3bf9/rNGn23",
      "include_colab_link": true
    },
    "kernelspec": {
      "name": "python3",
      "display_name": "Python 3"
    },
    "language_info": {
      "name": "python"
    }
  },
  "cells": [
    {
      "cell_type": "markdown",
      "metadata": {
        "id": "view-in-github",
        "colab_type": "text"
      },
      "source": [
        "<a href=\"https://colab.research.google.com/github/Arush0113/HSO201_ResearchProject/blob/main/HSO_Arush_30_4_2021.ipynb\" target=\"_parent\"><img src=\"https://colab.research.google.com/assets/colab-badge.svg\" alt=\"Open In Colab\"/></a>"
      ]
    },
    {
      "cell_type": "code",
      "metadata": {
        "id": "bCJ-F3nu6c4E"
      },
      "source": [
        "import pandas as pd\n",
        "df = pd.read_csv('/content/drive/MyDrive/Table 303.25.txt', delimiter=' ')"
      ],
      "execution_count": null,
      "outputs": []
    },
    {
      "cell_type": "code",
      "metadata": {
        "id": "0sQBzdbFBxs5",
        "colab": {
          "base_uri": "https://localhost:8080/"
        },
        "outputId": "b16df2c5-a8a1-4ea9-db0e-7c4bcdbc5075"
      },
      "source": [
        "from google.colab import drive\n",
        "drive.mount('/content/drive')"
      ],
      "execution_count": null,
      "outputs": [
        {
          "output_type": "stream",
          "text": [
            "Drive already mounted at /content/drive; to attempt to forcibly remount, call drive.mount(\"/content/drive\", force_remount=True).\n"
          ],
          "name": "stdout"
        }
      ]
    },
    {
      "cell_type": "code",
      "metadata": {
        "colab": {
          "base_uri": "https://localhost:8080/",
          "height": 233
        },
        "id": "g4Qf825s7Cy5",
        "outputId": "616bddfe-9296-4230-8d09-b9d7c87a0557"
      },
      "source": [
        "df.head()"
      ],
      "execution_count": null,
      "outputs": [
        {
          "output_type": "execute_result",
          "data": {
            "text/html": [
              "<div>\n",
              "<style scoped>\n",
              "    .dataframe tbody tr th:only-of-type {\n",
              "        vertical-align: middle;\n",
              "    }\n",
              "\n",
              "    .dataframe tbody tr th {\n",
              "        vertical-align: top;\n",
              "    }\n",
              "\n",
              "    .dataframe thead th {\n",
              "        text-align: right;\n",
              "    }\n",
              "</style>\n",
              "<table border=\"1\" class=\"dataframe\">\n",
              "  <thead>\n",
              "    <tr style=\"text-align: right;\">\n",
              "      <th></th>\n",
              "      <th>Year</th>\n",
              "      <th>Total(All)</th>\n",
              "      <th>4-year(All)</th>\n",
              "      <th>2-year(All)</th>\n",
              "      <th>Total(Public)</th>\n",
              "      <th>4-year(Public)</th>\n",
              "      <th>2-year(Public)</th>\n",
              "      <th>Total(Private_All)</th>\n",
              "      <th>4-year(Private_All)</th>\n",
              "      <th>2-year(Private_All)</th>\n",
              "      <th>Total(Private_NonProfit)</th>\n",
              "      <th>4-year(Private_NonProfit)</th>\n",
              "      <th>2-year(Private_NonProfit)</th>\n",
              "      <th>Total(Private_ForProfit)</th>\n",
              "      <th>4-year(Private_ForProfit)</th>\n",
              "      <th>2-year(Private_ForProfit)</th>\n",
              "    </tr>\n",
              "  </thead>\n",
              "  <tbody>\n",
              "    <tr>\n",
              "      <th>0</th>\n",
              "      <td>1</td>\n",
              "      <td>2</td>\n",
              "      <td>3</td>\n",
              "      <td>4</td>\n",
              "      <td>5</td>\n",
              "      <td>6</td>\n",
              "      <td>7</td>\n",
              "      <td>8</td>\n",
              "      <td>9</td>\n",
              "      <td>10</td>\n",
              "      <td>11</td>\n",
              "      <td>12</td>\n",
              "      <td>13</td>\n",
              "      <td>14</td>\n",
              "      <td>15</td>\n",
              "      <td>16</td>\n",
              "    </tr>\n",
              "    <tr>\n",
              "      <th>1</th>\n",
              "      <td>1970</td>\n",
              "      <td>8,580,887</td>\n",
              "      <td>6,261,502</td>\n",
              "      <td>2,319,385</td>\n",
              "      <td>6,428,134</td>\n",
              "      <td>4,232,722</td>\n",
              "      <td>2,195,412</td>\n",
              "      <td>2,152,753</td>\n",
              "      <td>2,028,780</td>\n",
              "      <td>123,973</td>\n",
              "      <td>2,134,420</td>\n",
              "      <td>2,021,121</td>\n",
              "      <td>113,299</td>\n",
              "      <td>18,333</td>\n",
              "      <td>7,659</td>\n",
              "      <td>10,674</td>\n",
              "    </tr>\n",
              "    <tr>\n",
              "      <th>2</th>\n",
              "      <td>1971</td>\n",
              "      <td>8,948,644</td>\n",
              "      <td>6,369,355</td>\n",
              "      <td>2,579,289</td>\n",
              "      <td>6,804,309</td>\n",
              "      <td>4,346,990</td>\n",
              "      <td>2,457,319</td>\n",
              "      <td>2,144,335</td>\n",
              "      <td>2,022,365</td>\n",
              "      <td>121,970</td>\n",
              "      <td>2,121,913</td>\n",
              "      <td>2,011,682</td>\n",
              "      <td>110,231</td>\n",
              "      <td>22,422</td>\n",
              "      <td>10,683</td>\n",
              "      <td>11,739</td>\n",
              "    </tr>\n",
              "    <tr>\n",
              "      <th>3</th>\n",
              "      <td>1972</td>\n",
              "      <td>9,214,860</td>\n",
              "      <td>6,458,674</td>\n",
              "      <td>2,756,186</td>\n",
              "      <td>7,070,635</td>\n",
              "      <td>4,429,696</td>\n",
              "      <td>2,640,939</td>\n",
              "      <td>2,144,225</td>\n",
              "      <td>2,028,978</td>\n",
              "      <td>115,247</td>\n",
              "      <td>2,123,245</td>\n",
              "      <td>2,019,380</td>\n",
              "      <td>103,865</td>\n",
              "      <td>20,980</td>\n",
              "      <td>9,598</td>\n",
              "      <td>11,382</td>\n",
              "    </tr>\n",
              "    <tr>\n",
              "      <th>4</th>\n",
              "      <td>1973</td>\n",
              "      <td>9,602,123</td>\n",
              "      <td>6,590,023</td>\n",
              "      <td>3,012,100</td>\n",
              "      <td>7,419,516</td>\n",
              "      <td>4,529,895</td>\n",
              "      <td>2,889,621</td>\n",
              "      <td>2,182,607</td>\n",
              "      <td>2,060,128</td>\n",
              "      <td>122,479</td>\n",
              "      <td>2,148,784</td>\n",
              "      <td>2,045,804</td>\n",
              "      <td>102,980</td>\n",
              "      <td>33,823</td>\n",
              "      <td>14,324</td>\n",
              "      <td>19,499</td>\n",
              "    </tr>\n",
              "  </tbody>\n",
              "</table>\n",
              "</div>"
            ],
            "text/plain": [
              "   Year Total(All)  ... 4-year(Private_ForProfit) 2-year(Private_ForProfit)\n",
              "0     1          2  ...                        15                        16\n",
              "1  1970  8,580,887  ...                     7,659                    10,674\n",
              "2  1971  8,948,644  ...                    10,683                    11,739\n",
              "3  1972  9,214,860  ...                     9,598                    11,382\n",
              "4  1973  9,602,123  ...                    14,324                    19,499\n",
              "\n",
              "[5 rows x 16 columns]"
            ]
          },
          "metadata": {
            "tags": []
          },
          "execution_count": 5
        }
      ]
    },
    {
      "cell_type": "code",
      "metadata": {
        "colab": {
          "base_uri": "https://localhost:8080/",
          "height": 233
        },
        "id": "o2MDZNhV4V5f",
        "outputId": "bc205c4a-b6ee-46ec-954f-a6817b08c793"
      },
      "source": [
        "df = df.drop([0], axis = 0)\n",
        "# df.drop([\"index\"], axis = 1, inplace = True)\n",
        "# df = df.reset_index()\n",
        "df.head()"
      ],
      "execution_count": null,
      "outputs": [
        {
          "output_type": "execute_result",
          "data": {
            "text/html": [
              "<div>\n",
              "<style scoped>\n",
              "    .dataframe tbody tr th:only-of-type {\n",
              "        vertical-align: middle;\n",
              "    }\n",
              "\n",
              "    .dataframe tbody tr th {\n",
              "        vertical-align: top;\n",
              "    }\n",
              "\n",
              "    .dataframe thead th {\n",
              "        text-align: right;\n",
              "    }\n",
              "</style>\n",
              "<table border=\"1\" class=\"dataframe\">\n",
              "  <thead>\n",
              "    <tr style=\"text-align: right;\">\n",
              "      <th></th>\n",
              "      <th>Year</th>\n",
              "      <th>Total(All)</th>\n",
              "      <th>4-year(All)</th>\n",
              "      <th>2-year(All)</th>\n",
              "      <th>Total(Public)</th>\n",
              "      <th>4-year(Public)</th>\n",
              "      <th>2-year(Public)</th>\n",
              "      <th>Total(Private_All)</th>\n",
              "      <th>4-year(Private_All)</th>\n",
              "      <th>2-year(Private_All)</th>\n",
              "      <th>Total(Private_NonProfit)</th>\n",
              "      <th>4-year(Private_NonProfit)</th>\n",
              "      <th>2-year(Private_NonProfit)</th>\n",
              "      <th>Total(Private_ForProfit)</th>\n",
              "      <th>4-year(Private_ForProfit)</th>\n",
              "      <th>2-year(Private_ForProfit)</th>\n",
              "    </tr>\n",
              "  </thead>\n",
              "  <tbody>\n",
              "    <tr>\n",
              "      <th>1</th>\n",
              "      <td>1970</td>\n",
              "      <td>8,580,887</td>\n",
              "      <td>6,261,502</td>\n",
              "      <td>2,319,385</td>\n",
              "      <td>6,428,134</td>\n",
              "      <td>4,232,722</td>\n",
              "      <td>2,195,412</td>\n",
              "      <td>2,152,753</td>\n",
              "      <td>2,028,780</td>\n",
              "      <td>123,973</td>\n",
              "      <td>2,134,420</td>\n",
              "      <td>2,021,121</td>\n",
              "      <td>113,299</td>\n",
              "      <td>18,333</td>\n",
              "      <td>7,659</td>\n",
              "      <td>10,674</td>\n",
              "    </tr>\n",
              "    <tr>\n",
              "      <th>2</th>\n",
              "      <td>1971</td>\n",
              "      <td>8,948,644</td>\n",
              "      <td>6,369,355</td>\n",
              "      <td>2,579,289</td>\n",
              "      <td>6,804,309</td>\n",
              "      <td>4,346,990</td>\n",
              "      <td>2,457,319</td>\n",
              "      <td>2,144,335</td>\n",
              "      <td>2,022,365</td>\n",
              "      <td>121,970</td>\n",
              "      <td>2,121,913</td>\n",
              "      <td>2,011,682</td>\n",
              "      <td>110,231</td>\n",
              "      <td>22,422</td>\n",
              "      <td>10,683</td>\n",
              "      <td>11,739</td>\n",
              "    </tr>\n",
              "    <tr>\n",
              "      <th>3</th>\n",
              "      <td>1972</td>\n",
              "      <td>9,214,860</td>\n",
              "      <td>6,458,674</td>\n",
              "      <td>2,756,186</td>\n",
              "      <td>7,070,635</td>\n",
              "      <td>4,429,696</td>\n",
              "      <td>2,640,939</td>\n",
              "      <td>2,144,225</td>\n",
              "      <td>2,028,978</td>\n",
              "      <td>115,247</td>\n",
              "      <td>2,123,245</td>\n",
              "      <td>2,019,380</td>\n",
              "      <td>103,865</td>\n",
              "      <td>20,980</td>\n",
              "      <td>9,598</td>\n",
              "      <td>11,382</td>\n",
              "    </tr>\n",
              "    <tr>\n",
              "      <th>4</th>\n",
              "      <td>1973</td>\n",
              "      <td>9,602,123</td>\n",
              "      <td>6,590,023</td>\n",
              "      <td>3,012,100</td>\n",
              "      <td>7,419,516</td>\n",
              "      <td>4,529,895</td>\n",
              "      <td>2,889,621</td>\n",
              "      <td>2,182,607</td>\n",
              "      <td>2,060,128</td>\n",
              "      <td>122,479</td>\n",
              "      <td>2,148,784</td>\n",
              "      <td>2,045,804</td>\n",
              "      <td>102,980</td>\n",
              "      <td>33,823</td>\n",
              "      <td>14,324</td>\n",
              "      <td>19,499</td>\n",
              "    </tr>\n",
              "    <tr>\n",
              "      <th>5</th>\n",
              "      <td>1974</td>\n",
              "      <td>10,223,729</td>\n",
              "      <td>6,819,735</td>\n",
              "      <td>3,403,994</td>\n",
              "      <td>7,988,500</td>\n",
              "      <td>4,703,018</td>\n",
              "      <td>3,285,482</td>\n",
              "      <td>2,235,229</td>\n",
              "      <td>2,116,717</td>\n",
              "      <td>118,512</td>\n",
              "      <td>2,200,963</td>\n",
              "      <td>2,098,599</td>\n",
              "      <td>102,364</td>\n",
              "      <td>34,266</td>\n",
              "      <td>18,118</td>\n",
              "      <td>16,148</td>\n",
              "    </tr>\n",
              "  </tbody>\n",
              "</table>\n",
              "</div>"
            ],
            "text/plain": [
              "   Year  Total(All)  ... 4-year(Private_ForProfit) 2-year(Private_ForProfit)\n",
              "1  1970   8,580,887  ...                     7,659                    10,674\n",
              "2  1971   8,948,644  ...                    10,683                    11,739\n",
              "3  1972   9,214,860  ...                     9,598                    11,382\n",
              "4  1973   9,602,123  ...                    14,324                    19,499\n",
              "5  1974  10,223,729  ...                    18,118                    16,148\n",
              "\n",
              "[5 rows x 16 columns]"
            ]
          },
          "metadata": {
            "tags": []
          },
          "execution_count": 6
        }
      ]
    },
    {
      "cell_type": "code",
      "metadata": {
        "id": "cMWREZIP7DmA"
      },
      "source": [
        "import numpy as np\n",
        "import matplotlib.pyplot as plt\n",
        "import seaborn as sns\n",
        "import re\n",
        "\n",
        "%matplotlib inline"
      ],
      "execution_count": null,
      "outputs": []
    },
    {
      "cell_type": "code",
      "metadata": {
        "id": "gX6GHqIS3jzt"
      },
      "source": [
        "list = []\n",
        "for item in df['Total(All)'].values:\n",
        "  l1 = re.split(',', item)\n",
        "  list.append(''.join(l1))\n",
        "# print(list)  \n",
        "df['Total(All)'] = list\n",
        "\n",
        "list = []\n",
        "for item in df['Total(Public)'].values:\n",
        "  l1 = re.split(',', item)\n",
        "  list.append(''.join(l1))\n",
        "# print(list)  \n",
        "df['Total(Public)'] = list\n",
        "\n",
        "list = []\n",
        "for item in df['Total(Private_All)'].values:\n",
        "  l1 = re.split(',', item)\n",
        "  list.append(''.join(l1))\n",
        "# print(list)  \n",
        "df['Total(Private_All)'] = list\n",
        "\n",
        "\n",
        "list = []\n",
        "for item in df['4-year(All)'].values:\n",
        "  l1 = re.split(',', item)\n",
        "  list.append(''.join(l1))\n",
        "# print(list)  \n",
        "df['4-year(All)'] = list\n",
        "\n",
        "list = []\n",
        "for item in df['4-year(Public)'].values:\n",
        "  l1 = re.split(',', item)\n",
        "  list.append(''.join(l1))\n",
        "# print(list)  \n",
        "df['4-year(Public)'] = list\n",
        "\n",
        "list = []\n",
        "for item in df['4-year(Private_All)'].values:\n",
        "  l1 = re.split(',', item)\n",
        "  list.append(''.join(l1))\n",
        "# print(list)  \n",
        "df['4-year(Private_All)'] = list\n",
        "\n",
        "\n",
        "list = []\n",
        "for item in df['2-year(All)'].values:\n",
        "  l1 = re.split(',', item)\n",
        "  list.append(''.join(l1))\n",
        "# print(list)  \n",
        "df['2-year(All)'] = list\n",
        "\n",
        "list = []\n",
        "for item in df['2-year(Public)'].values:\n",
        "  l1 = re.split(',', item)\n",
        "  list.append(''.join(l1))\n",
        "# print(list)  \n",
        "df['2-year(Public)'] = list\n",
        "\n",
        "list = []\n",
        "for item in df['2-year(Private_All)'].values:\n",
        "  l1 = re.split(',', item)\n",
        "  list.append(''.join(l1))\n",
        "# print(list)  \n",
        "df['2-year(Private_All)'] = list"
      ],
      "execution_count": null,
      "outputs": []
    },
    {
      "cell_type": "code",
      "metadata": {
        "colab": {
          "base_uri": "https://localhost:8080/",
          "height": 506
        },
        "id": "Dw2Yf1AD3z6T",
        "outputId": "f231b0b6-901a-4bdd-92d2-add7f8d73def"
      },
      "source": [
        "df['Total(All)'] = df['Total(All)'].astype(int)\n",
        "df['4-year(All)'] = df['4-year(All)'].astype(int)\n",
        "df['2-year(All)'] = df['2-year(All)'].astype(int)\n",
        "df['Total(Public)'] = df['Total(Public)'].astype(int)\n",
        "df['4-year(Public)'] = df['4-year(Public)'].astype(int)\n",
        "df['2-year(Public)'] = df['2-year(Public)'].astype(int)\n",
        "df['Total(Private_All)'] = df['Total(Private_All)'].astype(int)\n",
        "df['4-year(Private_All)'] = df['4-year(Private_All)'].astype(int)\n",
        "df['2-year(Private_All)'] = df['2-year(Private_All)'].astype(int)\n",
        "\n",
        "df['Year'] = df['Year'].astype(int)\n",
        "\n",
        "df1 = df[(df['Year'] == 1978) | (df['Year'] == 1988) | (df['Year'] == 1998) | (df['Year'] == 2008) | (df['Year'] == 2018)]\n",
        "# sns.figure(figsize = (15,10))\n",
        "plt.figure(figsize=(6,4), )\n",
        "sns.barplot(data = df1, x = 'Year', y = 'Total(All)')\n",
        "# sns.barplot(data = df1, x = 'Year', y = '4-year(All)')\n",
        "df1.head()\n",
        "# x_vars = ['Total(All)', '4-year(All)', '2-year(All)']"
      ],
      "execution_count": null,
      "outputs": [
        {
          "output_type": "execute_result",
          "data": {
            "text/html": [
              "<div>\n",
              "<style scoped>\n",
              "    .dataframe tbody tr th:only-of-type {\n",
              "        vertical-align: middle;\n",
              "    }\n",
              "\n",
              "    .dataframe tbody tr th {\n",
              "        vertical-align: top;\n",
              "    }\n",
              "\n",
              "    .dataframe thead th {\n",
              "        text-align: right;\n",
              "    }\n",
              "</style>\n",
              "<table border=\"1\" class=\"dataframe\">\n",
              "  <thead>\n",
              "    <tr style=\"text-align: right;\">\n",
              "      <th></th>\n",
              "      <th>Year</th>\n",
              "      <th>Total(All)</th>\n",
              "      <th>4-year(All)</th>\n",
              "      <th>2-year(All)</th>\n",
              "      <th>Total(Public)</th>\n",
              "      <th>4-year(Public)</th>\n",
              "      <th>2-year(Public)</th>\n",
              "      <th>Total(Private_All)</th>\n",
              "      <th>4-year(Private_All)</th>\n",
              "      <th>2-year(Private_All)</th>\n",
              "      <th>Total(Private_NonProfit)</th>\n",
              "      <th>4-year(Private_NonProfit)</th>\n",
              "      <th>2-year(Private_NonProfit)</th>\n",
              "      <th>Total(Private_ForProfit)</th>\n",
              "      <th>4-year(Private_ForProfit)</th>\n",
              "      <th>2-year(Private_ForProfit)</th>\n",
              "    </tr>\n",
              "  </thead>\n",
              "  <tbody>\n",
              "    <tr>\n",
              "      <th>9</th>\n",
              "      <td>1978</td>\n",
              "      <td>11260092</td>\n",
              "      <td>7231625</td>\n",
              "      <td>4028467</td>\n",
              "      <td>8785893</td>\n",
              "      <td>4912203</td>\n",
              "      <td>3873690</td>\n",
              "      <td>2474199</td>\n",
              "      <td>2319422</td>\n",
              "      <td>154777</td>\n",
              "      <td>2,408,331</td>\n",
              "      <td>2,299,132</td>\n",
              "      <td>109,199</td>\n",
              "      <td>65,868</td>\n",
              "      <td>20,290</td>\n",
              "      <td>45,578</td>\n",
              "    </tr>\n",
              "    <tr>\n",
              "      <th>19</th>\n",
              "      <td>1988</td>\n",
              "      <td>13055337</td>\n",
              "      <td>8180182</td>\n",
              "      <td>4875155</td>\n",
              "      <td>10161388</td>\n",
              "      <td>5545901</td>\n",
              "      <td>4615487</td>\n",
              "      <td>2893949</td>\n",
              "      <td>2634281</td>\n",
              "      <td>259668</td>\n",
              "      <td>—</td>\n",
              "      <td>—</td>\n",
              "      <td>—</td>\n",
              "      <td>—</td>\n",
              "      <td>—</td>\n",
              "      <td>—</td>\n",
              "    </tr>\n",
              "    <tr>\n",
              "      <th>29</th>\n",
              "      <td>1998</td>\n",
              "      <td>14506967</td>\n",
              "      <td>9017653</td>\n",
              "      <td>5489314</td>\n",
              "      <td>11137769</td>\n",
              "      <td>5891806</td>\n",
              "      <td>5245963</td>\n",
              "      <td>3369198</td>\n",
              "      <td>3125847</td>\n",
              "      <td>243351</td>\n",
              "      <td>3,004,925</td>\n",
              "      <td>2,939,055</td>\n",
              "      <td>65,870</td>\n",
              "      <td>364,273</td>\n",
              "      <td>186,792</td>\n",
              "      <td>177,481</td>\n",
              "    </tr>\n",
              "    <tr>\n",
              "      <th>39</th>\n",
              "      <td>2008</td>\n",
              "      <td>19081686</td>\n",
              "      <td>12110487</td>\n",
              "      <td>6971199</td>\n",
              "      <td>13970862</td>\n",
              "      <td>7330682</td>\n",
              "      <td>6640180</td>\n",
              "      <td>5110824</td>\n",
              "      <td>4779805</td>\n",
              "      <td>331019</td>\n",
              "      <td>3,660,827</td>\n",
              "      <td>3,625,469</td>\n",
              "      <td>35,358</td>\n",
              "      <td>1,449,997</td>\n",
              "      <td>1,154,336</td>\n",
              "      <td>295,661</td>\n",
              "    </tr>\n",
              "    <tr>\n",
              "      <th>49</th>\n",
              "      <td>2018</td>\n",
              "      <td>19645918</td>\n",
              "      <td>13900710</td>\n",
              "      <td>5745208</td>\n",
              "      <td>14529264</td>\n",
              "      <td>8982560</td>\n",
              "      <td>5546704</td>\n",
              "      <td>5116654</td>\n",
              "      <td>4918150</td>\n",
              "      <td>198504</td>\n",
              "      <td>4,134,244</td>\n",
              "      <td>4,089,090</td>\n",
              "      <td>45,154</td>\n",
              "      <td>982,410</td>\n",
              "      <td>829,060</td>\n",
              "      <td>153,350</td>\n",
              "    </tr>\n",
              "  </tbody>\n",
              "</table>\n",
              "</div>"
            ],
            "text/plain": [
              "    Year  Total(All)  ...  4-year(Private_ForProfit)  2-year(Private_ForProfit)\n",
              "9   1978    11260092  ...                     20,290                     45,578\n",
              "19  1988    13055337  ...                          —                          —\n",
              "29  1998    14506967  ...                    186,792                    177,481\n",
              "39  2008    19081686  ...                  1,154,336                    295,661\n",
              "49  2018    19645918  ...                    829,060                    153,350\n",
              "\n",
              "[5 rows x 16 columns]"
            ]
          },
          "metadata": {
            "tags": []
          },
          "execution_count": 9
        },
        {
          "output_type": "display_data",
          "data": {
            "image/png": "[encoded data removed]",
            "text/plain": [
              "<Figure size 432x288 with 1 Axes>"
            ]
          },
          "metadata": {
            "tags": [],
            "needs_background": "light"
          }
        }
      ]
    },
    {
      "cell_type": "code",
      "metadata": {
        "colab": {
          "base_uri": "https://localhost:8080/",
          "height": 326
        },
        "id": "CiEV2HOH31wO",
        "outputId": "46fb1ae0-53a3-435b-d484-c745159bfa53"
      },
      "source": [
        "columns = ['Year', '4-year(All)', '2-year(All)']\n",
        "df2 = df1[columns]\n",
        "\n",
        "df2 = df2.set_index('Year')\n",
        "df2.plot(kind = 'bar',)\n",
        "plt.ylabel('Enrollments', size = 13)\n",
        "plt.xlabel('Year', size = 13)\n",
        "# plt.figure(figsize=(6,4))\n",
        "# plt.subplot()"
      ],
      "execution_count": null,
      "outputs": [
        {
          "output_type": "execute_result",
          "data": {
            "text/plain": [
              "Text(0.5, 0, 'Year')"
            ]
          },
          "metadata": {
            "tags": []
          },
          "execution_count": 88
        },
        {
          "output_type": "display_data",
          "data": {
            "image/png": "[encoded data removed]",
            "text/plain": [
              "<Figure size 432x288 with 1 Axes>"
            ]
          },
          "metadata": {
            "tags": [],
            "needs_background": "light"
          }
        }
      ]
    },
    {
      "cell_type": "code",
      "metadata": {
        "colab": {
          "base_uri": "https://localhost:8080/",
          "height": 326
        },
        "id": "lRlKRuqYUtM0",
        "outputId": "ad08ddbe-a747-4e3c-8712-a9650e51e58e"
      },
      "source": [
        "columns = ['Year', '4-year(Public)', '2-year(Public)']\n",
        "df2 = df1[columns]\n",
        "\n",
        "df2 = df2.set_index('Year')\n",
        "df2.plot(kind = 'bar')\n",
        "plt.ylabel('Enrollments', size = 13)\n",
        "plt.xlabel('Year', size = 13)"
      ],
      "execution_count": null,
      "outputs": [
        {
          "output_type": "execute_result",
          "data": {
            "text/plain": [
              "Text(0.5, 0, 'Year')"
            ]
          },
          "metadata": {
            "tags": []
          },
          "execution_count": 89
        },
        {
          "output_type": "display_data",
          "data": {
            "image/png": "[encoded data removed]",
            "text/plain": [
              "<Figure size 432x288 with 1 Axes>"
            ]
          },
          "metadata": {
            "tags": [],
            "needs_background": "light"
          }
        }
      ]
    },
    {
      "cell_type": "code",
      "metadata": {
        "colab": {
          "base_uri": "https://localhost:8080/",
          "height": 326
        },
        "id": "VChhgqUlWyCq",
        "outputId": "e8036f8e-54f6-49eb-cc55-08ffb192a515"
      },
      "source": [
        "columns = ['Year', '4-year(Private_All)', '2-year(Private_All)']\n",
        "df2 = df1[columns]\n",
        "\n",
        "df2 = df2.set_index('Year')\n",
        "df2.plot(kind = 'bar')\n",
        "plt.ylabel('Enrollments', size = 12)\n",
        "plt.xlabel('Year', size = 12)"
      ],
      "execution_count": null,
      "outputs": [
        {
          "output_type": "execute_result",
          "data": {
            "text/plain": [
              "Text(0.5, 0, 'Year')"
            ]
          },
          "metadata": {
            "tags": []
          },
          "execution_count": 90
        },
        {
          "output_type": "display_data",
          "data": {
            "image/png": "[encoded data removed]",
            "text/plain": [
              "<Figure size 432x288 with 1 Axes>"
            ]
          },
          "metadata": {
            "tags": [],
            "needs_background": "light"
          }
        }
      ]
    },
    {
      "cell_type": "code",
      "metadata": {
        "colab": {
          "base_uri": "https://localhost:8080/",
          "height": 195
        },
        "id": "4FofdOfot-V-",
        "outputId": "881bdca9-52be-4d64-ea5a-90512f185546"
      },
      "source": [
        "columns = ['Year', 'Total(Private_NonProfit)', 'Total(Private_ForProfit)']\n",
        "df2 = df1[columns]\n",
        "\n",
        "# df2 = df2.set_index('Year')\n",
        "# df2.plot(kind = 'bar')\n",
        "# plt.ylabel('Enrollments')\n",
        "df2"
      ],
      "execution_count": null,
      "outputs": [
        {
          "output_type": "execute_result",
          "data": {
            "text/html": [
              "<div>\n",
              "<style scoped>\n",
              "    .dataframe tbody tr th:only-of-type {\n",
              "        vertical-align: middle;\n",
              "    }\n",
              "\n",
              "    .dataframe tbody tr th {\n",
              "        vertical-align: top;\n",
              "    }\n",
              "\n",
              "    .dataframe thead th {\n",
              "        text-align: right;\n",
              "    }\n",
              "</style>\n",
              "<table border=\"1\" class=\"dataframe\">\n",
              "  <thead>\n",
              "    <tr style=\"text-align: right;\">\n",
              "      <th></th>\n",
              "      <th>Year</th>\n",
              "      <th>Total(Private_NonProfit)</th>\n",
              "      <th>Total(Private_ForProfit)</th>\n",
              "    </tr>\n",
              "  </thead>\n",
              "  <tbody>\n",
              "    <tr>\n",
              "      <th>9</th>\n",
              "      <td>1978</td>\n",
              "      <td>2,408,331</td>\n",
              "      <td>65,868</td>\n",
              "    </tr>\n",
              "    <tr>\n",
              "      <th>19</th>\n",
              "      <td>1988</td>\n",
              "      <td>—</td>\n",
              "      <td>—</td>\n",
              "    </tr>\n",
              "    <tr>\n",
              "      <th>29</th>\n",
              "      <td>1998</td>\n",
              "      <td>3,004,925</td>\n",
              "      <td>364,273</td>\n",
              "    </tr>\n",
              "    <tr>\n",
              "      <th>39</th>\n",
              "      <td>2008</td>\n",
              "      <td>3,660,827</td>\n",
              "      <td>1,449,997</td>\n",
              "    </tr>\n",
              "    <tr>\n",
              "      <th>49</th>\n",
              "      <td>2018</td>\n",
              "      <td>4,134,244</td>\n",
              "      <td>982,410</td>\n",
              "    </tr>\n",
              "  </tbody>\n",
              "</table>\n",
              "</div>"
            ],
            "text/plain": [
              "    Year Total(Private_NonProfit) Total(Private_ForProfit)\n",
              "9   1978                2,408,331                   65,868\n",
              "19  1988                        —                        —\n",
              "29  1998                3,004,925                  364,273\n",
              "39  2008                3,660,827                1,449,997\n",
              "49  2018                4,134,244                  982,410"
            ]
          },
          "metadata": {
            "tags": []
          },
          "execution_count": 92
        }
      ]
    },
    {
      "cell_type": "code",
      "metadata": {
        "id": "sFF9_VrRdTL4",
        "colab": {
          "base_uri": "https://localhost:8080/",
          "height": 290
        },
        "outputId": "3233f0e3-d73c-4965-c15d-6d2587f3feb3"
      },
      "source": [
        "plt.figure(figsize = (6,4))\n",
        "plt.subplot()\n",
        "\n",
        "plt.scatter(data = df, x = 'Year', y = 'Total(All)')\n",
        "plt.scatter(data = df, x = 'Year', y = 'Total(Public)')\n",
        "plt.scatter(data = df, x = 'Year', y = 'Total(Private_All)')\n",
        "# plt.scatter(data = df, x = 'Year', y = '4-year(All)')\n",
        "# plt.scatter(data = df, x = 'Year', y = '4-year(Public)')\n",
        "# plt.scatter(data = df, x = 'Year', y = '4-year(Private_All)')\n",
        "# plt.scatter(data = df, x = 'Year', y = '2-year(All)')\n",
        "# plt.scatter(data = df, x = 'Year', y = '2-year(Public)')\n",
        "# plt.scatter(data = df, x = 'Year', y = '2-year(Private_All)')\n",
        "plt.xlabel('Year')\n",
        "plt.ylabel('Enrollments in the U.S.')\n",
        "plt.legend(['All colleges','4 year colleges','2 year colleges'])\n",
        "plt.show()"
      ],
      "execution_count": null,
      "outputs": [
        {
          "output_type": "display_data",
          "data": {
            "image/png": "[encoded data removed]",
            "text/plain": [
              "<Figure size 432x288 with 1 Axes>"
            ]
          },
          "metadata": {
            "tags": [],
            "needs_background": "light"
          }
        }
      ]
    },
    {
      "cell_type": "code",
      "metadata": {
        "id": "Yc4rxLOJmZYS",
        "colab": {
          "base_uri": "https://localhost:8080/",
          "height": 403
        },
        "outputId": "633bbf4f-d60d-4f3a-d3f3-d79235b575b7"
      },
      "source": [
        "list_yrs = np.arange(1978, 2019)\n",
        "# print(list_yrs)\n",
        "\n",
        "plt.figure(figsize = (8,6))\n",
        "plt.subplot()\n",
        "\n",
        "plt.xticks = list_yrs\n",
        "plt.plot(df['Year'], df['Total(All)'], ls = '-', marker = '.', markersize = 7)\n",
        "plt.plot(df['Year'], df['Total(Public)'], marker = '.', markersize = 7)\n",
        "plt.plot(df['Year'], df['Total(Private_All)'],  marker = '.', markersize = 7)\n",
        "plt.xlabel('Year', size = 14)\n",
        "plt.ylabel('Enrollments in the U.S.', size = 14)\n",
        "plt.legend(['All colleges','4 year colleges','2 year colleges'])\n",
        "plt.show()"
      ],
      "execution_count": null,
      "outputs": [
        {
          "output_type": "display_data",
          "data": {
            "image/png": "[encoded data removed]",
            "text/plain": [
              "<Figure size 576x432 with 1 Axes>"
            ]
          },
          "metadata": {
            "tags": [],
            "needs_background": "light"
          }
        }
      ]
    },
    {
      "cell_type": "code",
      "metadata": {
        "id": "q_abR5Z5zhmn"
      },
      "source": [
        ""
      ],
      "execution_count": null,
      "outputs": []
    },
    {
      "cell_type": "code",
      "metadata": {
        "colab": {
          "base_uri": "https://localhost:8080/",
          "height": 260
        },
        "id": "ujTZQR5Bb9eC",
        "outputId": "b07b4bd0-126a-422a-fef2-5c45e54f929e"
      },
      "source": [
        "df_new = pd.read_csv('/content/drive/MyDrive/Modified table NCES.txt', delimiter='\\t')\n",
        "df_new.head(10)"
      ],
      "execution_count": null,
      "outputs": [
        {
          "output_type": "execute_result",
          "data": {
            "text/html": [
              "<div>\n",
              "<style scoped>\n",
              "    .dataframe tbody tr th:only-of-type {\n",
              "        vertical-align: middle;\n",
              "    }\n",
              "\n",
              "    .dataframe tbody tr th {\n",
              "        vertical-align: top;\n",
              "    }\n",
              "\n",
              "    .dataframe thead th {\n",
              "        text-align: right;\n",
              "    }\n",
              "</style>\n",
              "<table border=\"1\" class=\"dataframe\">\n",
              "  <thead>\n",
              "    <tr style=\"text-align: right;\">\n",
              "      <th></th>\n",
              "      <th>Highest_degree_offered</th>\n",
              "      <th>Total</th>\n",
              "      <th>Age under 18</th>\n",
              "      <th>Age 18-19</th>\n",
              "      <th>Age 20-21</th>\n",
              "      <th>Age 22-24</th>\n",
              "      <th>Age 25-29</th>\n",
              "      <th>Age 30-34</th>\n",
              "      <th>Age 35-39</th>\n",
              "      <th>Age 40-49</th>\n",
              "      <th>Age 50-64</th>\n",
              "      <th>Age 65 and over</th>\n",
              "    </tr>\n",
              "  </thead>\n",
              "  <tbody>\n",
              "    <tr>\n",
              "      <th>0</th>\n",
              "      <td>Total</td>\n",
              "      <td>182,869</td>\n",
              "      <td>9,119</td>\n",
              "      <td>52,392</td>\n",
              "      <td>44,842</td>\n",
              "      <td>31,867</td>\n",
              "      <td>18,237</td>\n",
              "      <td>8,601</td>\n",
              "      <td>5,606</td>\n",
              "      <td>7,264</td>\n",
              "      <td>4,384</td>\n",
              "      <td>557</td>\n",
              "    </tr>\n",
              "    <tr>\n",
              "      <th>1</th>\n",
              "      <td>Doctor's_degree-research/scholarship_and_profe...</td>\n",
              "      <td>40,885</td>\n",
              "      <td>1,133</td>\n",
              "      <td>11,255</td>\n",
              "      <td>10,021</td>\n",
              "      <td>8,757</td>\n",
              "      <td>4,727</td>\n",
              "      <td>1,858</td>\n",
              "      <td>1,058</td>\n",
              "      <td>1,293</td>\n",
              "      <td>730</td>\n",
              "      <td>53</td>\n",
              "    </tr>\n",
              "    <tr>\n",
              "      <th>2</th>\n",
              "      <td>Doctor's_degree - research/scholarship</td>\n",
              "      <td>95,902</td>\n",
              "      <td>3,666</td>\n",
              "      <td>27,087</td>\n",
              "      <td>24,344</td>\n",
              "      <td>16,413</td>\n",
              "      <td>9,445</td>\n",
              "      <td>4,733</td>\n",
              "      <td>3,125</td>\n",
              "      <td>4,136</td>\n",
              "      <td>2,569</td>\n",
              "      <td>384</td>\n",
              "    </tr>\n",
              "    <tr>\n",
              "      <th>3</th>\n",
              "      <td>Doctor's_degree - professional practice</td>\n",
              "      <td>13,127</td>\n",
              "      <td>660</td>\n",
              "      <td>3,866</td>\n",
              "      <td>2,846</td>\n",
              "      <td>1,913</td>\n",
              "      <td>1,462</td>\n",
              "      <td>708</td>\n",
              "      <td>508</td>\n",
              "      <td>680</td>\n",
              "      <td>448</td>\n",
              "      <td>36</td>\n",
              "    </tr>\n",
              "    <tr>\n",
              "      <th>4</th>\n",
              "      <td>Master's_degree</td>\n",
              "      <td>27,436</td>\n",
              "      <td>3,462</td>\n",
              "      <td>8,010</td>\n",
              "      <td>6,193</td>\n",
              "      <td>3,952</td>\n",
              "      <td>2,207</td>\n",
              "      <td>1,149</td>\n",
              "      <td>796</td>\n",
              "      <td>1,024</td>\n",
              "      <td>564</td>\n",
              "      <td>79</td>\n",
              "    </tr>\n",
              "    <tr>\n",
              "      <th>5</th>\n",
              "      <td>Bachelor's_degree</td>\n",
              "      <td>5,519</td>\n",
              "      <td>198</td>\n",
              "      <td>2,174</td>\n",
              "      <td>1,438</td>\n",
              "      <td>832</td>\n",
              "      <td>396</td>\n",
              "      <td>153</td>\n",
              "      <td>119</td>\n",
              "      <td>131</td>\n",
              "      <td>73</td>\n",
              "      <td>5</td>\n",
              "    </tr>\n",
              "  </tbody>\n",
              "</table>\n",
              "</div>"
            ],
            "text/plain": [
              "                              Highest_degree_offered  ... Age 65 and over\n",
              "0                                              Total  ...             557\n",
              "1  Doctor's_degree-research/scholarship_and_profe...  ...              53\n",
              "2             Doctor's_degree - research/scholarship  ...             384\n",
              "3            Doctor's_degree - professional practice  ...              36\n",
              "4                                    Master's_degree  ...              79\n",
              "5                                  Bachelor's_degree  ...               5\n",
              "\n",
              "[6 rows x 12 columns]"
            ]
          },
          "metadata": {
            "tags": []
          },
          "execution_count": 10
        }
      ]
    },
    {
      "cell_type": "code",
      "metadata": {
        "id": "kbfR_BPu7yJ2"
      },
      "source": [
        ""
      ],
      "execution_count": null,
      "outputs": []
    },
    {
      "cell_type": "code",
      "metadata": {
        "colab": {
          "base_uri": "https://localhost:8080/",
          "height": 306
        },
        "id": "nnyU7uC-cWhb",
        "outputId": "4a86a49e-7897-4549-e4e6-243f75123989"
      },
      "source": [
        "df_new = df_new.set_index(df_new.columns[0])\n",
        "\n",
        "list_cols_df_new = df_new.columns\n",
        "list_cols_df_new = list_cols_df_new[:-1]\n",
        "print(list_cols_df_new)\n",
        "\n",
        "\n",
        "\n",
        "list = []\n",
        "\n",
        "for i in list_cols_df_new:\n",
        "  list = []\n",
        "  for item in df_new[i].values:\n",
        "    l1 = re.split(',', item)\n",
        "    list.append(''.join(l1))\n",
        "# print(list)  \n",
        "  df_new[i] = list\n",
        "\n",
        "# list = []\n",
        "# for item in df_new['Age under 18'].values:\n",
        "#   l1 = re.split(',', item)\n",
        "#   list.append(''.join(l1))\n",
        "# # print(list)  \n",
        "# df_new['Age under 18'] = list\n",
        "\n",
        "# list = []\n",
        "# for item in df_new['Age 18-19'].values:\n",
        "#   l1 = re.split(',', item)\n",
        "#   list.append(''.join(l1))\n",
        "# # print(list)  \n",
        "# df_new['Age 18-19'] = list\n",
        "\n",
        "# list = []\n",
        "# for item in df_new['Age 20-21'].values:\n",
        "#   l1 = re.split(',', item)\n",
        "#   list.append(''.join(l1))\n",
        "# # print(list)  \n",
        "# df_new['Age 20-21'] = list\n",
        "\n",
        "# list = []\n",
        "# for item in df_new['Age 22-24'].values:\n",
        "#   l1 = re.split(',', item)\n",
        "#   list.append(''.join(l1))\n",
        "# # print(list)  \n",
        "# df_new['Age 22-24'] = list\n",
        "\n",
        "# list = []\n",
        "# for item in df_new['Age 25-29'].values:\n",
        "#   l1 = re.split(',', item)\n",
        "#   list.append(''.join(l1))\n",
        "# # print(list)  \n",
        "# df_new['Age 25-29'] = list\n",
        "\n",
        "# df_new = df_new.drop(df_new.columns[1], axis = 1)\n",
        "\n",
        "df_new['Total'] = df_new['Total'].astype('int')\n",
        "df_new['Age 18-19'] = df_new['Age 18-19'].astype('int')\n",
        "df_new['Age 20-21'] = df_new['Age 20-21'].astype('int')\n",
        "df_new['Age 22-24'] = df_new['Age 22-24'].astype('int')\n",
        "df_new['Age 25-29'] = df_new['Age 25-29'].astype('int')\n",
        "df_new['Age 30-34'] = df_new['Age 30-34'].astype('int')\n",
        "df_new['Age 35-39'] = df_new['Age 35-39'].astype('int')\n",
        "df_new['Age 40-49'] = df_new['Age 40-49'].astype('int')\n",
        "df_new['Age 50-64'] = df_new['Age 50-64'].astype('int')\n",
        "df_new['Age 65 and over'] = df_new['Age 65 and over'].astype('int')\n",
        "\n",
        "df_new_edit = pd.DataFrame()\n",
        "df_new_edit['Age under 18'] = df_new['Age under 18']\n",
        "df_new_edit['Age 18-24'] = df_new['Age 18-19'] + df_new['Age 20-21'] + df_new['Age 22-24']\n",
        "df_new_edit['Age 25-39'] = df_new['Age 25-29'] + df_new['Age 30-34'] + df_new['Age 35-39']\n",
        "df_new_edit['Age 40 and over'] =  df_new['Age 40-49'] + df_new['Age 50-64'] + df_new['Age 65 and over']\n",
        "\n",
        "\n",
        "df_new_edit\n",
        "\n"
      ],
      "execution_count": null,
      "outputs": [
        {
          "output_type": "stream",
          "text": [
            "Index(['Total', 'Age under 18', 'Age 18-19', 'Age 20-21', 'Age 22-24',\n",
            "       'Age 25-29', 'Age 30-34', 'Age 35-39', 'Age 40-49', 'Age 50-64'],\n",
            "      dtype='object')\n"
          ],
          "name": "stdout"
        },
        {
          "output_type": "execute_result",
          "data": {
            "text/html": [
              "<div>\n",
              "<style scoped>\n",
              "    .dataframe tbody tr th:only-of-type {\n",
              "        vertical-align: middle;\n",
              "    }\n",
              "\n",
              "    .dataframe tbody tr th {\n",
              "        vertical-align: top;\n",
              "    }\n",
              "\n",
              "    .dataframe thead th {\n",
              "        text-align: right;\n",
              "    }\n",
              "</style>\n",
              "<table border=\"1\" class=\"dataframe\">\n",
              "  <thead>\n",
              "    <tr style=\"text-align: right;\">\n",
              "      <th></th>\n",
              "      <th>Age under 18</th>\n",
              "      <th>Age 18-24</th>\n",
              "      <th>Age 25-39</th>\n",
              "      <th>Age 40 and over</th>\n",
              "    </tr>\n",
              "    <tr>\n",
              "      <th>Highest_degree_offered</th>\n",
              "      <th></th>\n",
              "      <th></th>\n",
              "      <th></th>\n",
              "      <th></th>\n",
              "    </tr>\n",
              "  </thead>\n",
              "  <tbody>\n",
              "    <tr>\n",
              "      <th>Total</th>\n",
              "      <td>9119</td>\n",
              "      <td>129101</td>\n",
              "      <td>32444</td>\n",
              "      <td>12205</td>\n",
              "    </tr>\n",
              "    <tr>\n",
              "      <th>Doctor's_degree-research/scholarship_and_professional_practice</th>\n",
              "      <td>1133</td>\n",
              "      <td>30033</td>\n",
              "      <td>7643</td>\n",
              "      <td>2076</td>\n",
              "    </tr>\n",
              "    <tr>\n",
              "      <th>Doctor's_degree - research/scholarship</th>\n",
              "      <td>3666</td>\n",
              "      <td>67844</td>\n",
              "      <td>17303</td>\n",
              "      <td>7089</td>\n",
              "    </tr>\n",
              "    <tr>\n",
              "      <th>Doctor's_degree - professional practice</th>\n",
              "      <td>660</td>\n",
              "      <td>8625</td>\n",
              "      <td>2678</td>\n",
              "      <td>1164</td>\n",
              "    </tr>\n",
              "    <tr>\n",
              "      <th>Master's_degree</th>\n",
              "      <td>3462</td>\n",
              "      <td>18155</td>\n",
              "      <td>4152</td>\n",
              "      <td>1667</td>\n",
              "    </tr>\n",
              "    <tr>\n",
              "      <th>Bachelor's_degree</th>\n",
              "      <td>198</td>\n",
              "      <td>4444</td>\n",
              "      <td>668</td>\n",
              "      <td>209</td>\n",
              "    </tr>\n",
              "  </tbody>\n",
              "</table>\n",
              "</div>"
            ],
            "text/plain": [
              "                                                   Age under 18  ...  Age 40 and over\n",
              "Highest_degree_offered                                           ...                 \n",
              "Total                                                      9119  ...            12205\n",
              "Doctor's_degree-research/scholarship_and_profes...         1133  ...             2076\n",
              "Doctor's_degree - research/scholarship                     3666  ...             7089\n",
              "Doctor's_degree - professional practice                     660  ...             1164\n",
              "Master's_degree                                            3462  ...             1667\n",
              "Bachelor's_degree                                           198  ...              209\n",
              "\n",
              "[6 rows x 4 columns]"
            ]
          },
          "metadata": {
            "tags": []
          },
          "execution_count": 11
        }
      ]
    },
    {
      "cell_type": "code",
      "metadata": {
        "colab": {
          "base_uri": "https://localhost:8080/",
          "height": 282
        },
        "id": "L3YU5mj5zJgS",
        "outputId": "ca6b61cb-3183-42bf-ca6f-7d92b8cf82a7"
      },
      "source": [
        "# plt.figure(figsize = (30,16))\n",
        "df_new_edit.plot(kind = 'barh')"
      ],
      "execution_count": null,
      "outputs": [
        {
          "output_type": "execute_result",
          "data": {
            "text/plain": [
              "<matplotlib.axes._subplots.AxesSubplot at 0x7f6975715350>"
            ]
          },
          "metadata": {
            "tags": []
          },
          "execution_count": 42
        },
        {
          "output_type": "display_data",
          "data": {
            "image/png": "[encoded data removed]",
            "text/plain": [
              "<Figure size 432x288 with 1 Axes>"
            ]
          },
          "metadata": {
            "tags": [],
            "needs_background": "light"
          }
        }
      ]
    },
    {
      "cell_type": "code",
      "metadata": {
        "colab": {
          "base_uri": "https://localhost:8080/",
          "height": 343
        },
        "id": "fVRofeMfcckX",
        "outputId": "99797d0f-785a-4f25-a677-18815b6ec365"
      },
      "source": [
        "corr_mtx = df_new.corr()\n",
        "corr_mtx"
      ],
      "execution_count": null,
      "outputs": [
        {
          "output_type": "execute_result",
          "data": {
            "text/html": [
              "<div>\n",
              "<style scoped>\n",
              "    .dataframe tbody tr th:only-of-type {\n",
              "        vertical-align: middle;\n",
              "    }\n",
              "\n",
              "    .dataframe tbody tr th {\n",
              "        vertical-align: top;\n",
              "    }\n",
              "\n",
              "    .dataframe thead th {\n",
              "        text-align: right;\n",
              "    }\n",
              "</style>\n",
              "<table border=\"1\" class=\"dataframe\">\n",
              "  <thead>\n",
              "    <tr style=\"text-align: right;\">\n",
              "      <th></th>\n",
              "      <th>Total</th>\n",
              "      <th>Age 18-19</th>\n",
              "      <th>Age 20-21</th>\n",
              "      <th>Age 22-24</th>\n",
              "      <th>Age 25-29</th>\n",
              "      <th>Age 30-34</th>\n",
              "      <th>Age 35-39</th>\n",
              "      <th>Age 40-49</th>\n",
              "      <th>Age 50-64</th>\n",
              "      <th>Age 65 and over</th>\n",
              "    </tr>\n",
              "  </thead>\n",
              "  <tbody>\n",
              "    <tr>\n",
              "      <th>Total</th>\n",
              "      <td>1.000000</td>\n",
              "      <td>0.999825</td>\n",
              "      <td>0.999660</td>\n",
              "      <td>0.997446</td>\n",
              "      <td>0.998336</td>\n",
              "      <td>0.999208</td>\n",
              "      <td>0.998110</td>\n",
              "      <td>0.996828</td>\n",
              "      <td>0.994426</td>\n",
              "      <td>0.976077</td>\n",
              "    </tr>\n",
              "    <tr>\n",
              "      <th>Age 18-19</th>\n",
              "      <td>0.999825</td>\n",
              "      <td>1.000000</td>\n",
              "      <td>0.999322</td>\n",
              "      <td>0.996527</td>\n",
              "      <td>0.997546</td>\n",
              "      <td>0.998713</td>\n",
              "      <td>0.997995</td>\n",
              "      <td>0.996712</td>\n",
              "      <td>0.994280</td>\n",
              "      <td>0.975933</td>\n",
              "    </tr>\n",
              "    <tr>\n",
              "      <th>Age 20-21</th>\n",
              "      <td>0.999660</td>\n",
              "      <td>0.999322</td>\n",
              "      <td>1.000000</td>\n",
              "      <td>0.997399</td>\n",
              "      <td>0.998184</td>\n",
              "      <td>0.999519</td>\n",
              "      <td>0.998388</td>\n",
              "      <td>0.997329</td>\n",
              "      <td>0.995379</td>\n",
              "      <td>0.979106</td>\n",
              "    </tr>\n",
              "    <tr>\n",
              "      <th>Age 22-24</th>\n",
              "      <td>0.997446</td>\n",
              "      <td>0.996527</td>\n",
              "      <td>0.997399</td>\n",
              "      <td>1.000000</td>\n",
              "      <td>0.999508</td>\n",
              "      <td>0.996229</td>\n",
              "      <td>0.992576</td>\n",
              "      <td>0.990372</td>\n",
              "      <td>0.987269</td>\n",
              "      <td>0.963279</td>\n",
              "    </tr>\n",
              "    <tr>\n",
              "      <th>Age 25-29</th>\n",
              "      <td>0.998336</td>\n",
              "      <td>0.997546</td>\n",
              "      <td>0.998184</td>\n",
              "      <td>0.999508</td>\n",
              "      <td>1.000000</td>\n",
              "      <td>0.997867</td>\n",
              "      <td>0.995024</td>\n",
              "      <td>0.993212</td>\n",
              "      <td>0.990719</td>\n",
              "      <td>0.967453</td>\n",
              "    </tr>\n",
              "    <tr>\n",
              "      <th>Age 30-34</th>\n",
              "      <td>0.999208</td>\n",
              "      <td>0.998713</td>\n",
              "      <td>0.999519</td>\n",
              "      <td>0.996229</td>\n",
              "      <td>0.997867</td>\n",
              "      <td>1.000000</td>\n",
              "      <td>0.999331</td>\n",
              "      <td>0.998629</td>\n",
              "      <td>0.997258</td>\n",
              "      <td>0.981481</td>\n",
              "    </tr>\n",
              "    <tr>\n",
              "      <th>Age 35-39</th>\n",
              "      <td>0.998110</td>\n",
              "      <td>0.997995</td>\n",
              "      <td>0.998388</td>\n",
              "      <td>0.992576</td>\n",
              "      <td>0.995024</td>\n",
              "      <td>0.999331</td>\n",
              "      <td>1.000000</td>\n",
              "      <td>0.999828</td>\n",
              "      <td>0.998990</td>\n",
              "      <td>0.986253</td>\n",
              "    </tr>\n",
              "    <tr>\n",
              "      <th>Age 40-49</th>\n",
              "      <td>0.996828</td>\n",
              "      <td>0.996712</td>\n",
              "      <td>0.997329</td>\n",
              "      <td>0.990372</td>\n",
              "      <td>0.993212</td>\n",
              "      <td>0.998629</td>\n",
              "      <td>0.999828</td>\n",
              "      <td>1.000000</td>\n",
              "      <td>0.999606</td>\n",
              "      <td>0.988898</td>\n",
              "    </tr>\n",
              "    <tr>\n",
              "      <th>Age 50-64</th>\n",
              "      <td>0.994426</td>\n",
              "      <td>0.994280</td>\n",
              "      <td>0.995379</td>\n",
              "      <td>0.987269</td>\n",
              "      <td>0.990719</td>\n",
              "      <td>0.997258</td>\n",
              "      <td>0.998990</td>\n",
              "      <td>0.999606</td>\n",
              "      <td>1.000000</td>\n",
              "      <td>0.991364</td>\n",
              "    </tr>\n",
              "    <tr>\n",
              "      <th>Age 65 and over</th>\n",
              "      <td>0.976077</td>\n",
              "      <td>0.975933</td>\n",
              "      <td>0.979106</td>\n",
              "      <td>0.963279</td>\n",
              "      <td>0.967453</td>\n",
              "      <td>0.981481</td>\n",
              "      <td>0.986253</td>\n",
              "      <td>0.988898</td>\n",
              "      <td>0.991364</td>\n",
              "      <td>1.000000</td>\n",
              "    </tr>\n",
              "  </tbody>\n",
              "</table>\n",
              "</div>"
            ],
            "text/plain": [
              "                    Total  Age 18-19  ...  Age 50-64  Age 65 and over\n",
              "Total            1.000000   0.999825  ...   0.994426         0.976077\n",
              "Age 18-19        0.999825   1.000000  ...   0.994280         0.975933\n",
              "Age 20-21        0.999660   0.999322  ...   0.995379         0.979106\n",
              "Age 22-24        0.997446   0.996527  ...   0.987269         0.963279\n",
              "Age 25-29        0.998336   0.997546  ...   0.990719         0.967453\n",
              "Age 30-34        0.999208   0.998713  ...   0.997258         0.981481\n",
              "Age 35-39        0.998110   0.997995  ...   0.998990         0.986253\n",
              "Age 40-49        0.996828   0.996712  ...   0.999606         0.988898\n",
              "Age 50-64        0.994426   0.994280  ...   1.000000         0.991364\n",
              "Age 65 and over  0.976077   0.975933  ...   0.991364         1.000000\n",
              "\n",
              "[10 rows x 10 columns]"
            ]
          },
          "metadata": {
            "tags": []
          },
          "execution_count": 43
        }
      ]
    },
    {
      "cell_type": "code",
      "metadata": {
        "colab": {
          "base_uri": "https://localhost:8080/",
          "height": 359
        },
        "id": "GzAMjszTgDYd",
        "outputId": "3637193c-22cd-4151-e1ab-6dadb061639d"
      },
      "source": [
        "sns.heatmap(corr_mtx, annot = True, cmap = 'Blues')"
      ],
      "execution_count": null,
      "outputs": [
        {
          "output_type": "execute_result",
          "data": {
            "text/plain": [
              "<matplotlib.axes._subplots.AxesSubplot at 0x7f697581f5d0>"
            ]
          },
          "metadata": {
            "tags": []
          },
          "execution_count": 44
        },
        {
          "output_type": "display_data",
          "data": {
            "image/png": "[encoded data removed]",
            "text/plain": [
              "<Figure size 432x288 with 2 Axes>"
            ]
          },
          "metadata": {
            "tags": [],
            "needs_background": "light"
          }
        }
      ]
    },
    {
      "cell_type": "code",
      "metadata": {
        "colab": {
          "base_uri": "https://localhost:8080/",
          "height": 563
        },
        "id": "txzPS2p1dRnV",
        "outputId": "85b8d48f-9c99-4bee-cdd6-69396dbe510b"
      },
      "source": [
        "# data_plot = sns.PairGrid(df_new, hue = 'Highest_degree_offered')\n",
        "data_plot = sns.PairGrid(df_new_edit)\n",
        "data_plot.map(plt.scatter)"
      ],
      "execution_count": null,
      "outputs": [
        {
          "output_type": "execute_result",
          "data": {
            "text/plain": [
              "<seaborn.axisgrid.PairGrid at 0x7f6975a1db10>"
            ]
          },
          "metadata": {
            "tags": []
          },
          "execution_count": 45
        },
        {
          "output_type": "display_data",
          "data": {
            "image/png": "[encoded data removed]",
            "text/plain": [
              "<Figure size 540x540 with 9 Axes>"
            ]
          },
          "metadata": {
            "tags": [],
            "needs_background": "light"
          }
        }
      ]
    },
    {
      "cell_type": "code",
      "metadata": {
        "colab": {
          "base_uri": "https://localhost:8080/",
          "height": 314
        },
        "id": "JSlSv8c2-WOV",
        "outputId": "86bcf78d-fa35-433b-d692-5f5177a6e61b"
      },
      "source": [
        "df_ageVShd = pd.read_csv('/content/drive/MyDrive/Age demographics>25 vs highest degree.txt', delimiter = '\\t')\n",
        "df_ageVShd\n",
        "\n",
        "list_cols_df_ageVShd = df_ageVShd.columns\n",
        "list_cols_df_ageVShd = list_cols_df_ageVShd[1:]\n",
        "\n",
        "\n",
        "list = []\n",
        "for i in list_cols_df_ageVShd:\n",
        "  list = []\n",
        "  for item in df_ageVShd[i]:\n",
        "    list.append(''.join(re.split(',', item)))\n",
        "  df_ageVShd[i] = list\n",
        "  df_ageVShd[i] = df_ageVShd[i].astype('int')\n",
        "\n",
        "# df_ageVShd.set_index(df_ageVShd.columns[0])\n",
        "df_ageVShd_1 = pd.DataFrame()\n",
        "df_ageVShd_1 = df_ageVShd.drop('Total', axis = 1)\n",
        "df_ageVShd_1 = df_ageVShd_1.drop(0, axis = 0)\n",
        "df_ageVShd_1 = df_ageVShd_1.set_index(df_ageVShd_1.columns[0])\n",
        "df_ageVShd_1"
      ],
      "execution_count": null,
      "outputs": [
        {
          "output_type": "execute_result",
          "data": {
            "text/html": [
              "<div>\n",
              "<style scoped>\n",
              "    .dataframe tbody tr th:only-of-type {\n",
              "        vertical-align: middle;\n",
              "    }\n",
              "\n",
              "    .dataframe tbody tr th {\n",
              "        vertical-align: top;\n",
              "    }\n",
              "\n",
              "    .dataframe thead th {\n",
              "        text-align: right;\n",
              "    }\n",
              "</style>\n",
              "<table border=\"1\" class=\"dataframe\">\n",
              "  <thead>\n",
              "    <tr style=\"text-align: right;\">\n",
              "      <th></th>\n",
              "      <th>Age 25-29</th>\n",
              "      <th>Age 30-34</th>\n",
              "      <th>Age 35-39</th>\n",
              "      <th>Age 40-49</th>\n",
              "      <th>Age 50-64</th>\n",
              "      <th>Age 65 and over</th>\n",
              "    </tr>\n",
              "    <tr>\n",
              "      <th>Highest degree offered</th>\n",
              "      <th></th>\n",
              "      <th></th>\n",
              "      <th></th>\n",
              "      <th></th>\n",
              "      <th></th>\n",
              "      <th></th>\n",
              "    </tr>\n",
              "  </thead>\n",
              "  <tbody>\n",
              "    <tr>\n",
              "      <th>Non-degree granting</th>\n",
              "      <td>66071</td>\n",
              "      <td>38164</td>\n",
              "      <td>23294</td>\n",
              "      <td>22267</td>\n",
              "      <td>9548</td>\n",
              "      <td>737</td>\n",
              "    </tr>\n",
              "    <tr>\n",
              "      <th>Doctor's degree - research/scholarship and professional practice</th>\n",
              "      <td>917534</td>\n",
              "      <td>406672</td>\n",
              "      <td>230231</td>\n",
              "      <td>244748</td>\n",
              "      <td>113806</td>\n",
              "      <td>11491</td>\n",
              "    </tr>\n",
              "    <tr>\n",
              "      <th>Doctor's degree - research/scholarship</th>\n",
              "      <td>315030</td>\n",
              "      <td>208936</td>\n",
              "      <td>154626</td>\n",
              "      <td>190718</td>\n",
              "      <td>95184</td>\n",
              "      <td>7389</td>\n",
              "    </tr>\n",
              "    <tr>\n",
              "      <th>Doctor's degree - professional practice</th>\n",
              "      <td>182942</td>\n",
              "      <td>98361</td>\n",
              "      <td>67773</td>\n",
              "      <td>79859</td>\n",
              "      <td>37805</td>\n",
              "      <td>3308</td>\n",
              "    </tr>\n",
              "    <tr>\n",
              "      <th>Doctor's degree - other</th>\n",
              "      <td>21330</td>\n",
              "      <td>8851</td>\n",
              "      <td>5523</td>\n",
              "      <td>6745</td>\n",
              "      <td>4501</td>\n",
              "      <td>640</td>\n",
              "    </tr>\n",
              "    <tr>\n",
              "      <th>Master's degree</th>\n",
              "      <td>258836</td>\n",
              "      <td>170060</td>\n",
              "      <td>123934</td>\n",
              "      <td>150064</td>\n",
              "      <td>69102</td>\n",
              "      <td>5341</td>\n",
              "    </tr>\n",
              "    <tr>\n",
              "      <th>Bachelor's degree</th>\n",
              "      <td>206268</td>\n",
              "      <td>117902</td>\n",
              "      <td>76939</td>\n",
              "      <td>86040</td>\n",
              "      <td>43364</td>\n",
              "      <td>7228</td>\n",
              "    </tr>\n",
              "    <tr>\n",
              "      <th>Associate's degree</th>\n",
              "      <td>675732</td>\n",
              "      <td>393687</td>\n",
              "      <td>256354</td>\n",
              "      <td>291700</td>\n",
              "      <td>160362</td>\n",
              "      <td>33275</td>\n",
              "    </tr>\n",
              "  </tbody>\n",
              "</table>\n",
              "</div>"
            ],
            "text/plain": [
              "                                                    Age 25-29  ...  Age 65 and over\n",
              "Highest degree offered                                         ...                 \n",
              "Non-degree granting                                     66071  ...              737\n",
              "Doctor's degree - research/scholarship and prof...     917534  ...            11491\n",
              "Doctor's degree - research/scholarship                 315030  ...             7389\n",
              "Doctor's degree - professional practice                182942  ...             3308\n",
              "Doctor's degree - other                                 21330  ...              640\n",
              "Master's degree                                        258836  ...             5341\n",
              "Bachelor's degree                                      206268  ...             7228\n",
              "Associate's degree                                     675732  ...            33275\n",
              "\n",
              "[8 rows x 6 columns]"
            ]
          },
          "metadata": {
            "tags": []
          },
          "execution_count": 46
        }
      ]
    },
    {
      "cell_type": "code",
      "metadata": {
        "colab": {
          "base_uri": "https://localhost:8080/",
          "height": 500
        },
        "id": "8GSkpV-r-Y9h",
        "outputId": "89885883-4d77-4f2e-83f4-40bd4938d86a"
      },
      "source": [
        "# plt.figure(figsize = (12,8))\n",
        "\n",
        "# for i in list_cols_df_ageVShd:\n",
        "#   plt.plot(df_ageVShd['Highest degree offered'], df_ageVShd[i], kind = 'bar')\n",
        "\n",
        "df_ageVShd_1.plot(kind = 'barh', ylabel = 'Number of students enrolled in 2018-19', figsize = (12,8))"
      ],
      "execution_count": null,
      "outputs": [
        {
          "output_type": "execute_result",
          "data": {
            "text/plain": [
              "<matplotlib.axes._subplots.AxesSubplot at 0x7f696c9684d0>"
            ]
          },
          "metadata": {
            "tags": []
          },
          "execution_count": 47
        },
        {
          "output_type": "display_data",
          "data": {
            "image/png": "[encoded data removed]",
            "text/plain": [
              "<Figure size 864x576 with 1 Axes>"
            ]
          },
          "metadata": {
            "tags": [],
            "needs_background": "light"
          }
        }
      ]
    },
    {
      "cell_type": "code",
      "metadata": {
        "colab": {
          "base_uri": "https://localhost:8080/",
          "height": 314
        },
        "id": "JPcG-UeQ_BhR",
        "outputId": "a30f8d19-0adb-4f14-fae6-e7f5a9c70970"
      },
      "source": [
        "df_ageVShd = pd.read_csv('/content/drive/MyDrive/Age demographics>18 vs highest degree.txt', delimiter = '\\t')\n",
        "df_ageVShd\n",
        "\n",
        "list_cols_df_ageVShd = df_ageVShd.columns\n",
        "list_cols_df_ageVShd = list_cols_df_ageVShd[1:]\n",
        "\n",
        "\n",
        "list = []\n",
        "for i in list_cols_df_ageVShd:\n",
        "  list = []\n",
        "  for item in df_ageVShd[i]:\n",
        "    list.append(''.join(re.split(',', item)))\n",
        "  df_ageVShd[i] = list\n",
        "  df_ageVShd[i] = df_ageVShd[i].astype('int')\n",
        "\n",
        "# df_ageVShd.set_index(df_ageVShd.columns[0])\n",
        "df_ageVShd_1 = pd.DataFrame()\n",
        "df_ageVShd_1 = df_ageVShd.drop('Total', axis = 1)\n",
        "df_ageVShd_1 = df_ageVShd_1.drop(0, axis = 0)\n",
        "df_ageVShd_1 = df_ageVShd_1.set_index(df_ageVShd_1.columns[0])\n",
        "df_ageVShd_1"
      ],
      "execution_count": null,
      "outputs": [
        {
          "output_type": "execute_result",
          "data": {
            "text/html": [
              "<div>\n",
              "<style scoped>\n",
              "    .dataframe tbody tr th:only-of-type {\n",
              "        vertical-align: middle;\n",
              "    }\n",
              "\n",
              "    .dataframe tbody tr th {\n",
              "        vertical-align: top;\n",
              "    }\n",
              "\n",
              "    .dataframe thead th {\n",
              "        text-align: right;\n",
              "    }\n",
              "</style>\n",
              "<table border=\"1\" class=\"dataframe\">\n",
              "  <thead>\n",
              "    <tr style=\"text-align: right;\">\n",
              "      <th></th>\n",
              "      <th>Age under 18</th>\n",
              "      <th>Age 18-19</th>\n",
              "      <th>Age 20-21</th>\n",
              "      <th>Age 22-24</th>\n",
              "      <th>Age 25-29</th>\n",
              "      <th>Age 30-34</th>\n",
              "    </tr>\n",
              "    <tr>\n",
              "      <th>Highest degree offered</th>\n",
              "      <th></th>\n",
              "      <th></th>\n",
              "      <th></th>\n",
              "      <th></th>\n",
              "      <th></th>\n",
              "      <th></th>\n",
              "    </tr>\n",
              "  </thead>\n",
              "  <tbody>\n",
              "    <tr>\n",
              "      <th>Non-degree granting</th>\n",
              "      <td>30537</td>\n",
              "      <td>65162</td>\n",
              "      <td>54765</td>\n",
              "      <td>55654</td>\n",
              "      <td>66071</td>\n",
              "      <td>38164</td>\n",
              "    </tr>\n",
              "    <tr>\n",
              "      <th>Doctor's degree - research/scholarship and professional practice</th>\n",
              "      <td>160423</td>\n",
              "      <td>1596606</td>\n",
              "      <td>1690049</td>\n",
              "      <td>1240499</td>\n",
              "      <td>917534</td>\n",
              "      <td>406672</td>\n",
              "    </tr>\n",
              "    <tr>\n",
              "      <th>Doctor's degree - research/scholarship</th>\n",
              "      <td>51756</td>\n",
              "      <td>373474</td>\n",
              "      <td>381574</td>\n",
              "      <td>310590</td>\n",
              "      <td>315030</td>\n",
              "      <td>208936</td>\n",
              "    </tr>\n",
              "    <tr>\n",
              "      <th>Doctor's degree - professional practice</th>\n",
              "      <td>59030</td>\n",
              "      <td>259472</td>\n",
              "      <td>261096</td>\n",
              "      <td>213994</td>\n",
              "      <td>182942</td>\n",
              "      <td>98361</td>\n",
              "    </tr>\n",
              "    <tr>\n",
              "      <th>Doctor's degree - other</th>\n",
              "      <td>4961</td>\n",
              "      <td>33054</td>\n",
              "      <td>34620</td>\n",
              "      <td>34013</td>\n",
              "      <td>21330</td>\n",
              "      <td>8851</td>\n",
              "    </tr>\n",
              "    <tr>\n",
              "      <th>Master's degree</th>\n",
              "      <td>100084</td>\n",
              "      <td>448533</td>\n",
              "      <td>447087</td>\n",
              "      <td>309623</td>\n",
              "      <td>258836</td>\n",
              "      <td>170060</td>\n",
              "    </tr>\n",
              "    <tr>\n",
              "      <th>Bachelor's degree</th>\n",
              "      <td>221081</td>\n",
              "      <td>456223</td>\n",
              "      <td>352216</td>\n",
              "      <td>241204</td>\n",
              "      <td>206268</td>\n",
              "      <td>117902</td>\n",
              "    </tr>\n",
              "    <tr>\n",
              "      <th>Associate's degree</th>\n",
              "      <td>853160</td>\n",
              "      <td>1343206</td>\n",
              "      <td>897596</td>\n",
              "      <td>700652</td>\n",
              "      <td>675732</td>\n",
              "      <td>393687</td>\n",
              "    </tr>\n",
              "  </tbody>\n",
              "</table>\n",
              "</div>"
            ],
            "text/plain": [
              "                                                    Age under 18  ...  Age 30-34\n",
              "Highest degree offered                                            ...           \n",
              "Non-degree granting                                        30537  ...      38164\n",
              "Doctor's degree - research/scholarship and prof...        160423  ...     406672\n",
              "Doctor's degree - research/scholarship                     51756  ...     208936\n",
              "Doctor's degree - professional practice                    59030  ...      98361\n",
              "Doctor's degree - other                                     4961  ...       8851\n",
              "Master's degree                                           100084  ...     170060\n",
              "Bachelor's degree                                         221081  ...     117902\n",
              "Associate's degree                                        853160  ...     393687\n",
              "\n",
              "[8 rows x 6 columns]"
            ]
          },
          "metadata": {
            "tags": []
          },
          "execution_count": 48
        }
      ]
    },
    {
      "cell_type": "code",
      "metadata": {
        "colab": {
          "base_uri": "https://localhost:8080/",
          "height": 513
        },
        "id": "vF_o5VXf_Hzc",
        "outputId": "7ae77a84-abf0-47c0-f1dc-5608115f5ac6"
      },
      "source": [
        "df_ageVShd_1.plot(kind = 'barh', ylabel = 'Number of students enrolled in 2018-19', figsize = (12,8))"
      ],
      "execution_count": null,
      "outputs": [
        {
          "output_type": "execute_result",
          "data": {
            "text/plain": [
              "<matplotlib.axes._subplots.AxesSubplot at 0x7f6975705090>"
            ]
          },
          "metadata": {
            "tags": []
          },
          "execution_count": 49
        },
        {
          "output_type": "display_data",
          "data": {
            "image/png": "[encoded data removed]",
            "text/plain": [
              "<Figure size 864x576 with 1 Axes>"
            ]
          },
          "metadata": {
            "tags": [],
            "needs_background": "light"
          }
        }
      ]
    },
    {
      "cell_type": "code",
      "metadata": {
        "id": "zPzn4ytRfncz",
        "colab": {
          "base_uri": "https://localhost:8080/",
          "height": 242
        },
        "outputId": "4c2aab53-cf2f-4071-d6fc-cf999b7034bc"
      },
      "source": [
        "df_n2 = pd.read_csv('/content/drive/MyDrive/Time series degree of urbanisation 1.txt', delimiter='\\t')\n",
        "df_n2"
      ],
      "execution_count": null,
      "outputs": [
        {
          "output_type": "execute_result",
          "data": {
            "text/html": [
              "<div>\n",
              "<style scoped>\n",
              "    .dataframe tbody tr th:only-of-type {\n",
              "        vertical-align: middle;\n",
              "    }\n",
              "\n",
              "    .dataframe tbody tr th {\n",
              "        vertical-align: top;\n",
              "    }\n",
              "\n",
              "    .dataframe thead th {\n",
              "        text-align: right;\n",
              "    }\n",
              "</style>\n",
              "<table border=\"1\" class=\"dataframe\">\n",
              "  <thead>\n",
              "    <tr style=\"text-align: right;\">\n",
              "      <th></th>\n",
              "      <th>Fall</th>\n",
              "      <th>City: Large</th>\n",
              "      <th>City: Midsize</th>\n",
              "      <th>City: Small</th>\n",
              "      <th>Suburb: Large</th>\n",
              "      <th>Suburb: Midsize</th>\n",
              "      <th>Suburb: Small</th>\n",
              "      <th>Town: Fringe</th>\n",
              "      <th>Town: Distant</th>\n",
              "      <th>Town: Remote</th>\n",
              "      <th>Rural: Fringe</th>\n",
              "      <th>Rural: Distant</th>\n",
              "      <th>Rural: Remote</th>\n",
              "    </tr>\n",
              "  </thead>\n",
              "  <tbody>\n",
              "    <tr>\n",
              "      <th>0</th>\n",
              "      <td>2019</td>\n",
              "      <td>3,846,082</td>\n",
              "      <td>1,675,562</td>\n",
              "      <td>1,842,876</td>\n",
              "      <td>1,841,424</td>\n",
              "      <td>371,928</td>\n",
              "      <td>382,138</td>\n",
              "      <td>252,584</td>\n",
              "      <td>707,501</td>\n",
              "      <td>428,190</td>\n",
              "      <td>114,085</td>\n",
              "      <td>48,211</td>\n",
              "      <td>31,815</td>\n",
              "    </tr>\n",
              "    <tr>\n",
              "      <th>1</th>\n",
              "      <td>2018</td>\n",
              "      <td>3,698,300</td>\n",
              "      <td>1,664,469</td>\n",
              "      <td>1,673,843</td>\n",
              "      <td>1,885,424</td>\n",
              "      <td>389,702</td>\n",
              "      <td>375,091</td>\n",
              "      <td>274,101</td>\n",
              "      <td>715,547</td>\n",
              "      <td>414,186</td>\n",
              "      <td>110,632</td>\n",
              "      <td>42,955</td>\n",
              "      <td>34,392</td>\n",
              "    </tr>\n",
              "    <tr>\n",
              "      <th>2</th>\n",
              "      <td>2017</td>\n",
              "      <td>3,441,953</td>\n",
              "      <td>1,492,060</td>\n",
              "      <td>1,677,717</td>\n",
              "      <td>1,834,488</td>\n",
              "      <td>353,676</td>\n",
              "      <td>355,902</td>\n",
              "      <td>265,331</td>\n",
              "      <td>702,273</td>\n",
              "      <td>391,431</td>\n",
              "      <td>108,171</td>\n",
              "      <td>45,568</td>\n",
              "      <td>31,320</td>\n",
              "    </tr>\n",
              "    <tr>\n",
              "      <th>3</th>\n",
              "      <td>2016</td>\n",
              "      <td>3,316,133</td>\n",
              "      <td>1,534,578</td>\n",
              "      <td>1,635,486</td>\n",
              "      <td>1,756,650</td>\n",
              "      <td>327,641</td>\n",
              "      <td>347,055</td>\n",
              "      <td>274,417</td>\n",
              "      <td>677,441</td>\n",
              "      <td>386,991</td>\n",
              "      <td>114,773</td>\n",
              "      <td>39,374</td>\n",
              "      <td>24,636</td>\n",
              "    </tr>\n",
              "    <tr>\n",
              "      <th>4</th>\n",
              "      <td>2015</td>\n",
              "      <td>2,966,977</td>\n",
              "      <td>1,505,759</td>\n",
              "      <td>1,632,973</td>\n",
              "      <td>1,728,569</td>\n",
              "      <td>346,189</td>\n",
              "      <td>339,471</td>\n",
              "      <td>249,894</td>\n",
              "      <td>639,132</td>\n",
              "      <td>348,487</td>\n",
              "      <td>145,171</td>\n",
              "      <td>42,745</td>\n",
              "      <td>21,967</td>\n",
              "    </tr>\n",
              "    <tr>\n",
              "      <th>5</th>\n",
              "      <td>2014</td>\n",
              "      <td>2,867,978</td>\n",
              "      <td>1,420,658</td>\n",
              "      <td>1,600,678</td>\n",
              "      <td>1,671,029</td>\n",
              "      <td>336,185</td>\n",
              "      <td>300,791</td>\n",
              "      <td>242,346</td>\n",
              "      <td>603,884</td>\n",
              "      <td>327,219</td>\n",
              "      <td>167,467</td>\n",
              "      <td>41,076</td>\n",
              "      <td>19,448</td>\n",
              "    </tr>\n",
              "  </tbody>\n",
              "</table>\n",
              "</div>"
            ],
            "text/plain": [
              "   Fall City: Large City: Midsize  ... Rural: Fringe Rural: Distant Rural: Remote\n",
              "0  2019   3,846,082     1,675,562  ...       114,085         48,211        31,815\n",
              "1  2018   3,698,300     1,664,469  ...       110,632         42,955        34,392\n",
              "2  2017   3,441,953     1,492,060  ...       108,171         45,568        31,320\n",
              "3  2016   3,316,133     1,534,578  ...       114,773         39,374        24,636\n",
              "4  2015   2,966,977     1,505,759  ...       145,171         42,745        21,967\n",
              "5  2014   2,867,978     1,420,658  ...       167,467         41,076        19,448\n",
              "\n",
              "[6 rows x 13 columns]"
            ]
          },
          "metadata": {
            "tags": []
          },
          "execution_count": 50
        }
      ]
    },
    {
      "cell_type": "code",
      "metadata": {
        "colab": {
          "base_uri": "https://localhost:8080/",
          "height": 292
        },
        "id": "q3KBXhDPSQg4",
        "outputId": "5f317c3c-dffb-4cfc-b68f-079e7d1de404"
      },
      "source": [
        "list = []\n",
        "list_columns = df_n2.columns\n",
        "list_columns = list_columns[1:]\n",
        "print(list_columns.values)\n",
        "\n",
        "for i in list_columns:\n",
        "  list = []\n",
        "  for item in df_n2[i].values:\n",
        "    l1 = re.split(',', item)\n",
        "    list.append(''.join(l1))\n",
        "  df_n2[i] = list\n",
        "  df_n2[i] = df_n2[i].astype('int')\n",
        "\n",
        "df_n2\n"
      ],
      "execution_count": null,
      "outputs": [
        {
          "output_type": "stream",
          "text": [
            "['City: Large' 'City: Midsize' 'City: Small' 'Suburb: Large'\n",
            " 'Suburb: Midsize' 'Suburb: Small' 'Town: Fringe' 'Town: Distant'\n",
            " 'Town: Remote' 'Rural: Fringe' 'Rural: Distant' 'Rural: Remote']\n"
          ],
          "name": "stdout"
        },
        {
          "output_type": "execute_result",
          "data": {
            "text/html": [
              "<div>\n",
              "<style scoped>\n",
              "    .dataframe tbody tr th:only-of-type {\n",
              "        vertical-align: middle;\n",
              "    }\n",
              "\n",
              "    .dataframe tbody tr th {\n",
              "        vertical-align: top;\n",
              "    }\n",
              "\n",
              "    .dataframe thead th {\n",
              "        text-align: right;\n",
              "    }\n",
              "</style>\n",
              "<table border=\"1\" class=\"dataframe\">\n",
              "  <thead>\n",
              "    <tr style=\"text-align: right;\">\n",
              "      <th></th>\n",
              "      <th>Fall</th>\n",
              "      <th>City: Large</th>\n",
              "      <th>City: Midsize</th>\n",
              "      <th>City: Small</th>\n",
              "      <th>Suburb: Large</th>\n",
              "      <th>Suburb: Midsize</th>\n",
              "      <th>Suburb: Small</th>\n",
              "      <th>Town: Fringe</th>\n",
              "      <th>Town: Distant</th>\n",
              "      <th>Town: Remote</th>\n",
              "      <th>Rural: Fringe</th>\n",
              "      <th>Rural: Distant</th>\n",
              "      <th>Rural: Remote</th>\n",
              "    </tr>\n",
              "  </thead>\n",
              "  <tbody>\n",
              "    <tr>\n",
              "      <th>0</th>\n",
              "      <td>2019</td>\n",
              "      <td>3846082</td>\n",
              "      <td>1675562</td>\n",
              "      <td>1842876</td>\n",
              "      <td>1841424</td>\n",
              "      <td>371928</td>\n",
              "      <td>382138</td>\n",
              "      <td>252584</td>\n",
              "      <td>707501</td>\n",
              "      <td>428190</td>\n",
              "      <td>114085</td>\n",
              "      <td>48211</td>\n",
              "      <td>31815</td>\n",
              "    </tr>\n",
              "    <tr>\n",
              "      <th>1</th>\n",
              "      <td>2018</td>\n",
              "      <td>3698300</td>\n",
              "      <td>1664469</td>\n",
              "      <td>1673843</td>\n",
              "      <td>1885424</td>\n",
              "      <td>389702</td>\n",
              "      <td>375091</td>\n",
              "      <td>274101</td>\n",
              "      <td>715547</td>\n",
              "      <td>414186</td>\n",
              "      <td>110632</td>\n",
              "      <td>42955</td>\n",
              "      <td>34392</td>\n",
              "    </tr>\n",
              "    <tr>\n",
              "      <th>2</th>\n",
              "      <td>2017</td>\n",
              "      <td>3441953</td>\n",
              "      <td>1492060</td>\n",
              "      <td>1677717</td>\n",
              "      <td>1834488</td>\n",
              "      <td>353676</td>\n",
              "      <td>355902</td>\n",
              "      <td>265331</td>\n",
              "      <td>702273</td>\n",
              "      <td>391431</td>\n",
              "      <td>108171</td>\n",
              "      <td>45568</td>\n",
              "      <td>31320</td>\n",
              "    </tr>\n",
              "    <tr>\n",
              "      <th>3</th>\n",
              "      <td>2016</td>\n",
              "      <td>3316133</td>\n",
              "      <td>1534578</td>\n",
              "      <td>1635486</td>\n",
              "      <td>1756650</td>\n",
              "      <td>327641</td>\n",
              "      <td>347055</td>\n",
              "      <td>274417</td>\n",
              "      <td>677441</td>\n",
              "      <td>386991</td>\n",
              "      <td>114773</td>\n",
              "      <td>39374</td>\n",
              "      <td>24636</td>\n",
              "    </tr>\n",
              "    <tr>\n",
              "      <th>4</th>\n",
              "      <td>2015</td>\n",
              "      <td>2966977</td>\n",
              "      <td>1505759</td>\n",
              "      <td>1632973</td>\n",
              "      <td>1728569</td>\n",
              "      <td>346189</td>\n",
              "      <td>339471</td>\n",
              "      <td>249894</td>\n",
              "      <td>639132</td>\n",
              "      <td>348487</td>\n",
              "      <td>145171</td>\n",
              "      <td>42745</td>\n",
              "      <td>21967</td>\n",
              "    </tr>\n",
              "    <tr>\n",
              "      <th>5</th>\n",
              "      <td>2014</td>\n",
              "      <td>2867978</td>\n",
              "      <td>1420658</td>\n",
              "      <td>1600678</td>\n",
              "      <td>1671029</td>\n",
              "      <td>336185</td>\n",
              "      <td>300791</td>\n",
              "      <td>242346</td>\n",
              "      <td>603884</td>\n",
              "      <td>327219</td>\n",
              "      <td>167467</td>\n",
              "      <td>41076</td>\n",
              "      <td>19448</td>\n",
              "    </tr>\n",
              "  </tbody>\n",
              "</table>\n",
              "</div>"
            ],
            "text/plain": [
              "   Fall  City: Large  ...  Rural: Distant  Rural: Remote\n",
              "0  2019      3846082  ...           48211          31815\n",
              "1  2018      3698300  ...           42955          34392\n",
              "2  2017      3441953  ...           45568          31320\n",
              "3  2016      3316133  ...           39374          24636\n",
              "4  2015      2966977  ...           42745          21967\n",
              "5  2014      2867978  ...           41076          19448\n",
              "\n",
              "[6 rows x 13 columns]"
            ]
          },
          "metadata": {
            "tags": []
          },
          "execution_count": 51
        }
      ]
    },
    {
      "cell_type": "code",
      "metadata": {
        "colab": {
          "base_uri": "https://localhost:8080/",
          "height": 529
        },
        "id": "lH7bcQ-6SpSh",
        "outputId": "1c31dcdb-757c-4835-d36f-13d449e365d2"
      },
      "source": [
        "plt.figure(figsize=(12,8))\n",
        "plt.subplot()\n",
        "\n",
        "for i in list_columns:\n",
        "  plt.plot(df_n2['Fall'], df_n2[i], marker = '.', markersize = 10)\n",
        "\n",
        "\n",
        "plt.legend([i for i in list_columns], loc = 2)\n",
        "plt.xlabel('Years', size = 14)\n",
        "plt.ylabel('Number of Applicants', size = 14)"
      ],
      "execution_count": null,
      "outputs": [
        {
          "output_type": "execute_result",
          "data": {
            "text/plain": [
              "Text(0, 0.5, 'Number of Applicants')"
            ]
          },
          "metadata": {
            "tags": []
          },
          "execution_count": 52
        },
        {
          "output_type": "display_data",
          "data": {
            "image/png": "[encoded data removed]",
            "text/plain": [
              "<Figure size 864x576 with 1 Axes>"
            ]
          },
          "metadata": {
            "tags": [],
            "needs_background": "light"
          }
        }
      ]
    },
    {
      "cell_type": "code",
      "metadata": {
        "id": "GVr54sgsWjT3",
        "colab": {
          "base_uri": "https://localhost:8080/",
          "height": 194
        },
        "outputId": "5ec5e263-6937-4a99-a209-f84e45b261f5"
      },
      "source": [
        "df_n3 = pd.read_csv('/content/drive/MyDrive/Time series variation of students receiving aid.txt', delimiter='\\t')\n",
        "df_n4 = pd.read_csv('/content/drive/MyDrive/Time series variation of students receiving aid historically black.txt', delimiter = '\\t')\n",
        "\n",
        "\n",
        "list = []\n",
        "for item in df_n3['Number of students']:\n",
        "  l1 = re.split(',', item)\n",
        "  list.append(''.join(l1))\n",
        "df_n3['Number of students'] = list\n",
        "df_n3['Number of students'] = df_n3['Number of students'].astype('int')\n",
        "\n",
        "list = []\n",
        "for item in df_n3['Aid year']:\n",
        "  l1 = re.split('-', item)\n",
        "  list.append(l1[0])\n",
        "df_n3['Aid year'] = list\n",
        "df_n3['Aid year'] = df_n3['Aid year'].astype('int')\n",
        "\n",
        "df_n4\n",
        "\n",
        "list = []\n",
        "for item in df_n4['Aid year']:\n",
        "  l1 = re.split('-', item)\n",
        "  list.append(l1[0])\n",
        "df_n4['Aid year'] = list\n",
        "df_n4['Aid year'] = df_n4['Aid year'].astype('int')\n",
        "\n",
        "list_cols_df_n4 = df_n4.columns\n",
        "list_cols_df_n4 = list_cols_df_n4[1:]\n",
        "\n",
        "list = []\n",
        "for i in list_cols_df_n4:\n",
        "  list = []\n",
        "  for item in df_n4[i].values:\n",
        "    l1 = re.split(',', item)\n",
        "    list.append(''.join(l1))\n",
        "  df_n4[i] = list\n",
        "  df_n4[i] = df_n4[i].astype('int')\n",
        "\n",
        "df_n4.head()\n",
        "# list = []\n",
        "# for item in df_n3['']"
      ],
      "execution_count": null,
      "outputs": [
        {
          "output_type": "execute_result",
          "data": {
            "text/html": [
              "<div>\n",
              "<style scoped>\n",
              "    .dataframe tbody tr th:only-of-type {\n",
              "        vertical-align: middle;\n",
              "    }\n",
              "\n",
              "    .dataframe tbody tr th {\n",
              "        vertical-align: top;\n",
              "    }\n",
              "\n",
              "    .dataframe thead th {\n",
              "        text-align: right;\n",
              "    }\n",
              "</style>\n",
              "<table border=\"1\" class=\"dataframe\">\n",
              "  <thead>\n",
              "    <tr style=\"text-align: right;\">\n",
              "      <th></th>\n",
              "      <th>Aid year</th>\n",
              "      <th>Degree-granting, primarily baccalaureate or above</th>\n",
              "      <th>Degree-granting, not primarily baccalaureate or above</th>\n",
              "      <th>Degree-granting, associate's and certificates</th>\n",
              "    </tr>\n",
              "  </thead>\n",
              "  <tbody>\n",
              "    <tr>\n",
              "      <th>0</th>\n",
              "      <td>2018</td>\n",
              "      <td>45414</td>\n",
              "      <td>291</td>\n",
              "      <td>4038</td>\n",
              "    </tr>\n",
              "    <tr>\n",
              "      <th>1</th>\n",
              "      <td>2017</td>\n",
              "      <td>45725</td>\n",
              "      <td>1607</td>\n",
              "      <td>4364</td>\n",
              "    </tr>\n",
              "    <tr>\n",
              "      <th>2</th>\n",
              "      <td>2016</td>\n",
              "      <td>43177</td>\n",
              "      <td>1340</td>\n",
              "      <td>4240</td>\n",
              "    </tr>\n",
              "    <tr>\n",
              "      <th>3</th>\n",
              "      <td>2015</td>\n",
              "      <td>41953</td>\n",
              "      <td>724</td>\n",
              "      <td>3970</td>\n",
              "    </tr>\n",
              "    <tr>\n",
              "      <th>4</th>\n",
              "      <td>2014</td>\n",
              "      <td>40113</td>\n",
              "      <td>660</td>\n",
              "      <td>4285</td>\n",
              "    </tr>\n",
              "  </tbody>\n",
              "</table>\n",
              "</div>"
            ],
            "text/plain": [
              "   Aid year  ...  Degree-granting, associate's and certificates\n",
              "0      2018  ...                                           4038\n",
              "1      2017  ...                                           4364\n",
              "2      2016  ...                                           4240\n",
              "3      2015  ...                                           3970\n",
              "4      2014  ...                                           4285\n",
              "\n",
              "[5 rows x 4 columns]"
            ]
          },
          "metadata": {
            "tags": []
          },
          "execution_count": 176
        }
      ]
    },
    {
      "cell_type": "code",
      "metadata": {
        "colab": {
          "base_uri": "https://localhost:8080/",
          "height": 543
        },
        "id": "xKSsF9IrRSDj",
        "outputId": "bc0cbc12-c516-42d1-de94-4222e5fa1b67"
      },
      "source": [
        "plt.figure(figsize=(8,5))\n",
        "plt.plot(df_n3['Aid year'], df_n3['Number of students'], marker = '.', markersize = 10, color = 'r')\n",
        "# plt.xticks([i for i in np.arange(7)], [j for j in np.arange(2003, 2017, 2)])\n",
        "plt.xticks(np.arange(2003, 2019, 2))\n",
        "plt.xlabel('Year', size = 12)\n",
        "plt.ylabel('Number of students receiving aid', size = 12)"
      ],
      "execution_count": null,
      "outputs": [
        {
          "output_type": "error",
          "ename": "TypeError",
          "evalue": "ignored",
          "traceback": [
            "\u001b[0;31m---------------------------------------------------------------------------\u001b[0m",
            "\u001b[0;31mTypeError\u001b[0m                                 Traceback (most recent call last)",
            "\u001b[0;32m<ipython-input-54-697edfc9cfa0>\u001b[0m in \u001b[0;36m<module>\u001b[0;34m()\u001b[0m\n\u001b[1;32m      2\u001b[0m \u001b[0mplt\u001b[0m\u001b[0;34m.\u001b[0m\u001b[0mplot\u001b[0m\u001b[0;34m(\u001b[0m\u001b[0mdf_n3\u001b[0m\u001b[0;34m[\u001b[0m\u001b[0;34m'Aid year'\u001b[0m\u001b[0;34m]\u001b[0m\u001b[0;34m,\u001b[0m \u001b[0mdf_n3\u001b[0m\u001b[0;34m[\u001b[0m\u001b[0;34m'Number of students'\u001b[0m\u001b[0;34m]\u001b[0m\u001b[0;34m,\u001b[0m \u001b[0mmarker\u001b[0m \u001b[0;34m=\u001b[0m \u001b[0;34m'.'\u001b[0m\u001b[0;34m,\u001b[0m \u001b[0mmarkersize\u001b[0m \u001b[0;34m=\u001b[0m \u001b[0;36m10\u001b[0m\u001b[0;34m,\u001b[0m \u001b[0mcolor\u001b[0m \u001b[0;34m=\u001b[0m \u001b[0;34m'r'\u001b[0m\u001b[0;34m)\u001b[0m\u001b[0;34m\u001b[0m\u001b[0;34m\u001b[0m\u001b[0m\n\u001b[1;32m      3\u001b[0m \u001b[0;31m# plt.xticks([i for i in np.arange(7)], [j for j in np.arange(2003, 2017, 2)])\u001b[0m\u001b[0;34m\u001b[0m\u001b[0;34m\u001b[0m\u001b[0;34m\u001b[0m\u001b[0m\n\u001b[0;32m----> 4\u001b[0;31m \u001b[0mplt\u001b[0m\u001b[0;34m.\u001b[0m\u001b[0mxticks\u001b[0m\u001b[0;34m(\u001b[0m\u001b[0mnp\u001b[0m\u001b[0;34m.\u001b[0m\u001b[0marange\u001b[0m\u001b[0;34m(\u001b[0m\u001b[0;36m2003\u001b[0m\u001b[0;34m,\u001b[0m \u001b[0;36m2019\u001b[0m\u001b[0;34m,\u001b[0m \u001b[0;36m2\u001b[0m\u001b[0;34m)\u001b[0m\u001b[0;34m)\u001b[0m\u001b[0;34m\u001b[0m\u001b[0;34m\u001b[0m\u001b[0m\n\u001b[0m\u001b[1;32m      5\u001b[0m \u001b[0mplt\u001b[0m\u001b[0;34m.\u001b[0m\u001b[0mxlabel\u001b[0m\u001b[0;34m(\u001b[0m\u001b[0;34m'Year'\u001b[0m\u001b[0;34m,\u001b[0m \u001b[0msize\u001b[0m \u001b[0;34m=\u001b[0m \u001b[0;36m12\u001b[0m\u001b[0;34m)\u001b[0m\u001b[0;34m\u001b[0m\u001b[0;34m\u001b[0m\u001b[0m\n\u001b[1;32m      6\u001b[0m \u001b[0mplt\u001b[0m\u001b[0;34m.\u001b[0m\u001b[0mylabel\u001b[0m\u001b[0;34m(\u001b[0m\u001b[0;34m'Number of students receiving aid'\u001b[0m\u001b[0;34m,\u001b[0m \u001b[0msize\u001b[0m \u001b[0;34m=\u001b[0m \u001b[0;36m12\u001b[0m\u001b[0;34m)\u001b[0m\u001b[0;34m\u001b[0m\u001b[0;34m\u001b[0m\u001b[0m\n",
            "\u001b[0;31mTypeError\u001b[0m: 'numpy.ndarray' object is not callable"
          ]
        },
        {
          "output_type": "display_data",
          "data": {
            "image/png": "[encoded data removed]",
            "text/plain": [
              "<Figure size 576x360 with 1 Axes>"
            ]
          },
          "metadata": {
            "tags": [],
            "needs_background": "light"
          }
        }
      ]
    },
    {
      "cell_type": "code",
      "metadata": {
        "id": "hSW8Hf7bSu8M"
      },
      "source": [
        "plt.figure(figsize=(8,5))\n",
        "\n",
        "plt.plot(df_n4['Aid year'], df_n4['Degree-granting, primarily baccalaureate or above'], marker = '.', markersize = 10, color = 'r')\n",
        "plt.plot(df_n4['Aid year'], df_n4['Degree-granting, not primarily baccalaureate or above'], marker = 'x', markersize = 10, color = 'b')\n",
        "plt.plot(df_n4['Aid year'], df_n4[\"Degree-granting, associate's and certificates\"], marker = '+', markersize = 10, color = 'g')\n",
        "\n",
        "xticks_list = [i for i in np.arange(2003, 2019, 2)]\n",
        "print(xticks_list)\n",
        "# plt.xticks = [2003, 2005, 2007, 2009, 2011, 2013, 2015, 2017]\n",
        "# plt.xticks([i for i in np.arange(2003, 2019, 2)])\n",
        "plt.xlabel('Year', size = 12)\n",
        "plt.ylabel('Number of students receiving aid', size = 12)\n",
        "plt.legend([i for i in list_cols_df_n4], loc = 5)"
      ],
      "execution_count": null,
      "outputs": []
    },
    {
      "cell_type": "code",
      "metadata": {
        "colab": {
          "base_uri": "https://localhost:8080/"
        },
        "id": "SDnZ1FfHmjxk",
        "outputId": "f08e7407-65c8-4e52-e3f0-d22c56a59192"
      },
      "source": [
        "import numpy as np\n",
        "\n",
        "[i for i in np.arange(2003, 2017, 2)]"
      ],
      "execution_count": null,
      "outputs": [
        {
          "output_type": "execute_result",
          "data": {
            "text/plain": [
              "[2003, 2005, 2007, 2009, 2011, 2013, 2015]"
            ]
          },
          "metadata": {
            "tags": []
          },
          "execution_count": 34
        }
      ]
    },
    {
      "cell_type": "code",
      "metadata": {
        "id": "hrrSEI47QbP7"
      },
      "source": [
        ""
      ],
      "execution_count": null,
      "outputs": []
    },
    {
      "cell_type": "code",
      "metadata": {
        "id": "H7SsGnSCw40v"
      },
      "source": [
        ""
      ],
      "execution_count": null,
      "outputs": []
    },
    {
      "cell_type": "code",
      "metadata": {
        "colab": {
          "base_uri": "https://localhost:8080/",
          "height": 400
        },
        "id": "RFqJrktdw4-V",
        "outputId": "9c08a96c-85d9-4c5a-b885-b5a1f5e8177c"
      },
      "source": [
        "df = pd.read_csv('/content/drive/MyDrive/percentage distribution of students vs years.txt', delimiter=' ')\n",
        "df\n",
        "\n",
        "\n",
        "list_cols = df.columns\n",
        "# print(list_columns)\n",
        "\n",
        "# list = []\n",
        "# for i in list_cols:\n",
        "#   list = []\n",
        "#   for item in df[i]:\n",
        "#     # item = item.astype('str')\n",
        "#     list.append(''.join(re.split(',', item)))\n",
        "#   df[i] = list\n",
        "#   df[i] = df[i].astype('int')\n",
        "\n",
        "# df\n",
        "df1 = df.drop('Number_of_institutions_reporting_application_data1', axis = 0)\n",
        "df1 = df1.drop('Percentage_distribution_of_institutions_by_their_acceptance_of_applications', axis = 0)\n",
        "df1['New index'] = ['No application criteria', '90% or more', '75 to 89.9%', '50 to 74.9%', '25 to 49.9%', '10 to 24.9%', 'less than 10%']\n",
        "df1 = df1.set_index('New index')\n",
        "df1\n",
        "# df2 = df1[df1.columns[:3]]\n",
        "# df2 = df2.astype('float')\n",
        "# df2.plot(kind = 'bar', xlabel = 'Percentage Distribution', figsize = (7,4))\n",
        "\n",
        "# df3 = df1[df1.columns[3:6]]\n",
        "# df3 = df3.astype('float')\n",
        "# df3.plot(kind = 'bar', xlabel = 'Percentage Distribution', figsize = (7,4))\n",
        "\n",
        "# df4 = df1[df1.columns[6:9]]\n",
        "# df4 = df4.astype('float')\n",
        "# df4.plot(kind = 'bar', xlabel = 'Percentage Distribution', figsize = (7,4))\n",
        "\n",
        "# df5 = df1[df1.columns[9:12]]\n",
        "# df5 = df5.astype('float')\n",
        "# df5.plot(kind = 'bar', xlabel = 'Percentage Distribution', figsize = (7,4))\n",
        "\n",
        "# df6 = df1[df1.columns[12:15]]\n",
        "# df6 = df6.astype('float')\n",
        "# df6.plot(kind = 'bar', xlabel = 'Percentage Distribution', figsize = (7,4))\n",
        "\n",
        "df7 = df1[df1.columns[[0,3,6,9,12]]]\n",
        "df7 = df7.astype('float')\n",
        "df7.plot(kind = 'bar', xlabel = 'Percentage Distribution', figsize = (7,4))\n",
        "\n"
      ],
      "execution_count": null,
      "outputs": [
        {
          "output_type": "execute_result",
          "data": {
            "text/plain": [
              "<matplotlib.axes._subplots.AxesSubplot at 0x7f8214cb1890>"
            ]
          },
          "metadata": {
            "tags": []
          },
          "execution_count": 80
        },
        {
          "output_type": "display_data",
          "data": {
            "image/png": "[encoded data removed]",
            "text/plain": [
              "<Figure size 504x288 with 1 Axes>"
            ]
          },
          "metadata": {
            "tags": [],
            "needs_background": "light"
          }
        }
      ]
    },
    {
      "cell_type": "code",
      "metadata": {
        "colab": {
          "base_uri": "https://localhost:8080/",
          "height": 397
        },
        "id": "Ocxx9Ie_7hZq",
        "outputId": "bbb5b8fb-c765-47b9-9039-c8d9d6b57a3f"
      },
      "source": [
        "df8 = df1[df1.columns[0]]\n",
        "df8 = df8.astype('float')\n",
        "df8.plot(kind = 'bar', xlabel = 'Percentage Distribution(All colleges)', figsize = (7,4))\n"
      ],
      "execution_count": null,
      "outputs": [
        {
          "output_type": "execute_result",
          "data": {
            "text/plain": [
              "<matplotlib.axes._subplots.AxesSubplot at 0x7f8214bbff50>"
            ]
          },
          "metadata": {
            "tags": []
          },
          "execution_count": 81
        },
        {
          "output_type": "display_data",
          "data": {
            "image/png": "[encoded data removed]",
            "text/plain": [
              "<Figure size 504x288 with 1 Axes>"
            ]
          },
          "metadata": {
            "tags": [],
            "needs_background": "light"
          }
        }
      ]
    },
    {
      "cell_type": "code",
      "metadata": {
        "id": "Z_wxiUc27y7v",
        "colab": {
          "base_uri": "https://localhost:8080/",
          "height": 397
        },
        "outputId": "08b03fdb-2af8-4ef6-cd70-c55041d44e58"
      },
      "source": [
        "df9 = df1[df1.columns[3]]\n",
        "df9 = df9.astype('float')\n",
        "df9.plot(kind = 'bar', xlabel = 'Percentage Distribution(Public colleges)', figsize = (7,4))\n",
        "\n"
      ],
      "execution_count": null,
      "outputs": [
        {
          "output_type": "execute_result",
          "data": {
            "text/plain": [
              "<matplotlib.axes._subplots.AxesSubplot at 0x7f82149601d0>"
            ]
          },
          "metadata": {
            "tags": []
          },
          "execution_count": 84
        },
        {
          "output_type": "display_data",
          "data": {
            "image/png": "[encoded data removed]",
            "text/plain": [
              "<Figure size 504x288 with 1 Axes>"
            ]
          },
          "metadata": {
            "tags": [],
            "needs_background": "light"
          }
        }
      ]
    },
    {
      "cell_type": "code",
      "metadata": {
        "id": "AO8ner027zbP",
        "colab": {
          "base_uri": "https://localhost:8080/",
          "height": 397
        },
        "outputId": "b33f0f0f-4a15-4f44-8141-d990ed085cb8"
      },
      "source": [
        "df10 = df1[df1.columns[6]]\n",
        "df10 = df10.astype('float')\n",
        "df10.plot(kind = 'bar', xlabel = 'Percentage Distribution(All private colleges)', figsize = (7,4))\n",
        "\n"
      ],
      "execution_count": null,
      "outputs": [
        {
          "output_type": "execute_result",
          "data": {
            "text/plain": [
              "<matplotlib.axes._subplots.AxesSubplot at 0x7f82148e2410>"
            ]
          },
          "metadata": {
            "tags": []
          },
          "execution_count": 85
        },
        {
          "output_type": "display_data",
          "data": {
            "image/png": "[encoded data removed]",
            "text/plain": [
              "<Figure size 504x288 with 1 Axes>"
            ]
          },
          "metadata": {
            "tags": [],
            "needs_background": "light"
          }
        }
      ]
    },
    {
      "cell_type": "code",
      "metadata": {
        "id": "-Ud91wDw7zfb",
        "colab": {
          "base_uri": "https://localhost:8080/",
          "height": 397
        },
        "outputId": "ee54e4dc-abf9-4651-f3cf-97a02b49d1be"
      },
      "source": [
        "df11 = df1[df1.columns[9]]\n",
        "df11 = df11.astype('float')\n",
        "df11.plot(kind = 'bar', xlabel = 'Percentage Distribution(Non-profit private colleges)', figsize = (7,4))\n",
        "\n"
      ],
      "execution_count": null,
      "outputs": [
        {
          "output_type": "execute_result",
          "data": {
            "text/plain": [
              "<matplotlib.axes._subplots.AxesSubplot at 0x7f82149b5d90>"
            ]
          },
          "metadata": {
            "tags": []
          },
          "execution_count": 86
        },
        {
          "output_type": "display_data",
          "data": {
            "image/png": "[encoded data removed]",
            "text/plain": [
              "<Figure size 504x288 with 1 Axes>"
            ]
          },
          "metadata": {
            "tags": [],
            "needs_background": "light"
          }
        }
      ]
    },
    {
      "cell_type": "code",
      "metadata": {
        "id": "d0UAalUD7zjW",
        "colab": {
          "base_uri": "https://localhost:8080/",
          "height": 400
        },
        "outputId": "1479df9f-3062-481e-ee3a-6c62a6f681f8"
      },
      "source": [
        "df12 = df1[df1.columns[12]]\n",
        "df12 = df12.astype('float')\n",
        "df12.plot(kind = 'bar', xlabel = 'Percentage Distribution(For-profit private colleges)', figsize = (7,4))"
      ],
      "execution_count": null,
      "outputs": [
        {
          "output_type": "execute_result",
          "data": {
            "text/plain": [
              "<matplotlib.axes._subplots.AxesSubplot at 0x7f821609f390>"
            ]
          },
          "metadata": {
            "tags": []
          },
          "execution_count": 87
        },
        {
          "output_type": "display_data",
          "data": {
            "image/png": "[encoded data removed]",
            "text/plain": [
              "<Figure size 504x288 with 1 Axes>"
            ]
          },
          "metadata": {
            "tags": [],
            "needs_background": "light"
          }
        }
      ]
    },
    {
      "cell_type": "code",
      "metadata": {
        "id": "TYG_BJJY7znc"
      },
      "source": [
        ""
      ],
      "execution_count": null,
      "outputs": []
    },
    {
      "cell_type": "markdown",
      "metadata": {
        "id": "KjGGeNME3I_k"
      },
      "source": [
        "# TIME SERIES FORECASTING"
      ]
    },
    {
      "cell_type": "code",
      "metadata": {
        "id": "aqar2n1F7gnB"
      },
      "source": [
        ""
      ],
      "execution_count": null,
      "outputs": []
    },
    {
      "cell_type": "code",
      "metadata": {
        "colab": {
          "base_uri": "https://localhost:8080/"
        },
        "id": "de_VXDdT3PVU",
        "outputId": "63baf2bc-6686-44e7-dc9b-53fc84ee382f"
      },
      "source": [
        "import tensorflow as tf\n",
        "print(tf.__version__)\n"
      ],
      "execution_count": null,
      "outputs": [
        {
          "output_type": "stream",
          "text": [
            "2.4.1\n"
          ],
          "name": "stdout"
        }
      ]
    },
    {
      "cell_type": "code",
      "metadata": {
        "id": "Fs-sFTXpPw1f"
      },
      "source": [
        "import matplotlib.pyplot as plt\n",
        "%matplotlib inline\n",
        "import pandas as pd\n",
        "import numpy as np\n",
        "import re\n",
        "\n",
        "def plot_series(time, series, format = '-', start = 0, end = None):\n",
        "  plt.plot(time[start:end], series[start:end], format)\n",
        "  plt.xlabel('Time', size = 14)\n",
        "  plt.ylabel('Value', size = 14)\n",
        "  plt.grid(True)"
      ],
      "execution_count": null,
      "outputs": []
    },
    {
      "cell_type": "code",
      "metadata": {
        "colab": {
          "base_uri": "https://localhost:8080/",
          "height": 231
        },
        "id": "6Bn79T8w3h2n",
        "outputId": "9b87687c-df29-4769-ad3d-4cdae7642650"
      },
      "source": [
        "df = pd.read_csv('/content/drive/MyDrive/Table 303.25.txt', delimiter=' ')\n",
        "df.head()"
      ],
      "execution_count": null,
      "outputs": [
        {
          "output_type": "execute_result",
          "data": {
            "text/html": [
              "<div>\n",
              "<style scoped>\n",
              "    .dataframe tbody tr th:only-of-type {\n",
              "        vertical-align: middle;\n",
              "    }\n",
              "\n",
              "    .dataframe tbody tr th {\n",
              "        vertical-align: top;\n",
              "    }\n",
              "\n",
              "    .dataframe thead th {\n",
              "        text-align: right;\n",
              "    }\n",
              "</style>\n",
              "<table border=\"1\" class=\"dataframe\">\n",
              "  <thead>\n",
              "    <tr style=\"text-align: right;\">\n",
              "      <th></th>\n",
              "      <th>Year</th>\n",
              "      <th>Total(All)</th>\n",
              "      <th>4-year(All)</th>\n",
              "      <th>2-year(All)</th>\n",
              "      <th>Total(Public)</th>\n",
              "      <th>4-year(Public)</th>\n",
              "      <th>2-year(Public)</th>\n",
              "      <th>Total(Private_All)</th>\n",
              "      <th>4-year(Private_All)</th>\n",
              "      <th>2-year(Private_All)</th>\n",
              "      <th>Total(Private_NonProfit)</th>\n",
              "      <th>4-year(Private_NonProfit)</th>\n",
              "      <th>2-year(Private_NonProfit)</th>\n",
              "      <th>Total(Private_ForProfit)</th>\n",
              "      <th>4-year(Private_ForProfit)</th>\n",
              "      <th>2-year(Private_ForProfit)</th>\n",
              "    </tr>\n",
              "  </thead>\n",
              "  <tbody>\n",
              "    <tr>\n",
              "      <th>0</th>\n",
              "      <td>1</td>\n",
              "      <td>2</td>\n",
              "      <td>3</td>\n",
              "      <td>4</td>\n",
              "      <td>5</td>\n",
              "      <td>6</td>\n",
              "      <td>7</td>\n",
              "      <td>8</td>\n",
              "      <td>9</td>\n",
              "      <td>10</td>\n",
              "      <td>11</td>\n",
              "      <td>12</td>\n",
              "      <td>13</td>\n",
              "      <td>14</td>\n",
              "      <td>15</td>\n",
              "      <td>16</td>\n",
              "    </tr>\n",
              "    <tr>\n",
              "      <th>1</th>\n",
              "      <td>1970</td>\n",
              "      <td>8,580,887</td>\n",
              "      <td>6,261,502</td>\n",
              "      <td>2,319,385</td>\n",
              "      <td>6,428,134</td>\n",
              "      <td>4,232,722</td>\n",
              "      <td>2,195,412</td>\n",
              "      <td>2,152,753</td>\n",
              "      <td>2,028,780</td>\n",
              "      <td>123,973</td>\n",
              "      <td>2,134,420</td>\n",
              "      <td>2,021,121</td>\n",
              "      <td>113,299</td>\n",
              "      <td>18,333</td>\n",
              "      <td>7,659</td>\n",
              "      <td>10,674</td>\n",
              "    </tr>\n",
              "    <tr>\n",
              "      <th>2</th>\n",
              "      <td>1971</td>\n",
              "      <td>8,948,644</td>\n",
              "      <td>6,369,355</td>\n",
              "      <td>2,579,289</td>\n",
              "      <td>6,804,309</td>\n",
              "      <td>4,346,990</td>\n",
              "      <td>2,457,319</td>\n",
              "      <td>2,144,335</td>\n",
              "      <td>2,022,365</td>\n",
              "      <td>121,970</td>\n",
              "      <td>2,121,913</td>\n",
              "      <td>2,011,682</td>\n",
              "      <td>110,231</td>\n",
              "      <td>22,422</td>\n",
              "      <td>10,683</td>\n",
              "      <td>11,739</td>\n",
              "    </tr>\n",
              "    <tr>\n",
              "      <th>3</th>\n",
              "      <td>1972</td>\n",
              "      <td>9,214,860</td>\n",
              "      <td>6,458,674</td>\n",
              "      <td>2,756,186</td>\n",
              "      <td>7,070,635</td>\n",
              "      <td>4,429,696</td>\n",
              "      <td>2,640,939</td>\n",
              "      <td>2,144,225</td>\n",
              "      <td>2,028,978</td>\n",
              "      <td>115,247</td>\n",
              "      <td>2,123,245</td>\n",
              "      <td>2,019,380</td>\n",
              "      <td>103,865</td>\n",
              "      <td>20,980</td>\n",
              "      <td>9,598</td>\n",
              "      <td>11,382</td>\n",
              "    </tr>\n",
              "    <tr>\n",
              "      <th>4</th>\n",
              "      <td>1973</td>\n",
              "      <td>9,602,123</td>\n",
              "      <td>6,590,023</td>\n",
              "      <td>3,012,100</td>\n",
              "      <td>7,419,516</td>\n",
              "      <td>4,529,895</td>\n",
              "      <td>2,889,621</td>\n",
              "      <td>2,182,607</td>\n",
              "      <td>2,060,128</td>\n",
              "      <td>122,479</td>\n",
              "      <td>2,148,784</td>\n",
              "      <td>2,045,804</td>\n",
              "      <td>102,980</td>\n",
              "      <td>33,823</td>\n",
              "      <td>14,324</td>\n",
              "      <td>19,499</td>\n",
              "    </tr>\n",
              "  </tbody>\n",
              "</table>\n",
              "</div>"
            ],
            "text/plain": [
              "   Year Total(All)  ... 4-year(Private_ForProfit) 2-year(Private_ForProfit)\n",
              "0     1          2  ...                        15                        16\n",
              "1  1970  8,580,887  ...                     7,659                    10,674\n",
              "2  1971  8,948,644  ...                    10,683                    11,739\n",
              "3  1972  9,214,860  ...                     9,598                    11,382\n",
              "4  1973  9,602,123  ...                    14,324                    19,499\n",
              "\n",
              "[5 rows x 16 columns]"
            ]
          },
          "metadata": {
            "tags": []
          },
          "execution_count": 24
        }
      ]
    },
    {
      "cell_type": "code",
      "metadata": {
        "colab": {
          "base_uri": "https://localhost:8080/",
          "height": 194
        },
        "id": "BN6eilMm4aZY",
        "outputId": "c58e5960-9ed2-45cb-e2a2-18c49c322382"
      },
      "source": [
        "# new_cols = []\n",
        "# i = 0\n",
        "\n",
        "df_series_1 = df[df.columns[:10]]\n",
        "df_series_1 = df_series_1[df_series_1['Year'] != 1]\n",
        "df_series_1\n",
        "\n",
        "\n",
        "list = []\n",
        "list_columns = df_series_1.columns\n",
        "list_columns = list_columns[1:]\n",
        "# print(list_columns.values)\n",
        "\n",
        "for i in list_columns:\n",
        "  list = []\n",
        "  for item in df_series_1[i].values:\n",
        "    l1 = re.split(',', item)\n",
        "    list.append(''.join(l1))\n",
        "  df_series_1[i] = list\n",
        "  df_series_1[i] = df_series_1[i].astype('int')\n",
        "df_series_1.head()"
      ],
      "execution_count": null,
      "outputs": [
        {
          "output_type": "execute_result",
          "data": {
            "text/html": [
              "<div>\n",
              "<style scoped>\n",
              "    .dataframe tbody tr th:only-of-type {\n",
              "        vertical-align: middle;\n",
              "    }\n",
              "\n",
              "    .dataframe tbody tr th {\n",
              "        vertical-align: top;\n",
              "    }\n",
              "\n",
              "    .dataframe thead th {\n",
              "        text-align: right;\n",
              "    }\n",
              "</style>\n",
              "<table border=\"1\" class=\"dataframe\">\n",
              "  <thead>\n",
              "    <tr style=\"text-align: right;\">\n",
              "      <th></th>\n",
              "      <th>Year</th>\n",
              "      <th>Total(All)</th>\n",
              "      <th>4-year(All)</th>\n",
              "      <th>2-year(All)</th>\n",
              "      <th>Total(Public)</th>\n",
              "      <th>4-year(Public)</th>\n",
              "      <th>2-year(Public)</th>\n",
              "      <th>Total(Private_All)</th>\n",
              "      <th>4-year(Private_All)</th>\n",
              "      <th>2-year(Private_All)</th>\n",
              "    </tr>\n",
              "  </thead>\n",
              "  <tbody>\n",
              "    <tr>\n",
              "      <th>1</th>\n",
              "      <td>1970</td>\n",
              "      <td>8580887</td>\n",
              "      <td>6261502</td>\n",
              "      <td>2319385</td>\n",
              "      <td>6428134</td>\n",
              "      <td>4232722</td>\n",
              "      <td>2195412</td>\n",
              "      <td>2152753</td>\n",
              "      <td>2028780</td>\n",
              "      <td>123973</td>\n",
              "    </tr>\n",
              "    <tr>\n",
              "      <th>2</th>\n",
              "      <td>1971</td>\n",
              "      <td>8948644</td>\n",
              "      <td>6369355</td>\n",
              "      <td>2579289</td>\n",
              "      <td>6804309</td>\n",
              "      <td>4346990</td>\n",
              "      <td>2457319</td>\n",
              "      <td>2144335</td>\n",
              "      <td>2022365</td>\n",
              "      <td>121970</td>\n",
              "    </tr>\n",
              "    <tr>\n",
              "      <th>3</th>\n",
              "      <td>1972</td>\n",
              "      <td>9214860</td>\n",
              "      <td>6458674</td>\n",
              "      <td>2756186</td>\n",
              "      <td>7070635</td>\n",
              "      <td>4429696</td>\n",
              "      <td>2640939</td>\n",
              "      <td>2144225</td>\n",
              "      <td>2028978</td>\n",
              "      <td>115247</td>\n",
              "    </tr>\n",
              "    <tr>\n",
              "      <th>4</th>\n",
              "      <td>1973</td>\n",
              "      <td>9602123</td>\n",
              "      <td>6590023</td>\n",
              "      <td>3012100</td>\n",
              "      <td>7419516</td>\n",
              "      <td>4529895</td>\n",
              "      <td>2889621</td>\n",
              "      <td>2182607</td>\n",
              "      <td>2060128</td>\n",
              "      <td>122479</td>\n",
              "    </tr>\n",
              "    <tr>\n",
              "      <th>5</th>\n",
              "      <td>1974</td>\n",
              "      <td>10223729</td>\n",
              "      <td>6819735</td>\n",
              "      <td>3403994</td>\n",
              "      <td>7988500</td>\n",
              "      <td>4703018</td>\n",
              "      <td>3285482</td>\n",
              "      <td>2235229</td>\n",
              "      <td>2116717</td>\n",
              "      <td>118512</td>\n",
              "    </tr>\n",
              "  </tbody>\n",
              "</table>\n",
              "</div>"
            ],
            "text/plain": [
              "   Year  Total(All)  ...  4-year(Private_All)  2-year(Private_All)\n",
              "1  1970     8580887  ...              2028780               123973\n",
              "2  1971     8948644  ...              2022365               121970\n",
              "3  1972     9214860  ...              2028978               115247\n",
              "4  1973     9602123  ...              2060128               122479\n",
              "5  1974    10223729  ...              2116717               118512\n",
              "\n",
              "[5 rows x 10 columns]"
            ]
          },
          "metadata": {
            "tags": []
          },
          "execution_count": 98
        }
      ]
    },
    {
      "cell_type": "code",
      "metadata": {
        "id": "X8yI6WlC403O"
      },
      "source": [
        "\n",
        "time = []\n",
        "series_total_all = []\n",
        "series_total_all_2 = []\n",
        "series_total_all_3 = []\n",
        "\n",
        "for item in df_series_1.index:\n",
        "  time.append(item)\n",
        "\n",
        "# for item in df_series_1['Year']:\n",
        "#   time.append(item)\n",
        "  \n",
        "for item in df_series_1['Total(All)']:\n",
        "  series_total_all.append(item)\n",
        "\n",
        "\n",
        "for item in df_series_1['Total(Public)']:\n",
        "  series_total_all_2.append(item)\n",
        "\n",
        "for item in df_series_1['Total(Private_All)']:\n",
        "  series_total_all_3.append(item)"
      ],
      "execution_count": null,
      "outputs": []
    },
    {
      "cell_type": "code",
      "metadata": {
        "colab": {
          "base_uri": "https://localhost:8080/",
          "height": 403
        },
        "id": "Pc1Nh78uSq4O",
        "outputId": "38184e33-2538-4f27-b70b-69b500b6f19a"
      },
      "source": [
        "time = np.array(time)\n",
        "series = np.array(series_total_all)\n",
        "series_to_edit = np.array(series_total_all)\n",
        "\n",
        "series_2 = np.array(series_total_all_2)\n",
        "series_to_edit_2 = np.array(series_total_all_2)\n",
        "series_3 = np.array(series_total_all_3)\n",
        "series_to_edit_3 = np.array(series_total_all_3)\n",
        "\n",
        "plt.figure(figsize = (10,6))\n",
        "plot_series(time, series_total_all)\n",
        "plot_series(time, series_total_all_2)\n",
        "plot_series(time, series_total_all_3)"
      ],
      "execution_count": null,
      "outputs": [
        {
          "output_type": "display_data",
          "data": {
            "image/png": "[encoded data removed]",
            "text/plain": [
              "<Figure size 720x432 with 1 Axes>"
            ]
          },
          "metadata": {
            "tags": [],
            "needs_background": "light"
          }
        }
      ]
    },
    {
      "cell_type": "code",
      "metadata": {
        "colab": {
          "base_uri": "https://localhost:8080/"
        },
        "id": "WWcfxiOjVce5",
        "outputId": "30f14252-8833-4ce5-f43f-fca4a8b01dd1"
      },
      "source": [
        "total_time_size = len(time)\n",
        "total_time_size"
      ],
      "execution_count": null,
      "outputs": [
        {
          "output_type": "execute_result",
          "data": {
            "text/plain": [
              "49"
            ]
          },
          "metadata": {
            "tags": []
          },
          "execution_count": 101
        }
      ]
    },
    {
      "cell_type": "code",
      "metadata": {
        "colab": {
          "base_uri": "https://localhost:8080/"
        },
        "id": "6zHn2neVXWD6",
        "outputId": "08f4acf9-4720-44a0-830a-e7dd9dd04cd7"
      },
      "source": [
        "split_time = 30\n",
        "time_train = time[: split_time]\n",
        "# x_train = series[: split_time]/10000.000\n",
        "x_train = series[: split_time]\n",
        "time_val = time[split_time :]\n",
        "# x_val = series[split_time :]/10000.000\n",
        "x_val = series[split_time :]\n",
        "print(x_train)\n",
        "\n",
        "x_train_2 = series_2[: split_time]\n",
        "x_val_2 = series_2[split_time :]\n",
        "x_train_3 = series_3[: split_time]\n",
        "x_val_3 = series_3[split_time :]"
      ],
      "execution_count": null,
      "outputs": [
        {
          "output_type": "stream",
          "text": [
            "[ 8580887  8948644  9214860  9602123 10223729 11184859 11012137 11285787\n",
            " 11260092 11569899 12096895 12371672 12425780 12464661 12241940 12247055\n",
            " 12503511 12766642 13055337 13538560 13818637 14358953 14487359 14304803\n",
            " 14278790 14261781 14367520 14502334 14506967 14849691]\n"
          ],
          "name": "stdout"
        }
      ]
    },
    {
      "cell_type": "code",
      "metadata": {
        "id": "6EdPZYcHYLLZ"
      },
      "source": [
        "window_size = 5\n",
        "batch_size = 5\n",
        "shuffle_buffer_size = 5"
      ],
      "execution_count": null,
      "outputs": []
    },
    {
      "cell_type": "code",
      "metadata": {
        "id": "gzPwrmJCZC1d"
      },
      "source": [
        "# def windowed_dataset(window_size, batch_size, shuffle_buffer):\n",
        "#   dataset = tf.data.Dataset.range(10)\n",
        "#   # print(dataset)\n",
        "#   dataset = dataset.window(window_size + 1, shift = 1, drop_remainder = True)\n",
        "#   dataset = dataset.flat_map(lambda window : window.batch(window_size + 1))\n",
        "#   dataset = dataset.shuffle(shuffle_buffer).map(lambda window : (window[:-1], window[-1]))\n",
        "#   dataset = dataset.batch(batch_size).prefetch(1)\n",
        "\n",
        "#   for x, y in dataset:\n",
        "#     print('x = ', x.numpy())\n",
        "#     print('y = ', y.numpy())\n",
        "#   return dataset"
      ],
      "execution_count": null,
      "outputs": []
    },
    {
      "cell_type": "code",
      "metadata": {
        "id": "Iwsi7J9XaUW3"
      },
      "source": [
        "# dummy_x_train = tf.data.Dataset.range(10)\n",
        "\n",
        "# dataset = windowed_dataset(window_size, batch_size, shuffle_buffer_size)\n",
        "# print(dataset)\n",
        "# # print(x_train)\n",
        "\n",
        "# model = tf.keras.models.Sequential([\n",
        "#                                     # tf.keras.layers.Dense(20, input_shape = [window_size], activation = 'relu'),\n",
        "#                                     # tf.keras.layers.Dense(10, activation = 'relu'),\n",
        "#                                     # tf.keras.layers.Dense(1),\n",
        "#                                     tf.keras.layers.Dense(1, input_shape = [window_size]),\n",
        "# ])\n",
        "\n",
        "# model.compile(loss = \"mse\", optimizer = tf.keras.optimizers.SGD(lr = 1e-5, momentum = 0.9))\n",
        "# model.fit(dataset, epochs = 100, verbose = 1)"
      ],
      "execution_count": null,
      "outputs": []
    },
    {
      "cell_type": "code",
      "metadata": {
        "id": "PmKykN7op17i"
      },
      "source": [
        "def windowed_dataset(series, window_size, batch_size, shuffle_buffer):\n",
        "  dataset = tf.data.Dataset.from_tensor_slices(series)\n",
        "  # print(dataset)\n",
        "  dataset = dataset.window(window_size + 1, shift = 1, drop_remainder = True)\n",
        "  dataset = dataset.flat_map(lambda window : window.batch(window_size + 1))\n",
        "  dataset = dataset.shuffle(shuffle_buffer).map(lambda window : (window[:-1], window[-1]))\n",
        "  dataset = dataset.batch(batch_size).prefetch(1)\n",
        "\n",
        "  for x, y in dataset:\n",
        "    print('x = ', x.numpy())\n",
        "    print('y = ', y.numpy())\n",
        "  return dataset"
      ],
      "execution_count": null,
      "outputs": []
    },
    {
      "cell_type": "code",
      "metadata": {
        "colab": {
          "base_uri": "https://localhost:8080/"
        },
        "id": "yX8bWf5wp3p2",
        "outputId": "603535f8-781e-4310-c873-81857c77a876"
      },
      "source": [
        "dummy_x_train = tf.data.Dataset.range(10)\n",
        "\n",
        "dataset = windowed_dataset(x_train, window_size, batch_size, shuffle_buffer_size)\n",
        "dataset_2 = windowed_dataset(x_train_2, window_size, batch_size, shuffle_buffer_size)\n",
        "dataset_3 = windowed_dataset(x_train_3, window_size, batch_size, shuffle_buffer_size)\n",
        "print(dataset)\n",
        "# print(x_train)\n",
        "\n"
      ],
      "execution_count": null,
      "outputs": [
        {
          "output_type": "stream",
          "text": [
            "x =  [[10223729 11184859 11012137 11285787 11260092]\n",
            " [ 8580887  8948644  9214860  9602123 10223729]\n",
            " [11184859 11012137 11285787 11260092 11569899]\n",
            " [ 9602123 10223729 11184859 11012137 11285787]\n",
            " [ 9214860  9602123 10223729 11184859 11012137]]\n",
            "y =  [11569899 11184859 12096895 11260092 11285787]\n",
            "x =  [[ 8948644  9214860  9602123 10223729 11184859]\n",
            " [11285787 11260092 11569899 12096895 12371672]\n",
            " [12371672 12425780 12464661 12241940 12247055]\n",
            " [11569899 12096895 12371672 12425780 12464661]\n",
            " [12425780 12464661 12241940 12247055 12503511]]\n",
            "y =  [11012137 12425780 12503511 12241940 12766642]\n",
            "x =  [[11012137 11285787 11260092 11569899 12096895]\n",
            " [11260092 11569899 12096895 12371672 12425780]\n",
            " [12503511 12766642 13055337 13538560 13818637]\n",
            " [12766642 13055337 13538560 13818637 14358953]\n",
            " [12241940 12247055 12503511 12766642 13055337]]\n",
            "y =  [12371672 12464661 14358953 14487359 13538560]\n",
            "x =  [[12096895 12371672 12425780 12464661 12241940]\n",
            " [13055337 13538560 13818637 14358953 14487359]\n",
            " [12247055 12503511 12766642 13055337 13538560]\n",
            " [13538560 13818637 14358953 14487359 14304803]\n",
            " [13818637 14358953 14487359 14304803 14278790]]\n",
            "y =  [12247055 14304803 13818637 14278790 14261781]\n",
            "x =  [[14487359 14304803 14278790 14261781 14367520]\n",
            " [14304803 14278790 14261781 14367520 14502334]\n",
            " [14278790 14261781 14367520 14502334 14506967]\n",
            " [14358953 14487359 14304803 14278790 14261781]\n",
            " [12464661 12241940 12247055 12503511 12766642]]\n",
            "y =  [14502334 14506967 14849691 14367520 13055337]\n",
            "x =  [[7070635 7419516 7988500 8834508 8653477]\n",
            " [6804309 7070635 7419516 7988500 8834508]\n",
            " [6428134 6804309 7070635 7419516 7988500]\n",
            " [7988500 8834508 8653477 8846993 8785893]\n",
            " [8785893 9036822 9457394 9647032 9696087]]\n",
            "y =  [8846993 8653477 8834508 9036822 9682734]\n",
            "x =  [[8653477 8846993 8785893 9036822 9457394]\n",
            " [9457394 9647032 9696087 9682734 9477370]\n",
            " [7419516 7988500 8834508 8653477 8846993]\n",
            " [8834508 8653477 8846993 8785893 9036822]\n",
            " [9036822 9457394 9647032 9696087 9682734]]\n",
            "y =  [9647032 9479273 8785893 9457394 9477370]\n",
            "x =  [[ 9682734  9477370  9479273  9713893  9973254]\n",
            " [ 8846993  8785893  9036822  9457394  9647032]\n",
            " [ 9479273  9713893  9973254 10161388 10577963]\n",
            " [ 9713893  9973254 10161388 10577963 10844717]\n",
            " [ 9696087  9682734  9477370  9479273  9713893]]\n",
            "y =  [10161388  9696087 10844717 11309563  9973254]\n",
            "x =  [[10161388 10577963 10844717 11309563 11384567]\n",
            " [10844717 11309563 11384567 11189088 11133680]\n",
            " [11309563 11384567 11189088 11133680 11092374]\n",
            " [10577963 10844717 11309563 11384567 11189088]\n",
            " [ 9973254 10161388 10577963 10844717 11309563]]\n",
            "y =  [11189088 11092374 11120499 11133680 11384567]\n",
            "x =  [[ 9477370  9479273  9713893  9973254 10161388]\n",
            " [11384567 11189088 11133680 11092374 11120499]\n",
            " [11189088 11133680 11092374 11120499 11196119]\n",
            " [ 9647032  9696087  9682734  9477370  9479273]\n",
            " [11133680 11092374 11120499 11196119 11137769]]\n",
            "y =  [10577963 11196119 11137769  9713893 11375739]\n",
            "x =  [[2144335 2144225 2182607 2235229 2350351]\n",
            " [2144225 2182607 2235229 2350351 2358660]\n",
            " [2235229 2350351 2358660 2438794 2474199]\n",
            " [2182607 2235229 2350351 2358660 2438794]\n",
            " [2474199 2533077 2639501 2724640 2729693]]\n",
            "y =  [2358660 2438794 2533077 2474199 2781927]\n",
            "x =  [[2438794 2474199 2533077 2639501 2724640]\n",
            " [2533077 2639501 2724640 2729693 2781927]\n",
            " [2639501 2724640 2729693 2781927 2764570]\n",
            " [2724640 2729693 2781927 2764570 2767782]\n",
            " [2350351 2358660 2438794 2474199 2533077]]\n",
            "y =  [2729693 2764570 2767782 2789618 2639501]\n",
            "x =  [[2781927 2764570 2767782 2789618 2793388]\n",
            " [2729693 2781927 2764570 2767782 2789618]\n",
            " [2358660 2438794 2474199 2533077 2639501]\n",
            " [2152753 2144335 2144225 2182607 2235229]\n",
            " [2767782 2789618 2793388 2893949 2960597]]\n",
            "y =  [2893949 2793388 2724640 2350351 2973920]\n",
            "x =  [[2793388 2893949 2960597 2973920 3049390]\n",
            " [2973920 3049390 3102792 3115715 3145110]\n",
            " [2789618 2793388 2893949 2960597 2973920]\n",
            " [2764570 2767782 2789618 2793388 2893949]\n",
            " [3102792 3115715 3145110 3169407 3247021]]\n",
            "y =  [3102792 3169407 3049390 2960597 3306215]\n",
            "x =  [[3049390 3102792 3115715 3145110 3169407]\n",
            " [3145110 3169407 3247021 3306215 3369198]\n",
            " [3115715 3145110 3169407 3247021 3306215]\n",
            " [2893949 2960597 2973920 3049390 3102792]\n",
            " [2960597 2973920 3049390 3102792 3115715]]\n",
            "y =  [3247021 3473952 3369198 3115715 3145110]\n",
            "<PrefetchDataset shapes: ((None, None), (None,)), types: (tf.int64, tf.int64)>\n"
          ],
          "name": "stdout"
        }
      ]
    },
    {
      "cell_type": "code",
      "metadata": {
        "id": "2FIQIJ1Gbyrq",
        "colab": {
          "base_uri": "https://localhost:8080/"
        },
        "outputId": "2433e0dc-638b-4e02-ae75-33616491b9b5"
      },
      "source": [
        "model = tf.keras.models.Sequential([\n",
        "                                    # tf.keras.layers.Dense(20, input_shape = [window_size], activation = 'relu'),\n",
        "                                    # tf.keras.layers.Dense(10, activation = 'relu'),\n",
        "                                    # tf.keras.layers.Dense(1),\n",
        "                                    tf.keras.layers.Dense(1, input_shape = [window_size]),\n",
        "])\n",
        "\n",
        "model.compile(loss = \"mae\", optimizer = tf.keras.optimizers.Adam(lr = 1e-3))\n",
        "model.fit(dataset, epochs = 500, verbose = 0)"
      ],
      "execution_count": null,
      "outputs": [
        {
          "output_type": "execute_result",
          "data": {
            "text/plain": [
              "<tensorflow.python.keras.callbacks.History at 0x7fee04f1f950>"
            ]
          },
          "metadata": {
            "tags": []
          },
          "execution_count": 94
        }
      ]
    },
    {
      "cell_type": "code",
      "metadata": {
        "id": "2IuVvGkWTtLX"
      },
      "source": [
        ""
      ],
      "execution_count": null,
      "outputs": []
    },
    {
      "cell_type": "code",
      "metadata": {
        "id": "XWRmCS8wj29O"
      },
      "source": [
        "forecast = []\n",
        "\n",
        "for tim in range(len(time) + window_size):\n",
        "\n",
        "  if(tim > len(time) - 2*window_size - 1):\n",
        "    series_total_all.append(np.squeeze(model.predict(series_to_edit[tim:tim + window_size][np.newaxis])))\n",
        "    series_to_edit = np.array(series_total_all)\n",
        "\n",
        "\n",
        "  forecast.append(model.predict(series_to_edit[tim:tim + window_size][np.newaxis]))\n",
        "\n",
        "# forecast = forecast[split_time - window_size:]\n",
        "results = np.array(forecast)[:, 0, 0]\n",
        "\n",
        "\n"
      ],
      "execution_count": null,
      "outputs": []
    },
    {
      "cell_type": "code",
      "metadata": {
        "colab": {
          "base_uri": "https://localhost:8080/"
        },
        "id": "g-JSeAVS0GOS",
        "outputId": "213842f6-1a97-4137-d855-e5d9a29daaf4"
      },
      "source": [
        "tf.keras.metrics.mean_absolute_error(series[5:]/10000, results[:-10]).numpy()"
      ],
      "execution_count": null,
      "outputs": [
        {
          "output_type": "execute_result",
          "data": {
            "text/plain": [
              "15412739.0"
            ]
          },
          "metadata": {
            "tags": []
          },
          "execution_count": 112
        }
      ]
    },
    {
      "cell_type": "code",
      "metadata": {
        "colab": {
          "base_uri": "https://localhost:8080/"
        },
        "id": "dcRbpFJLQpYt",
        "outputId": "4994dcfa-d565-4143-b0ce-1fd57091b13d"
      },
      "source": [
        "model.compile(loss = \"mae\", optimizer = tf.keras.optimizers.Adam(lr = 1e-3))\n",
        "model.fit(dataset_2, epochs = 500, verbose = 0)"
      ],
      "execution_count": null,
      "outputs": [
        {
          "output_type": "execute_result",
          "data": {
            "text/plain": [
              "<tensorflow.python.keras.callbacks.History at 0x7fee06903c90>"
            ]
          },
          "metadata": {
            "tags": []
          },
          "execution_count": 113
        }
      ]
    },
    {
      "cell_type": "code",
      "metadata": {
        "id": "9uJ2wKCJQqCJ"
      },
      "source": [
        "forecast_2 = []\n",
        "\n",
        "for tim in range(len(time) + window_size):\n",
        "\n",
        "  if(tim > len(time) - 2*window_size - 1):\n",
        "    series_total_all_2.append(np.squeeze(model.predict(series_to_edit_2[tim:tim + window_size][np.newaxis])))\n",
        "    series_to_edit_2 = np.array(series_total_all_2)\n",
        "\n",
        "\n",
        "  forecast_2.append(model.predict(series_to_edit_2[tim:tim + window_size][np.newaxis]))\n",
        "\n",
        "# forecast = forecast[split_time - window_size:]\n",
        "results_2 = np.array(forecast_2)[:, 0, 0]\n",
        "\n",
        "\n",
        "\n"
      ],
      "execution_count": null,
      "outputs": []
    },
    {
      "cell_type": "code",
      "metadata": {
        "colab": {
          "base_uri": "https://localhost:8080/"
        },
        "id": "DQhWtqbCQqNF",
        "outputId": "6f6ed3f3-784d-4469-d926-3be1fe4177ec"
      },
      "source": [
        "model.compile(loss = \"mae\", optimizer = tf.keras.optimizers.Adam(lr = 1e-3))\n",
        "model.fit(dataset_3, epochs = 500, verbose = 0)"
      ],
      "execution_count": null,
      "outputs": [
        {
          "output_type": "execute_result",
          "data": {
            "text/plain": [
              "<tensorflow.python.keras.callbacks.History at 0x7fee0304aad0>"
            ]
          },
          "metadata": {
            "tags": []
          },
          "execution_count": 116
        }
      ]
    },
    {
      "cell_type": "code",
      "metadata": {
        "id": "clebxNIdQqSz"
      },
      "source": [
        "forecast_3 = []\n",
        "\n",
        "for tim in range(len(time) + window_size):\n",
        "\n",
        "  if(tim > len(time) - 2*window_size - 1):\n",
        "    series_total_all_3.append(np.squeeze(model.predict(series_to_edit_3[tim:tim + window_size][np.newaxis])))\n",
        "    series_to_edit_3 = np.array(series_total_all_3)\n",
        "\n",
        "\n",
        "  forecast_3.append(model.predict(series_to_edit_3[tim:tim + window_size][np.newaxis]))\n",
        "\n",
        "# forecast = forecast[split_time - window_size:]\n",
        "results_3 = np.array(forecast_3)[:, 0, 0]\n"
      ],
      "execution_count": null,
      "outputs": []
    },
    {
      "cell_type": "code",
      "metadata": {
        "colab": {
          "base_uri": "https://localhost:8080/",
          "height": 528
        },
        "id": "ZCvKLFvCQqXp",
        "outputId": "a6a55e02-b1fa-43bd-ffbc-a033adec51b3"
      },
      "source": [
        "plt.figure(figsize = (10,7))\n",
        "\n",
        "plot_series(range(1970, 2019), series)\n",
        "# plot_series(range(1970, 2029, 1), series_to_edit)\n",
        "plot_series(range(1975, 2029), results)\n",
        "\n",
        "plot_series(range(1970, 2019), series_2)\n",
        "# plot_series(range(1970, 2029, 1), series_to_edit)\n",
        "plot_series(range(1975, 2029), results_2)\n",
        "\n",
        "plot_series(range(1970, 2019), series_3)\n",
        "# plot_series(range(1970, 2029, 1), series_to_edit)\n",
        "plot_series(range(1975, 2029), results_3)\n",
        "plt.xticks = [range(1970, 2018, 2)]\n",
        "plt.ylabel('Total Fall Enrollments')\n",
        "print(time)\n",
        "print(len(forecast_3))"
      ],
      "execution_count": null,
      "outputs": [
        {
          "output_type": "stream",
          "text": [
            "[ 1  2  3  4  5  6  7  8  9 10 11 12 13 14 15 16 17 18 19 20 21 22 23 24\n",
            " 25 26 27 28 29 30 31 32 33 34 35 36 37 38 39 40 41 42 43 44 45 46 47 48\n",
            " 49]\n",
            "54\n"
          ],
          "name": "stdout"
        },
        {
          "output_type": "display_data",
          "data": {
            "image/png": "[encoded data removed]",
            "text/plain": [
              "<Figure size 720x504 with 1 Axes>"
            ]
          },
          "metadata": {
            "tags": [],
            "needs_background": "light"
          }
        }
      ]
    },
    {
      "cell_type": "code",
      "metadata": {
        "colab": {
          "base_uri": "https://localhost:8080/"
        },
        "id": "Z1rWsr65C7wo",
        "outputId": "b6c3cf64-e204-4292-99da-575a3ab7eb82"
      },
      "source": [
        "\n",
        "\n",
        "dataset = windowed_dataset(x_train, window_size, batch_size, shuffle_buffer_size)\n",
        "print(dataset)\n",
        "# print(x_train)\n",
        "\n",
        "model = tf.keras.models.Sequential([\n",
        "                                    tf.keras.layers.Dense(10, input_shape = [window_size],),\n",
        "                                    # tf.keras.layers.Dropout(0.3),\n",
        "                                    tf.keras.layers.Dense(40, activation = 'relu'),\n",
        "                                    # tf.keras.layers.Dropout(0.3),\n",
        "                                    tf.keras.layers.Dense(20, activation = 'relu'),\n",
        "                                    tf.keras.layers.Dropout(0.3),\n",
        "                                    tf.keras.layers.Dense(1)\n",
        "])\n",
        "\n",
        "model.compile(loss = tf.keras.losses.mean_absolute_error, optimizer = tf.keras.optimizers.Adam(lr = 1e-3), metrics = ['acc'])\n",
        "model.fit(dataset, epochs = 500, verbose = 0)\n",
        "\n",
        "# lr_schedule = tf.keras.callbacks.LearningRateScheduler(lambda epoch: 1e-8 * 10 ** (epoch/20) )\n",
        "\n",
        "# model.compile(loss = tf.keras.losses.Huber(), metrics=['mae'], optimizer = tf.keras.optimizers.Adam(lr = 1e-4))\n",
        "# history = model.fit(dataset, epochs = 500, verbose = 1, callbacks = [lr_schedule])"
      ],
      "execution_count": null,
      "outputs": [
        {
          "output_type": "stream",
          "text": [
            "x =  [[ 8948644  9214860  9602123 10223729 11184859]\n",
            " [11184859 11012137 11285787 11260092 11569899]\n",
            " [ 9602123 10223729 11184859 11012137 11285787]\n",
            " [ 8580887  8948644  9214860  9602123 10223729]\n",
            " [11260092 11569899 12096895 12371672 12425780]]\n",
            "y =  [11012137 12096895 11260092 11184859 12464661]\n",
            "x =  [[10223729 11184859 11012137 11285787 11260092]\n",
            " [11285787 11260092 11569899 12096895 12371672]\n",
            " [12371672 12425780 12464661 12241940 12247055]\n",
            " [12096895 12371672 12425780 12464661 12241940]\n",
            " [11569899 12096895 12371672 12425780 12464661]]\n",
            "y =  [11569899 12425780 12503511 12247055 12241940]\n",
            "x =  [[12464661 12241940 12247055 12503511 12766642]\n",
            " [12247055 12503511 12766642 13055337 13538560]\n",
            " [12503511 12766642 13055337 13538560 13818637]\n",
            " [11012137 11285787 11260092 11569899 12096895]\n",
            " [ 9214860  9602123 10223729 11184859 11012137]]\n",
            "y =  [13055337 13818637 14358953 12371672 11285787]\n",
            "x =  [[13538560 13818637 14358953 14487359 14304803]\n",
            " [12766642 13055337 13538560 13818637 14358953]\n",
            " [14358953 14487359 14304803 14278790 14261781]\n",
            " [12241940 12247055 12503511 12766642 13055337]\n",
            " [13818637 14358953 14487359 14304803 14278790]]\n",
            "y =  [14278790 14487359 14367520 13538560 14261781]\n",
            "x =  [[14304803 14278790 14261781 14367520 14502334]\n",
            " [13055337 13538560 13818637 14358953 14487359]\n",
            " [14278790 14261781 14367520 14502334 14506967]\n",
            " [12425780 12464661 12241940 12247055 12503511]\n",
            " [14487359 14304803 14278790 14261781 14367520]]\n",
            "y =  [14506967 14304803 14849691 12766642 14502334]\n",
            "<PrefetchDataset shapes: ((None, None), (None,)), types: (tf.int64, tf.int64)>\n"
          ],
          "name": "stdout"
        },
        {
          "output_type": "execute_result",
          "data": {
            "text/plain": [
              "<tensorflow.python.keras.callbacks.History at 0x7fedf7612050>"
            ]
          },
          "metadata": {
            "tags": []
          },
          "execution_count": 149
        }
      ]
    },
    {
      "cell_type": "code",
      "metadata": {
        "id": "HTPio6_RHUdU"
      },
      "source": [
        "# lrs = 1e-8 * (10 ** (np.arange(500)/20))\n",
        "# plt.semilogx(lrs, history.history['loss'])\n",
        "# plt.axis([1e-8, 1e-3, 0, 300])"
      ],
      "execution_count": null,
      "outputs": []
    },
    {
      "cell_type": "code",
      "metadata": {
        "colab": {
          "base_uri": "https://localhost:8080/",
          "height": 456
        },
        "id": "QXLCI0AvLf8B",
        "outputId": "5acd5cf1-ab10-42b0-9572-1565168bdaeb"
      },
      "source": [
        "forecast = []\n",
        "\n",
        "for tim in range(len(time) - window_size):\n",
        "  forecast.append(model.predict(series[tim:tim + window_size][np.newaxis]))\n",
        "\n",
        "# forecast = forecast[split_time - window_size:]\n",
        "results = np.array(forecast)[:, 0, 0]\n",
        "\n",
        "plt.figure(figsize = (10,6))\n",
        "\n",
        "plot_series(range(1970, 2019, 1), series)\n",
        "plot_series(range(1975, 2019), results)\n",
        "plt.xticks = [range(1970, 2018, 2)]\n",
        "plt.ylabel('Total Fall Enrollments')\n",
        "plt.legend(['Actual Enrollments', 'Predicted Enrollments'])\n",
        "print(time)"
      ],
      "execution_count": null,
      "outputs": [
        {
          "output_type": "stream",
          "text": [
            "[ 1  2  3  4  5  6  7  8  9 10 11 12 13 14 15 16 17 18 19 20 21 22 23 24\n",
            " 25 26 27 28 29 30 31 32 33 34 35 36 37 38 39 40 41 42 43 44 45 46 47 48\n",
            " 49]\n"
          ],
          "name": "stdout"
        },
        {
          "output_type": "display_data",
          "data": {
            "image/png": "[encoded data removed]",
            "text/plain": [
              "<Figure size 720x432 with 1 Axes>"
            ]
          },
          "metadata": {
            "tags": [],
            "needs_background": "light"
          }
        }
      ]
    },
    {
      "cell_type": "code",
      "metadata": {
        "colab": {
          "base_uri": "https://localhost:8080/"
        },
        "id": "rzgkqL2kehAE",
        "outputId": "9fd271dd-b41b-424c-cb98-f6f041b08ed1"
      },
      "source": [
        "forecast = []\n",
        "print(len(series_to_edit))\n",
        "print('\\n')\n",
        "print(series_to_edit)\n",
        "print('\\n')\n",
        "for tim in range(len(time) + window_size):\n",
        "  # series\n",
        "\n",
        "  if(tim > len(time) - 2*window_size - 1):\n",
        "    series_total_all.append(np.squeeze(model.predict(series_to_edit[tim:tim + window_size][np.newaxis])))\n",
        "    series_to_edit = np.array(series_total_all)\n",
        "\n",
        "\n",
        "  forecast.append(model.predict(series_to_edit[tim:tim + window_size][np.newaxis]))\n",
        "\n",
        "print(len(series_to_edit))\n",
        "print('\\n')\n",
        "print(series_to_edit)\n",
        "# forecast = forecast[split_time - window_size:]\n",
        "results = np.array(forecast)[:, 0, 0]\n",
        "\n",
        "# for tim in range(len(time) - window_size):\n",
        "#   forecast.append(model.predict(series[tim:tim + window_size][np.newaxis]))"
      ],
      "execution_count": null,
      "outputs": [
        {
          "output_type": "stream",
          "text": [
            "169\n",
            "\n",
            "\n",
            "[ 8580887.  8948644.  9214860.  9602123. 10223729. 11184859. 11012137.\n",
            " 11285787. 11260092. 11569899. 12096895. 12371672. 12425780. 12464661.\n",
            " 12241940. 12247055. 12503511. 12766642. 13055337. 13538560. 13818637.\n",
            " 14358953. 14487359. 14304803. 14278790. 14261781. 14367520. 14502334.\n",
            " 14506967. 14849691. 15312289. 15927987. 16611711. 16911481. 17272044.\n",
            " 17487475. 17754230. 18258138. 19081686. 20313594. 21019438. 21010590.\n",
            " 20644478. 20376677. 20209092. 19988204. 19846904. 19778151. 19645918.\n",
            " 20787814. 20889594. 20781266. 20580686. 20436868. 20310034. 21145124.\n",
            " 21143488. 21247348. 20725478. 21027042. 20971620. 21617684. 21540696.\n",
            " 21732366. 20787814. 20889594. 20781266. 20580686. 20436868. 20310034.\n",
            " 21145124. 21143488. 21247348. 20725478. 21027042. 20971620. 21617684.\n",
            " 21540696. 21732366. 20606300. 20663594. 20553170. 20367832. 20238908.\n",
            " 20118954. 21053110. 21090078. 21174940. 20603602. 20834210. 20769084.\n",
            " 21489342. 21443256. 21638846. 20679608. 20539250. 20400978. 20207018.\n",
            " 20102130. 20018940. 20577804. 21348898. 21249896. 20853706. 20772264.\n",
            " 20663084. 21085084. 21614614. 21591526. 11078162. 11137050. 10999373.\n",
            " 10839646. 10735729. 10638632. 10439286. 10570738. 10512704. 10921570.\n",
            " 11073933. 11038671. 10860192. 10917880. 10825178. 20787160. 20488100.\n",
            " 20237960. 20070472. 19988012. 19874056. 20490108. 21088646. 20991828.\n",
            " 21030378. 20718252. 20557800. 20976216. 21369240. 21378302. 15109623.\n",
            " 15083018. 14933139. 14789246. 14675195. 14564021. 14945272. 14871969.\n",
            " 15064818. 15044149. 15149320. 15075170. 15338670. 15231694. 15430215.\n",
            " 17069294. 17256112. 17137304. 16916384. 16782022. 16657441. 16911218.\n",
            " 17060304. 16886924. 16895396. 17247692. 17227640. 17423550. 17465644.\n",
            " 17349698.]\n",
            "\n",
            "\n",
            "184\n",
            "\n",
            "\n",
            "[ 8580887.  8948644.  9214860.  9602123. 10223729. 11184859. 11012137.\n",
            " 11285787. 11260092. 11569899. 12096895. 12371672. 12425780. 12464661.\n",
            " 12241940. 12247055. 12503511. 12766642. 13055337. 13538560. 13818637.\n",
            " 14358953. 14487359. 14304803. 14278790. 14261781. 14367520. 14502334.\n",
            " 14506967. 14849691. 15312289. 15927987. 16611711. 16911481. 17272044.\n",
            " 17487475. 17754230. 18258138. 19081686. 20313594. 21019438. 21010590.\n",
            " 20644478. 20376677. 20209092. 19988204. 19846904. 19778151. 19645918.\n",
            " 20787814. 20889594. 20781266. 20580686. 20436868. 20310034. 21145124.\n",
            " 21143488. 21247348. 20725478. 21027042. 20971620. 21617684. 21540696.\n",
            " 21732366. 20787814. 20889594. 20781266. 20580686. 20436868. 20310034.\n",
            " 21145124. 21143488. 21247348. 20725478. 21027042. 20971620. 21617684.\n",
            " 21540696. 21732366. 20606300. 20663594. 20553170. 20367832. 20238908.\n",
            " 20118954. 21053110. 21090078. 21174940. 20603602. 20834210. 20769084.\n",
            " 21489342. 21443256. 21638846. 20679608. 20539250. 20400978. 20207018.\n",
            " 20102130. 20018940. 20577804. 21348898. 21249896. 20853706. 20772264.\n",
            " 20663084. 21085084. 21614614. 21591526. 11078162. 11137050. 10999373.\n",
            " 10839646. 10735729. 10638632. 10439286. 10570738. 10512704. 10921570.\n",
            " 11073933. 11038671. 10860192. 10917880. 10825178. 20787160. 20488100.\n",
            " 20237960. 20070472. 19988012. 19874056. 20490108. 21088646. 20991828.\n",
            " 21030378. 20718252. 20557800. 20976216. 21369240. 21378302. 15109623.\n",
            " 15083018. 14933139. 14789246. 14675195. 14564021. 14945272. 14871969.\n",
            " 15064818. 15044149. 15149320. 15075170. 15338670. 15231694. 15430215.\n",
            " 17069294. 17256112. 17137304. 16916384. 16782022. 16657441. 16911218.\n",
            " 17060304. 16886924. 16895396. 17247692. 17227640. 17423550. 17465644.\n",
            " 17349698. 20612500. 20451516. 20212004. 20030940. 19902354. 19759440.\n",
            " 20317842. 20461096. 20594882. 20656606. 20589036. 20456894. 20830172.\n",
            " 20872244. 21052792.]\n"
          ],
          "name": "stdout"
        }
      ]
    },
    {
      "cell_type": "code",
      "metadata": {
        "colab": {
          "base_uri": "https://localhost:8080/",
          "height": 474
        },
        "id": "Pp7tntwohGmg",
        "outputId": "0bee941c-49c0-483a-ea19-4b9e2806f96b"
      },
      "source": [
        "plt.figure(figsize = (10,6))\n",
        "\n",
        "plot_series(range(1970, 2019), series)\n",
        "# plot_series(range(1970, 2029, 1), series_to_edit)\n",
        "plot_series(range(1975, 2029), results)\n",
        "plt.xticks = [range(1970, 2018, 2)]\n",
        "plt.ylabel('Total Fall Enrollments')\n",
        "print(time)\n",
        "print(len(forecast))"
      ],
      "execution_count": null,
      "outputs": [
        {
          "output_type": "stream",
          "text": [
            "[ 1  2  3  4  5  6  7  8  9 10 11 12 13 14 15 16 17 18 19 20 21 22 23 24\n",
            " 25 26 27 28 29 30 31 32 33 34 35 36 37 38 39 40 41 42 43 44 45 46 47 48\n",
            " 49]\n",
            "54\n"
          ],
          "name": "stdout"
        },
        {
          "output_type": "display_data",
          "data": {
            "image/png": "[encoded data removed]",
            "text/plain": [
              "<Figure size 720x432 with 1 Axes>"
            ]
          },
          "metadata": {
            "tags": [],
            "needs_background": "light"
          }
        }
      ]
    },
    {
      "cell_type": "code",
      "metadata": {
        "colab": {
          "base_uri": "https://localhost:8080/"
        },
        "id": "_GKE72hYoBTJ",
        "outputId": "83a9affa-6b61-4927-d592-857c6e74a542"
      },
      "source": [
        "tf.keras.metrics.mean_absolute_error(series[5:], results[:-10]).numpy()"
      ],
      "execution_count": null,
      "outputs": [
        {
          "output_type": "execute_result",
          "data": {
            "text/plain": [
              "562774.06"
            ]
          },
          "metadata": {
            "tags": []
          },
          "execution_count": 154
        }
      ]
    },
    {
      "cell_type": "code",
      "metadata": {
        "colab": {
          "base_uri": "https://localhost:8080/"
        },
        "id": "uRqcwNUbY06v",
        "outputId": "d5e2638d-68a1-4e2e-c1ba-a75e66876dd6"
      },
      "source": [
        "model.compile(loss = \"mae\", optimizer = tf.keras.optimizers.Adam(lr = 1e-3))\n",
        "model.fit(dataset_2, epochs = 500, verbose = 0)"
      ],
      "execution_count": null,
      "outputs": [
        {
          "output_type": "execute_result",
          "data": {
            "text/plain": [
              "<tensorflow.python.keras.callbacks.History at 0x7fedf87d88d0>"
            ]
          },
          "metadata": {
            "tags": []
          },
          "execution_count": 157
        }
      ]
    },
    {
      "cell_type": "code",
      "metadata": {
        "id": "Q4esoqMDY1BG"
      },
      "source": [
        "forecast_2 = []\n",
        "\n",
        "for tim in range(len(time) + window_size):\n",
        "\n",
        "  if(tim > len(time) - 2*window_size - 1):\n",
        "    series_total_all_2.append(np.squeeze(model.predict(series_to_edit_2[tim:tim + window_size][np.newaxis])))\n",
        "    series_to_edit_2 = np.array(series_total_all_2)\n",
        "\n",
        "\n",
        "  forecast_2.append(model.predict(series_to_edit_2[tim:tim + window_size][np.newaxis]))\n",
        "\n",
        "# forecast = forecast[split_time - window_size:]\n",
        "results_2 = np.array(forecast_2)[:, 0, 0]\n"
      ],
      "execution_count": null,
      "outputs": []
    },
    {
      "cell_type": "code",
      "metadata": {
        "id": "Mh_rjH9sY1GD"
      },
      "source": [
        "model.compile(loss = \"mae\", optimizer = tf.keras.optimizers.Adam(lr = 1e-3))\n",
        "model.fit(dataset_3, epochs = 500, verbose = 0)"
      ],
      "execution_count": null,
      "outputs": []
    },
    {
      "cell_type": "code",
      "metadata": {
        "id": "QSPYIrtyY1NW"
      },
      "source": [
        "forecast_3 = []\n",
        "\n",
        "for tim in range(len(time) + window_size):\n",
        "\n",
        "  if(tim > len(time) - 2*window_size - 1):\n",
        "    series_total_all_3.append(np.squeeze(model.predict(series_to_edit_3[tim:tim + window_size][np.newaxis])))\n",
        "    series_to_edit_3 = np.array(series_total_all_3)\n",
        "\n",
        "\n",
        "  forecast_3.append(model.predict(series_to_edit_3[tim:tim + window_size][np.newaxis]))\n",
        "\n",
        "# forecast = forecast[split_time - window_size:]\n",
        "results_3 = np.array(forecast_3)[:, 0, 0]"
      ],
      "execution_count": null,
      "outputs": []
    },
    {
      "cell_type": "code",
      "metadata": {
        "colab": {
          "base_uri": "https://localhost:8080/",
          "height": 474
        },
        "id": "dIAnfwVzY1S-",
        "outputId": "5b015032-c5d3-44a7-91c9-db77e83dc244"
      },
      "source": [
        "plt.figure(figsize = (10,6))\n",
        "\n",
        "plot_series(range(1970, 2019), series)\n",
        "# plot_series(range(1970, 2029, 1), series_to_edit)\n",
        "plot_series(range(1975, 2029), results)\n",
        "\n",
        "plot_series(range(1970, 2019), series_2)\n",
        "# plot_series(range(1970, 2029, 1), series_to_edit)\n",
        "plot_series(range(1975, 2029), results_2)\n",
        "\n",
        "plot_series(range(1970, 2019), series_3)\n",
        "# plot_series(range(1970, 2029, 1), series_to_edit)\n",
        "plot_series(range(1975, 2029), results_3)\n",
        "plt.xticks = [range(1970, 2018, 2)]\n",
        "plt.ylabel('Total Fall Enrollments')\n",
        "print(time)\n",
        "print(len(forecast_3))"
      ],
      "execution_count": null,
      "outputs": [
        {
          "output_type": "stream",
          "text": [
            "[ 1  2  3  4  5  6  7  8  9 10 11 12 13 14 15 16 17 18 19 20 21 22 23 24\n",
            " 25 26 27 28 29 30 31 32 33 34 35 36 37 38 39 40 41 42 43 44 45 46 47 48\n",
            " 49]\n",
            "54\n"
          ],
          "name": "stdout"
        },
        {
          "output_type": "display_data",
          "data": {
            "image/png": "[encoded data removed]",
            "text/plain": [
              "<Figure size 720x432 with 1 Axes>"
            ]
          },
          "metadata": {
            "tags": [],
            "needs_background": "light"
          }
        }
      ]
    },
    {
      "cell_type": "code",
      "metadata": {
        "colab": {
          "base_uri": "https://localhost:8080/"
        },
        "id": "RZP-8KUcl1sk",
        "outputId": "87d4d12b-35a1-47e1-d6a9-dac4b6dab3b5"
      },
      "source": [
        "dataset = windowed_dataset(x_train, window_size, batch_size, shuffle_buffer_size)\n",
        "print(dataset)\n",
        "# print(x_train)\n",
        "\n",
        "model = tf.keras.models.Sequential([\n",
        "                                    tf.keras.layers.Lambda(lambda x: tf.expand_dims(x, axis = -1), input_shape = [None]),\n",
        "                                    tf.keras.layers.SimpleRNN(40, return_sequences=True),\n",
        "                                    tf.keras.layers.SimpleRNN(40),\n",
        "                                    tf.keras.layers.Dense(1),\n",
        "                                    # tf.keras.layers.Lambda(lambda x : x*100)\n",
        "])\n",
        "\n",
        "model.compile(loss = tf.keras.losses.mean_absolute_error, optimizer = tf.keras.optimizers.Adam(lr = 1e-3), metrics = ['acc'])\n",
        "model.fit(dataset, epochs = 500, verbose = 0)\n"
      ],
      "execution_count": null,
      "outputs": [
        {
          "output_type": "stream",
          "text": [
            "x =  [[ 9602123 10223729 11184859 11012137 11285787]\n",
            " [ 8580887  8948644  9214860  9602123 10223729]\n",
            " [ 8948644  9214860  9602123 10223729 11184859]\n",
            " [10223729 11184859 11012137 11285787 11260092]\n",
            " [ 9214860  9602123 10223729 11184859 11012137]]\n",
            "y =  [11260092 11184859 11012137 11569899 11285787]\n",
            "x =  [[11569899 12096895 12371672 12425780 12464661]\n",
            " [11012137 11285787 11260092 11569899 12096895]\n",
            " [12096895 12371672 12425780 12464661 12241940]\n",
            " [11184859 11012137 11285787 11260092 11569899]\n",
            " [12464661 12241940 12247055 12503511 12766642]]\n",
            "y =  [12241940 12371672 12247055 12096895 13055337]\n",
            "x =  [[11260092 11569899 12096895 12371672 12425780]\n",
            " [12425780 12464661 12241940 12247055 12503511]\n",
            " [12503511 12766642 13055337 13538560 13818637]\n",
            " [11285787 11260092 11569899 12096895 12371672]\n",
            " [12247055 12503511 12766642 13055337 13538560]]\n",
            "y =  [12464661 12766642 14358953 12425780 13818637]\n",
            "x =  [[12766642 13055337 13538560 13818637 14358953]\n",
            " [13818637 14358953 14487359 14304803 14278790]\n",
            " [14358953 14487359 14304803 14278790 14261781]\n",
            " [12371672 12425780 12464661 12241940 12247055]\n",
            " [14487359 14304803 14278790 14261781 14367520]]\n",
            "y =  [14487359 14261781 14367520 12503511 14502334]\n",
            "x =  [[14278790 14261781 14367520 14502334 14506967]\n",
            " [13538560 13818637 14358953 14487359 14304803]\n",
            " [12241940 12247055 12503511 12766642 13055337]\n",
            " [14304803 14278790 14261781 14367520 14502334]\n",
            " [13055337 13538560 13818637 14358953 14487359]]\n",
            "y =  [14849691 14278790 13538560 14506967 14304803]\n",
            "<PrefetchDataset shapes: ((None, None), (None,)), types: (tf.int64, tf.int64)>\n"
          ],
          "name": "stdout"
        },
        {
          "output_type": "execute_result",
          "data": {
            "text/plain": [
              "<tensorflow.python.keras.callbacks.History at 0x7fee06ac2bd0>"
            ]
          },
          "metadata": {
            "tags": []
          },
          "execution_count": 78
        }
      ]
    },
    {
      "cell_type": "code",
      "metadata": {
        "colab": {
          "base_uri": "https://localhost:8080/"
        },
        "id": "cpUdtIZIQ_Dt",
        "outputId": "0a779b40-13ed-4547-994a-db6ee4d6e907"
      },
      "source": [
        "forecast_2 = []\n",
        "print(len(series_2))\n",
        "print('\\n')\n",
        "print(series_2)\n",
        "print('\\n')\n",
        "for tim in range(len(time) + window_size):\n",
        "  # series\n",
        "\n",
        "  if(tim > len(time) - 2*window_size - 1):\n",
        "    series_total_all_2.append(np.squeeze(model.predict(series_2[tim:tim + window_size][np.newaxis])))\n",
        "    series_2 = np.array(series_total_all_2)\n",
        "\n",
        "\n",
        "  forecast_2.append(model.predict(series_to_edit[tim:tim + window_size][np.newaxis]))\n",
        "\n",
        "print(len(series_2))\n",
        "print('\\n')\n",
        "print(series_2)\n",
        "# forecast = forecast[split_time - window_size:]\n",
        "results_2 = np.array(forecast_2)[:, 0, 0]\n",
        "\n",
        "# for tim in range(len(time) - window_size):\n",
        "#   forecast.append(model.predict(series[tim:tim + window_size][np.newaxis]))"
      ],
      "execution_count": null,
      "outputs": [
        {
          "output_type": "stream",
          "text": [
            "94\n",
            "\n",
            "\n",
            "[6.26150200e+06 6.36935500e+06 6.45867400e+06 6.59002300e+06\n",
            " 6.81973500e+06 7.21474000e+06 7.12881600e+06 7.24284500e+06\n",
            " 7.23162500e+06 7.35323300e+06 7.57060800e+06 7.65546100e+06\n",
            " 7.65407400e+06 7.74119500e+06 7.71116700e+06 7.71597800e+06\n",
            " 7.82396300e+06 7.99042000e+06 8.18018200e+06 8.38767100e+06\n",
            " 8.57855400e+06 8.70705300e+06 8.76496900e+06 8.73893600e+06\n",
            " 8.74908000e+06 8.76925200e+06 8.80419300e+06 8.89676500e+06\n",
            " 9.01765300e+06 9.19616000e+06 9.36385800e+06 9.67740800e+06\n",
            " 1.00823320e+07 1.04172470e+07 1.07261810e+07 1.09994200e+07\n",
            " 1.12406780e+07 1.16288930e+07 1.21104870e+07 1.27910120e+07\n",
            " 1.33358410e+07 1.34994400e+07 1.34766380e+07 1.34060330e+07\n",
            " 1.34944140e+07 1.34887430e+07 1.37544860e+07 1.38253800e+07\n",
            " 1.39007100e+07 1.39047860e+07 1.39710970e+07 1.39258410e+07\n",
            " 1.39949110e+07 1.39688790e+07 1.42225730e+07 1.42928710e+07\n",
            " 1.44025980e+07 1.44178600e+07 1.44906260e+07 1.44493650e+07\n",
            " 1.45159110e+07 1.44747160e+07 1.47128070e+07 1.47773470e+07\n",
            " 1.39047860e+07 1.39710970e+07 1.39258410e+07 1.39949110e+07\n",
            " 1.39688790e+07 1.42225730e+07 1.42928710e+07 1.44025980e+07\n",
            " 1.44178600e+07 1.44906260e+07 1.44493650e+07 1.45159110e+07\n",
            " 1.44747160e+07 1.47128070e+07 1.47773470e+07 1.09200935e+02\n",
            " 1.09200935e+02 1.09200935e+02 1.09200935e+02 1.09200935e+02\n",
            " 1.09200935e+02 1.09200935e+02 1.09200935e+02 1.09200935e+02\n",
            " 1.09200935e+02 1.09200935e+02 1.09200935e+02 1.09200935e+02\n",
            " 1.09200935e+02 1.09200935e+02]\n",
            "\n",
            "\n",
            "109\n",
            "\n",
            "\n",
            "[6.26150200e+06 6.36935500e+06 6.45867400e+06 6.59002300e+06\n",
            " 6.81973500e+06 7.21474000e+06 7.12881600e+06 7.24284500e+06\n",
            " 7.23162500e+06 7.35323300e+06 7.57060800e+06 7.65546100e+06\n",
            " 7.65407400e+06 7.74119500e+06 7.71116700e+06 7.71597800e+06\n",
            " 7.82396300e+06 7.99042000e+06 8.18018200e+06 8.38767100e+06\n",
            " 8.57855400e+06 8.70705300e+06 8.76496900e+06 8.73893600e+06\n",
            " 8.74908000e+06 8.76925200e+06 8.80419300e+06 8.89676500e+06\n",
            " 9.01765300e+06 9.19616000e+06 9.36385800e+06 9.67740800e+06\n",
            " 1.00823320e+07 1.04172470e+07 1.07261810e+07 1.09994200e+07\n",
            " 1.12406780e+07 1.16288930e+07 1.21104870e+07 1.27910120e+07\n",
            " 1.33358410e+07 1.34994400e+07 1.34766380e+07 1.34060330e+07\n",
            " 1.34944140e+07 1.34887430e+07 1.37544860e+07 1.38253800e+07\n",
            " 1.39007100e+07 1.39047860e+07 1.39710970e+07 1.39258410e+07\n",
            " 1.39949110e+07 1.39688790e+07 1.42225730e+07 1.42928710e+07\n",
            " 1.44025980e+07 1.44178600e+07 1.44906260e+07 1.44493650e+07\n",
            " 1.45159110e+07 1.44747160e+07 1.47128070e+07 1.47773470e+07\n",
            " 1.39047860e+07 1.39710970e+07 1.39258410e+07 1.39949110e+07\n",
            " 1.39688790e+07 1.42225730e+07 1.42928710e+07 1.44025980e+07\n",
            " 1.44178600e+07 1.44906260e+07 1.44493650e+07 1.45159110e+07\n",
            " 1.44747160e+07 1.47128070e+07 1.47773470e+07 1.09200935e+02\n",
            " 1.09200935e+02 1.09200935e+02 1.09200935e+02 1.09200935e+02\n",
            " 1.09200935e+02 1.09200935e+02 1.09200935e+02 1.09200935e+02\n",
            " 1.09200935e+02 1.09200935e+02 1.09200935e+02 1.09200935e+02\n",
            " 1.09200935e+02 1.09200935e+02 1.09890228e+02 1.09890228e+02\n",
            " 1.09890228e+02 1.09890228e+02 1.09890228e+02 1.09890228e+02\n",
            " 1.09890228e+02 1.09890228e+02 1.09890228e+02 1.09890228e+02\n",
            " 1.09890228e+02 1.09890228e+02 1.09890228e+02 1.09890228e+02\n",
            " 1.09890228e+02]\n"
          ],
          "name": "stdout"
        }
      ]
    },
    {
      "cell_type": "code",
      "metadata": {
        "colab": {
          "base_uri": "https://localhost:8080/",
          "height": 474
        },
        "id": "ugsppB5fQ_Wf",
        "outputId": "b0f9d4e1-9766-47e1-ef6a-22596dc0d3c4"
      },
      "source": [
        "plt.figure(figsize = (10,6))\n",
        "\n",
        "plot_series(range(1970, 2019), series_2)\n",
        "# plot_series(range(1970, 2029, 1), series_to_edit)\n",
        "plot_series(range(1975, 2029), results_2)\n",
        "plt.xticks = [range(1970, 2018, 2)]\n",
        "plt.ylabel('Total Fall Enrollments')\n",
        "print(time)\n",
        "print(len(forecast))"
      ],
      "execution_count": null,
      "outputs": [
        {
          "output_type": "stream",
          "text": [
            "[ 1  2  3  4  5  6  7  8  9 10 11 12 13 14 15 16 17 18 19 20 21 22 23 24\n",
            " 25 26 27 28 29 30 31 32 33 34 35 36 37 38 39 40 41 42 43 44 45 46 47 48\n",
            " 49]\n",
            "54\n"
          ],
          "name": "stdout"
        },
        {
          "output_type": "display_data",
          "data": {
            "image/png": "[encoded data removed]",
            "text/plain": [
              "<Figure size 720x432 with 1 Axes>"
            ]
          },
          "metadata": {
            "tags": [],
            "needs_background": "light"
          }
        }
      ]
    },
    {
      "cell_type": "code",
      "metadata": {
        "id": "5WSVF5i6Q_bo"
      },
      "source": [
        ""
      ],
      "execution_count": null,
      "outputs": []
    },
    {
      "cell_type": "code",
      "metadata": {
        "colab": {
          "base_uri": "https://localhost:8080/"
        },
        "id": "JrH4JD_Nl14m",
        "outputId": "85098b9e-42a3-412d-e2ca-cac5b8403401"
      },
      "source": [
        "forecast = []\n",
        "print(len(series_to_edit))\n",
        "print('\\n')\n",
        "print(series_to_edit)\n",
        "print('\\n')\n",
        "for tim in range(len(time) + window_size):\n",
        "  # series\n",
        "\n",
        "  if(tim > len(time) - 2*window_size - 1):\n",
        "    series_total_all.append(np.squeeze(model.predict(series_to_edit[tim:tim + window_size][np.newaxis])))\n",
        "    series_to_edit = np.array(series_total_all)\n",
        "\n",
        "\n",
        "  forecast.append(model.predict(series_to_edit[tim:tim + window_size][np.newaxis]))\n",
        "\n",
        "print(len(series_to_edit))\n",
        "print('\\n')\n",
        "print(series_to_edit)\n",
        "# forecast = forecast[split_time - window_size:]\n",
        "results = np.array(forecast)[:, 0, 0]/10000\n",
        "\n",
        "# for tim in range(len(time) - window_size):\n",
        "#   forecast.append(model.predict(series[tim:tim + window_size][np.newaxis]))"
      ],
      "execution_count": null,
      "outputs": [
        {
          "output_type": "stream",
          "text": [
            "79\n",
            "\n",
            "\n",
            "[ 8580887.  8948644.  9214860.  9602123. 10223729. 11184859. 11012137.\n",
            " 11285787. 11260092. 11569899. 12096895. 12371672. 12425780. 12464661.\n",
            " 12241940. 12247055. 12503511. 12766642. 13055337. 13538560. 13818637.\n",
            " 14358953. 14487359. 14304803. 14278790. 14261781. 14367520. 14502334.\n",
            " 14506967. 14849691. 15312289. 15927987. 16611711. 16911481. 17272044.\n",
            " 17487475. 17754230. 18258138. 19081686. 20313594. 21019438. 21010590.\n",
            " 20644478. 20376677. 20209092. 19988204. 19846904. 19778151. 19645918.\n",
            " 21776528. 21457174. 21093574. 20848764. 20696210. 20535634. 20003030.\n",
            " 21357374. 21190802. 22748738. 21853822. 21564668. 21446706. 20801010.\n",
            " 21564276. 20042160. 20212296. 20195570. 20004442. 19911992. 19830550.\n",
            " 22051264. 22257592. 21368454. 19819906. 20856756. 20755488. 20148962.\n",
            " 21457694. 21761604.]\n",
            "\n",
            "\n",
            "94\n",
            "\n",
            "\n",
            "[8.58088700e+06 8.94864400e+06 9.21486000e+06 9.60212300e+06\n",
            " 1.02237290e+07 1.11848590e+07 1.10121370e+07 1.12857870e+07\n",
            " 1.12600920e+07 1.15698990e+07 1.20968950e+07 1.23716720e+07\n",
            " 1.24257800e+07 1.24646610e+07 1.22419400e+07 1.22470550e+07\n",
            " 1.25035110e+07 1.27666420e+07 1.30553370e+07 1.35385600e+07\n",
            " 1.38186370e+07 1.43589530e+07 1.44873590e+07 1.43048030e+07\n",
            " 1.42787900e+07 1.42617810e+07 1.43675200e+07 1.45023340e+07\n",
            " 1.45069670e+07 1.48496910e+07 1.53122890e+07 1.59279870e+07\n",
            " 1.66117110e+07 1.69114810e+07 1.72720440e+07 1.74874750e+07\n",
            " 1.77542300e+07 1.82581380e+07 1.90816860e+07 2.03135940e+07\n",
            " 2.10194380e+07 2.10105900e+07 2.06444780e+07 2.03766770e+07\n",
            " 2.02090920e+07 1.99882040e+07 1.98469040e+07 1.97781510e+07\n",
            " 1.96459180e+07 2.17765280e+07 2.14571740e+07 2.10935740e+07\n",
            " 2.08487640e+07 2.06962100e+07 2.05356340e+07 2.00030300e+07\n",
            " 2.13573740e+07 2.11908020e+07 2.27487380e+07 2.18538220e+07\n",
            " 2.15646680e+07 2.14467060e+07 2.08010100e+07 2.15642760e+07\n",
            " 2.00421600e+07 2.02122960e+07 2.01955700e+07 2.00044420e+07\n",
            " 1.99119920e+07 1.98305500e+07 2.20512640e+07 2.22575920e+07\n",
            " 2.13684540e+07 1.98199060e+07 2.08567560e+07 2.07554880e+07\n",
            " 2.01489620e+07 2.14576940e+07 2.17616040e+07 1.10099144e+02\n",
            " 1.10099144e+02 1.10099144e+02 1.10099144e+02 1.10099144e+02\n",
            " 1.10099144e+02 1.10099144e+02 1.10099144e+02 1.10099144e+02\n",
            " 1.10099144e+02 1.10099144e+02 1.10099144e+02 1.10099144e+02\n",
            " 1.10099144e+02 1.10099144e+02]\n"
          ],
          "name": "stdout"
        }
      ]
    },
    {
      "cell_type": "code",
      "metadata": {
        "colab": {
          "base_uri": "https://localhost:8080/",
          "height": 470
        },
        "id": "Rnj8Q4aIl2Bc",
        "outputId": "bceb3a30-2d92-41f8-ccb2-aabc2349a48c"
      },
      "source": [
        "plt.figure(figsize = (10,6))\n",
        "\n",
        "plot_series(range(1970, 2019), series)\n",
        "# plot_series(range(1970, 2029, 1), series_to_edit)\n",
        "plot_series(range(1975, 2029), results*10000)\n",
        "plt.xticks = [range(1970, 2018, 2)]\n",
        "plt.ylabel('Total Fall Enrollments')\n",
        "print(time)\n",
        "print(len(forecast))"
      ],
      "execution_count": null,
      "outputs": [
        {
          "output_type": "stream",
          "text": [
            "[ 1  2  3  4  5  6  7  8  9 10 11 12 13 14 15 16 17 18 19 20 21 22 23 24\n",
            " 25 26 27 28 29 30 31 32 33 34 35 36 37 38 39 40 41 42 43 44 45 46 47 48\n",
            " 49]\n",
            "54\n"
          ],
          "name": "stdout"
        },
        {
          "output_type": "display_data",
          "data": {
            "image/png": "[encoded data removed]",
            "text/plain": [
              "<Figure size 720x432 with 1 Axes>"
            ]
          },
          "metadata": {
            "tags": [],
            "needs_background": "light"
          }
        }
      ]
    },
    {
      "cell_type": "code",
      "metadata": {
        "colab": {
          "base_uri": "https://localhost:8080/"
        },
        "id": "v9l8yC3UzOxK",
        "outputId": "193a32f9-9d46-4626-d21a-77d7b9765964"
      },
      "source": [
        "tf.keras.metrics.mean_absolute_error(series[5:]/10000, results[:-10]).numpy()"
      ],
      "execution_count": null,
      "outputs": [
        {
          "output_type": "execute_result",
          "data": {
            "text/plain": [
              "1552.7429"
            ]
          },
          "metadata": {
            "tags": []
          },
          "execution_count": 290
        }
      ]
    },
    {
      "cell_type": "code",
      "metadata": {
        "colab": {
          "base_uri": "https://localhost:8080/"
        },
        "id": "FX0UiHQQ2tbF",
        "outputId": "1e88a0d4-1052-44bd-b467-45056a68aef6"
      },
      "source": [
        "pip install visualkeras"
      ],
      "execution_count": null,
      "outputs": [
        {
          "output_type": "stream",
          "text": [
            "Requirement already satisfied: visualkeras in /usr/local/lib/python3.7/dist-packages (0.0.2)\n",
            "Requirement already satisfied: aggdraw>=1.3.11 in /usr/local/lib/python3.7/dist-packages (from visualkeras) (1.3.12)\n",
            "Requirement already satisfied: pillow>=6.2.0 in /usr/local/lib/python3.7/dist-packages (from visualkeras) (7.1.2)\n",
            "Requirement already satisfied: numpy>=1.18.1 in /usr/local/lib/python3.7/dist-packages (from visualkeras) (1.19.5)\n"
          ],
          "name": "stdout"
        }
      ]
    },
    {
      "cell_type": "code",
      "metadata": {
        "id": "OB85qiJK9XV9"
      },
      "source": [
        "import visualkeras\n",
        "\n",
        "model = model\n",
        "\n",
        "visualkeras.layered_view(model).show() # display using your system viewer\n",
        "# visualkeras.layered_view(model, to_file='output.png').show() # write and show"
      ],
      "execution_count": null,
      "outputs": []
    },
    {
      "cell_type": "code",
      "metadata": {
        "colab": {
          "base_uri": "https://localhost:8080/",
          "height": 44
        },
        "id": "vFf-0Fz79f_4",
        "outputId": "493f7c1a-c437-40f9-858b-4eb7ca591e22"
      },
      "source": [
        "visualkeras.layered_view(model)"
      ],
      "execution_count": null,
      "outputs": [
        {
          "output_type": "execute_result",
          "data": {
            "image/png": "[encoded data removed]",
            "text/plain": [
              "<PIL.Image.Image image mode=RGBA size=107x27 at 0x7F8658715C50>"
            ]
          },
          "metadata": {
            "tags": []
          },
          "execution_count": 268
        }
      ]
    },
    {
      "cell_type": "code",
      "metadata": {
        "id": "07HLKvlh-vZl"
      },
      "source": [
        ""
      ],
      "execution_count": null,
      "outputs": []
    },
    {
      "cell_type": "code",
      "metadata": {
        "id": "QxVm02P9RmAK"
      },
      "source": [
        ""
      ],
      "execution_count": null,
      "outputs": []
    },
    {
      "cell_type": "code",
      "metadata": {
        "id": "fBnG-E36RmRP"
      },
      "source": [
        ""
      ],
      "execution_count": null,
      "outputs": []
    },
    {
      "cell_type": "code",
      "metadata": {
        "colab": {
          "base_uri": "https://localhost:8080/",
          "height": 184
        },
        "id": "_kLDxy3J-8_D",
        "outputId": "b8cc7bb7-baa1-4450-dabf-ab80802cab99"
      },
      "source": [
        "df = pd.read_csv('/content/drive/MyDrive/ethnic enrollment trends.txt', delimiter=' ')\n",
        "df.head(4)"
      ],
      "execution_count": null,
      "outputs": [
        {
          "output_type": "execute_result",
          "data": {
            "text/html": [
              "<div>\n",
              "<style scoped>\n",
              "    .dataframe tbody tr th:only-of-type {\n",
              "        vertical-align: middle;\n",
              "    }\n",
              "\n",
              "    .dataframe tbody tr th {\n",
              "        vertical-align: top;\n",
              "    }\n",
              "\n",
              "    .dataframe thead th {\n",
              "        text-align: right;\n",
              "    }\n",
              "</style>\n",
              "<table border=\"1\" class=\"dataframe\">\n",
              "  <thead>\n",
              "    <tr style=\"text-align: right;\">\n",
              "      <th></th>\n",
              "      <th>Year</th>\n",
              "      <th>Total</th>\n",
              "      <th>White</th>\n",
              "      <th>Black</th>\n",
              "      <th>Hispanic</th>\n",
              "      <th>Asian/Pacific_Islander</th>\n",
              "      <th>AP1</th>\n",
              "      <th>AP2</th>\n",
              "      <th>American_Indian/Alaska_Native</th>\n",
              "      <th>Two_or_more_races</th>\n",
              "      <th>total</th>\n",
              "      <th>white</th>\n",
              "      <th>black</th>\n",
              "      <th>hispanic</th>\n",
              "      <th>asian/pacific_Islander</th>\n",
              "      <th>ap1</th>\n",
              "      <th>ap2</th>\n",
              "      <th>american_indian/alaska_native</th>\n",
              "      <th>two_or_more_races</th>\n",
              "    </tr>\n",
              "  </thead>\n",
              "  <tbody>\n",
              "    <tr>\n",
              "      <th>0</th>\n",
              "      <td>1</td>\n",
              "      <td>2</td>\n",
              "      <td>3</td>\n",
              "      <td>4</td>\n",
              "      <td>5</td>\n",
              "      <td>6</td>\n",
              "      <td>7</td>\n",
              "      <td>8</td>\n",
              "      <td>9</td>\n",
              "      <td>10</td>\n",
              "      <td>11.0</td>\n",
              "      <td>12.0</td>\n",
              "      <td>13.0</td>\n",
              "      <td>14.0</td>\n",
              "      <td>15.0</td>\n",
              "      <td>16</td>\n",
              "      <td>17</td>\n",
              "      <td>18.0</td>\n",
              "      <td>19</td>\n",
              "    </tr>\n",
              "    <tr>\n",
              "      <th>1</th>\n",
              "      <td>1976</td>\n",
              "      <td>10,767</td>\n",
              "      <td>9,076</td>\n",
              "      <td>1,033</td>\n",
              "      <td>384</td>\n",
              "      <td>198</td>\n",
              "      <td>—</td>\n",
              "      <td>—</td>\n",
              "      <td>76</td>\n",
              "      <td>—</td>\n",
              "      <td>100.0</td>\n",
              "      <td>84.3</td>\n",
              "      <td>9.6</td>\n",
              "      <td>3.6</td>\n",
              "      <td>1.8</td>\n",
              "      <td>—</td>\n",
              "      <td>—</td>\n",
              "      <td>0.7</td>\n",
              "      <td>—</td>\n",
              "    </tr>\n",
              "    <tr>\n",
              "      <th>2</th>\n",
              "      <td>1980</td>\n",
              "      <td>11,782</td>\n",
              "      <td>9,833</td>\n",
              "      <td>1,107</td>\n",
              "      <td>472</td>\n",
              "      <td>286</td>\n",
              "      <td>—</td>\n",
              "      <td>—</td>\n",
              "      <td>84</td>\n",
              "      <td>—</td>\n",
              "      <td>100.0</td>\n",
              "      <td>83.5</td>\n",
              "      <td>9.4</td>\n",
              "      <td>4.0</td>\n",
              "      <td>2.4</td>\n",
              "      <td>—</td>\n",
              "      <td>—</td>\n",
              "      <td>0.7</td>\n",
              "      <td>—</td>\n",
              "    </tr>\n",
              "    <tr>\n",
              "      <th>3</th>\n",
              "      <td>1990</td>\n",
              "      <td>13,427</td>\n",
              "      <td>10,722</td>\n",
              "      <td>1,247</td>\n",
              "      <td>782</td>\n",
              "      <td>572</td>\n",
              "      <td>—</td>\n",
              "      <td>—</td>\n",
              "      <td>103</td>\n",
              "      <td>—</td>\n",
              "      <td>100.0</td>\n",
              "      <td>79.9</td>\n",
              "      <td>9.3</td>\n",
              "      <td>5.8</td>\n",
              "      <td>4.3</td>\n",
              "      <td>—</td>\n",
              "      <td>—</td>\n",
              "      <td>0.8</td>\n",
              "      <td>—</td>\n",
              "    </tr>\n",
              "  </tbody>\n",
              "</table>\n",
              "</div>"
            ],
            "text/plain": [
              "   Year   Total   White  ... ap2 american_indian/alaska_native two_or_more_races\n",
              "0     1       2       3  ...  17                          18.0                19\n",
              "1  1976  10,767   9,076  ...   —                           0.7                 —\n",
              "2  1980  11,782   9,833  ...   —                           0.7                 —\n",
              "3  1990  13,427  10,722  ...   —                           0.8                 —\n",
              "\n",
              "[4 rows x 19 columns]"
            ]
          },
          "metadata": {
            "tags": []
          },
          "execution_count": 162
        }
      ]
    },
    {
      "cell_type": "code",
      "metadata": {
        "colab": {
          "base_uri": "https://localhost:8080/",
          "height": 194
        },
        "id": "nUiKvsdjK6FP",
        "outputId": "f455f848-9861-42a4-878c-2bf430af5dc3"
      },
      "source": [
        "cols_1 = ['Year', 'Total', 'White', 'Black', 'Hispanic', 'Asian/Pacific_Islander', 'American_Indian/Alaska_Native']\n",
        "cols_2 = ['tear', 'total', 'white', 'black', 'hispanic', 'asian/pacific_islander', 'american_indian/alaska_native']\n",
        "\n",
        "df1 = df[cols_1]\n",
        "df1 = df1.drop([0,1,2,3], axis = 0)\n",
        "df1.head()"
      ],
      "execution_count": null,
      "outputs": [
        {
          "output_type": "execute_result",
          "data": {
            "text/html": [
              "<div>\n",
              "<style scoped>\n",
              "    .dataframe tbody tr th:only-of-type {\n",
              "        vertical-align: middle;\n",
              "    }\n",
              "\n",
              "    .dataframe tbody tr th {\n",
              "        vertical-align: top;\n",
              "    }\n",
              "\n",
              "    .dataframe thead th {\n",
              "        text-align: right;\n",
              "    }\n",
              "</style>\n",
              "<table border=\"1\" class=\"dataframe\">\n",
              "  <thead>\n",
              "    <tr style=\"text-align: right;\">\n",
              "      <th></th>\n",
              "      <th>Year</th>\n",
              "      <th>Total</th>\n",
              "      <th>White</th>\n",
              "      <th>Black</th>\n",
              "      <th>Hispanic</th>\n",
              "      <th>Asian/Pacific_Islander</th>\n",
              "      <th>American_Indian/Alaska_Native</th>\n",
              "    </tr>\n",
              "  </thead>\n",
              "  <tbody>\n",
              "    <tr>\n",
              "      <th>4</th>\n",
              "      <td>1994</td>\n",
              "      <td>13,823</td>\n",
              "      <td>10,427</td>\n",
              "      <td>1,449</td>\n",
              "      <td>1,046</td>\n",
              "      <td>774</td>\n",
              "      <td>127</td>\n",
              "    </tr>\n",
              "    <tr>\n",
              "      <th>5</th>\n",
              "      <td>1995</td>\n",
              "      <td>13,807</td>\n",
              "      <td>10,311</td>\n",
              "      <td>1,474</td>\n",
              "      <td>1,094</td>\n",
              "      <td>797</td>\n",
              "      <td>131</td>\n",
              "    </tr>\n",
              "    <tr>\n",
              "      <th>6</th>\n",
              "      <td>1996</td>\n",
              "      <td>13,901</td>\n",
              "      <td>10,264</td>\n",
              "      <td>1,506</td>\n",
              "      <td>1,166</td>\n",
              "      <td>828</td>\n",
              "      <td>138</td>\n",
              "    </tr>\n",
              "    <tr>\n",
              "      <th>7</th>\n",
              "      <td>1997</td>\n",
              "      <td>14,037</td>\n",
              "      <td>10,266</td>\n",
              "      <td>1,551</td>\n",
              "      <td>1,218</td>\n",
              "      <td>859</td>\n",
              "      <td>142</td>\n",
              "    </tr>\n",
              "    <tr>\n",
              "      <th>8</th>\n",
              "      <td>1998</td>\n",
              "      <td>14,063</td>\n",
              "      <td>10,179</td>\n",
              "      <td>1,583</td>\n",
              "      <td>1,257</td>\n",
              "      <td>900</td>\n",
              "      <td>144</td>\n",
              "    </tr>\n",
              "  </tbody>\n",
              "</table>\n",
              "</div>"
            ],
            "text/plain": [
              "   Year   Total  ... Asian/Pacific_Islander American_Indian/Alaska_Native\n",
              "4  1994  13,823  ...                    774                           127\n",
              "5  1995  13,807  ...                    797                           131\n",
              "6  1996  13,901  ...                    828                           138\n",
              "7  1997  14,037  ...                    859                           142\n",
              "8  1998  14,063  ...                    900                           144\n",
              "\n",
              "[5 rows x 7 columns]"
            ]
          },
          "metadata": {
            "tags": []
          },
          "execution_count": 174
        }
      ]
    },
    {
      "cell_type": "code",
      "metadata": {
        "colab": {
          "base_uri": "https://localhost:8080/",
          "height": 212
        },
        "id": "o6_2j88zLfgr",
        "outputId": "a51213be-4c3b-400a-b530-cd150a489d93"
      },
      "source": [
        "import re\n",
        "\n",
        "\n",
        "list = []\n",
        "list_columns = df1.columns\n",
        "list_columns = list_columns[1:-1]\n",
        "print(list_columns.values)\n",
        "\n",
        "for i in list_columns:\n",
        "  list = []\n",
        "  for item in df1[i].values:\n",
        "    l1 = re.split(',', item)\n",
        "    list.append(''.join(l1))\n",
        "  df1[i] = list\n",
        "  df1[i] = df1[i].astype('int')\n",
        "df1 = df1[:25]\n",
        "df1.head()"
      ],
      "execution_count": null,
      "outputs": [
        {
          "output_type": "stream",
          "text": [
            "['Total' 'White' 'Black' 'Hispanic' 'Asian/Pacific_Islander']\n"
          ],
          "name": "stdout"
        },
        {
          "output_type": "execute_result",
          "data": {
            "text/html": [
              "<div>\n",
              "<style scoped>\n",
              "    .dataframe tbody tr th:only-of-type {\n",
              "        vertical-align: middle;\n",
              "    }\n",
              "\n",
              "    .dataframe tbody tr th {\n",
              "        vertical-align: top;\n",
              "    }\n",
              "\n",
              "    .dataframe thead th {\n",
              "        text-align: right;\n",
              "    }\n",
              "</style>\n",
              "<table border=\"1\" class=\"dataframe\">\n",
              "  <thead>\n",
              "    <tr style=\"text-align: right;\">\n",
              "      <th></th>\n",
              "      <th>Year</th>\n",
              "      <th>Total</th>\n",
              "      <th>White</th>\n",
              "      <th>Black</th>\n",
              "      <th>Hispanic</th>\n",
              "      <th>Asian/Pacific_Islander</th>\n",
              "      <th>American_Indian/Alaska_Native</th>\n",
              "    </tr>\n",
              "  </thead>\n",
              "  <tbody>\n",
              "    <tr>\n",
              "      <th>4</th>\n",
              "      <td>1994</td>\n",
              "      <td>13823</td>\n",
              "      <td>10427</td>\n",
              "      <td>1449</td>\n",
              "      <td>1046</td>\n",
              "      <td>774</td>\n",
              "      <td>127</td>\n",
              "    </tr>\n",
              "    <tr>\n",
              "      <th>5</th>\n",
              "      <td>1995</td>\n",
              "      <td>13807</td>\n",
              "      <td>10311</td>\n",
              "      <td>1474</td>\n",
              "      <td>1094</td>\n",
              "      <td>797</td>\n",
              "      <td>131</td>\n",
              "    </tr>\n",
              "    <tr>\n",
              "      <th>6</th>\n",
              "      <td>1996</td>\n",
              "      <td>13901</td>\n",
              "      <td>10264</td>\n",
              "      <td>1506</td>\n",
              "      <td>1166</td>\n",
              "      <td>828</td>\n",
              "      <td>138</td>\n",
              "    </tr>\n",
              "    <tr>\n",
              "      <th>7</th>\n",
              "      <td>1997</td>\n",
              "      <td>14037</td>\n",
              "      <td>10266</td>\n",
              "      <td>1551</td>\n",
              "      <td>1218</td>\n",
              "      <td>859</td>\n",
              "      <td>142</td>\n",
              "    </tr>\n",
              "    <tr>\n",
              "      <th>8</th>\n",
              "      <td>1998</td>\n",
              "      <td>14063</td>\n",
              "      <td>10179</td>\n",
              "      <td>1583</td>\n",
              "      <td>1257</td>\n",
              "      <td>900</td>\n",
              "      <td>144</td>\n",
              "    </tr>\n",
              "  </tbody>\n",
              "</table>\n",
              "</div>"
            ],
            "text/plain": [
              "   Year  Total  ...  Asian/Pacific_Islander  American_Indian/Alaska_Native\n",
              "4  1994  13823  ...                     774                            127\n",
              "5  1995  13807  ...                     797                            131\n",
              "6  1996  13901  ...                     828                            138\n",
              "7  1997  14037  ...                     859                            142\n",
              "8  1998  14063  ...                     900                            144\n",
              "\n",
              "[5 rows x 7 columns]"
            ]
          },
          "metadata": {
            "tags": []
          },
          "execution_count": 164
        }
      ]
    },
    {
      "cell_type": "code",
      "metadata": {
        "colab": {
          "base_uri": "https://localhost:8080/",
          "height": 519
        },
        "id": "niMtwiwZMlFf",
        "outputId": "d57b2b7e-63dc-4752-fb20-2b0a0c164f24"
      },
      "source": [
        "plt.figure(figsize=(12,8))\n",
        "plt.subplot()\n",
        "\n",
        "# plt.plot(figsize = (16,12))\n",
        "# plt.plot(figsize = (12, 20))\n",
        "plt.plot(range(1994, 2019), df1['Total'])\n",
        "plt.plot(range(1994, 2019), df1['White'])\n",
        "plt.plot(range(1994, 2019), df1['Black'])\n",
        "plt.plot(range(1994, 2019), df1['Hispanic'])\n",
        "plt.plot(range(1994, 2019), df1['Asian/Pacific_Islander'])\n",
        "plt.plot(range(1994, 2019), df1['American_Indian/Alaska_Native'])\n",
        "plt.legend(['Total', 'White', 'Black', 'Hispanic', 'Asian/ Pacific Islander', 'American Indian/Alaska Native'])\n",
        "plt.xlabel('Years', size = 14)\n",
        "plt.ylabel('Enrollments in 1000s', size = 14)"
      ],
      "execution_count": null,
      "outputs": [
        {
          "output_type": "execute_result",
          "data": {
            "text/plain": [
              "Text(0, 0.5, 'Enrollments in 1000s')"
            ]
          },
          "metadata": {
            "tags": []
          },
          "execution_count": 165
        },
        {
          "output_type": "display_data",
          "data": {
            "image/png": "[encoded data removed]",
            "text/plain": [
              "<Figure size 864x576 with 1 Axes>"
            ]
          },
          "metadata": {
            "tags": [],
            "needs_background": "light"
          }
        }
      ]
    },
    {
      "cell_type": "code",
      "metadata": {
        "colab": {
          "base_uri": "https://localhost:8080/",
          "height": 194
        },
        "id": "Uf4ZWu1KNQ6z",
        "outputId": "736513b9-a0e2-4745-dbd0-b0113e01d9e5"
      },
      "source": [
        "cols_2 = ['Year', 'total', 'white', 'black', 'hispanic', 'asian/pacific_Islander', 'american_indian/alaska_native']\n",
        "\n",
        "df2 = df[cols_2]\n",
        "df2 = df2.drop(0, axis = 0)\n",
        "df2 = df2.astype('float64')\n",
        "df2['Year'] = df2['Year'].astype('int')\n",
        "df2.head()"
      ],
      "execution_count": null,
      "outputs": [
        {
          "output_type": "execute_result",
          "data": {
            "text/html": [
              "<div>\n",
              "<style scoped>\n",
              "    .dataframe tbody tr th:only-of-type {\n",
              "        vertical-align: middle;\n",
              "    }\n",
              "\n",
              "    .dataframe tbody tr th {\n",
              "        vertical-align: top;\n",
              "    }\n",
              "\n",
              "    .dataframe thead th {\n",
              "        text-align: right;\n",
              "    }\n",
              "</style>\n",
              "<table border=\"1\" class=\"dataframe\">\n",
              "  <thead>\n",
              "    <tr style=\"text-align: right;\">\n",
              "      <th></th>\n",
              "      <th>Year</th>\n",
              "      <th>total</th>\n",
              "      <th>white</th>\n",
              "      <th>black</th>\n",
              "      <th>hispanic</th>\n",
              "      <th>asian/pacific_Islander</th>\n",
              "      <th>american_indian/alaska_native</th>\n",
              "    </tr>\n",
              "  </thead>\n",
              "  <tbody>\n",
              "    <tr>\n",
              "      <th>1</th>\n",
              "      <td>1976</td>\n",
              "      <td>100.0</td>\n",
              "      <td>84.3</td>\n",
              "      <td>9.6</td>\n",
              "      <td>3.6</td>\n",
              "      <td>1.8</td>\n",
              "      <td>0.7</td>\n",
              "    </tr>\n",
              "    <tr>\n",
              "      <th>2</th>\n",
              "      <td>1980</td>\n",
              "      <td>100.0</td>\n",
              "      <td>83.5</td>\n",
              "      <td>9.4</td>\n",
              "      <td>4.0</td>\n",
              "      <td>2.4</td>\n",
              "      <td>0.7</td>\n",
              "    </tr>\n",
              "    <tr>\n",
              "      <th>3</th>\n",
              "      <td>1990</td>\n",
              "      <td>100.0</td>\n",
              "      <td>79.9</td>\n",
              "      <td>9.3</td>\n",
              "      <td>5.8</td>\n",
              "      <td>4.3</td>\n",
              "      <td>0.8</td>\n",
              "    </tr>\n",
              "    <tr>\n",
              "      <th>4</th>\n",
              "      <td>1994</td>\n",
              "      <td>100.0</td>\n",
              "      <td>75.4</td>\n",
              "      <td>10.5</td>\n",
              "      <td>7.6</td>\n",
              "      <td>5.6</td>\n",
              "      <td>0.9</td>\n",
              "    </tr>\n",
              "    <tr>\n",
              "      <th>5</th>\n",
              "      <td>1995</td>\n",
              "      <td>100.0</td>\n",
              "      <td>74.7</td>\n",
              "      <td>10.7</td>\n",
              "      <td>7.9</td>\n",
              "      <td>5.8</td>\n",
              "      <td>1.0</td>\n",
              "    </tr>\n",
              "  </tbody>\n",
              "</table>\n",
              "</div>"
            ],
            "text/plain": [
              "   Year  total  ...  asian/pacific_Islander  american_indian/alaska_native\n",
              "1  1976  100.0  ...                     1.8                            0.7\n",
              "2  1980  100.0  ...                     2.4                            0.7\n",
              "3  1990  100.0  ...                     4.3                            0.8\n",
              "4  1994  100.0  ...                     5.6                            0.9\n",
              "5  1995  100.0  ...                     5.8                            1.0\n",
              "\n",
              "[5 rows x 7 columns]"
            ]
          },
          "metadata": {
            "tags": []
          },
          "execution_count": 178
        }
      ]
    },
    {
      "cell_type": "code",
      "metadata": {
        "id": "jrUclCATSP61",
        "colab": {
          "base_uri": "https://localhost:8080/"
        },
        "outputId": "7008ba5a-cb3c-4ad2-f39c-cb6d24ba8668"
      },
      "source": [
        "time = []\n",
        "series_total = []\n",
        "series_white = []\n",
        "series_black = []\n",
        "series_hispanic = []\n",
        "series_asianpacific = []\n",
        "series_americanindian = []\n",
        "\n",
        "for item in df2.index:\n",
        "  time.append(item)\n",
        "print(time)\n",
        "# for item in df_series_1['Year']:\n",
        "#   time.append(item)\n",
        "  \n",
        "for item in df2['total']:\n",
        "  series_total.append(item)\n",
        "\n",
        "\n",
        "for item in df2['white']:\n",
        "  series_white.append(item)\n",
        "\n",
        "for item in df2['black']:\n",
        "  series_black.append(item)\n",
        "\n",
        "for item in df2['hispanic']:\n",
        "  series_hispanic.append(item)\n",
        "\n",
        "for item in df2['asian/pacific_Islander']:\n",
        "  series_asianpacific.append(item)\n",
        "\n",
        "for item in df2['american_indian/alaska_native']:\n",
        "  series_americanindian.append(item)\n"
      ],
      "execution_count": null,
      "outputs": [
        {
          "output_type": "stream",
          "text": [
            "[1, 2, 3, 4, 5, 6, 7, 8, 9, 10, 11, 12, 13, 14, 15, 16, 17, 18, 19, 20, 21, 22, 23, 24, 25, 26, 27, 28, 29, 30, 31, 32, 33, 34, 35, 36, 37, 38, 39]\n"
          ],
          "name": "stdout"
        }
      ]
    },
    {
      "cell_type": "code",
      "metadata": {
        "colab": {
          "base_uri": "https://localhost:8080/",
          "height": 392
        },
        "id": "VNUtleilyluY",
        "outputId": "ecf431dc-bf18-4ead-8504-f066bee1c7a7"
      },
      "source": [
        "time = np.array(time)\n",
        "series_total = np.array(series_total)\n",
        "series_white = np.array(series_white)\n",
        "series_black = np.array(series_black)\n",
        "series_hispanic = np.array(series_hispanic)\n",
        "series_asianpacific = np.array(series_asianpacific)\n",
        "series_americanindian = np.array(series_americanindian)\n",
        "\n",
        "series_total_edit = np.array(series_total)\n",
        "series_white_edit = np.array(series_white)\n",
        "series_black_edit = np.array(series_black)\n",
        "series_hispanic_edit = np.array(series_hispanic)\n",
        "series_asianpacific_edit = np.array(series_asianpacific)\n",
        "series_americanindian_edit = np.array(series_americanindian)\n",
        "\n",
        "\n",
        "plt.figure(figsize = (10,6))\n",
        "plot_series(time, series_total_edit)\n",
        "plot_series(time, series_white_edit)\n",
        "plot_series(time, series_black_edit)"
      ],
      "execution_count": null,
      "outputs": [
        {
          "output_type": "display_data",
          "data": {
            "image/png": "[encoded data removed]",
            "text/plain": [
              "<Figure size 720x432 with 1 Axes>"
            ]
          },
          "metadata": {
            "tags": [],
            "needs_background": "light"
          }
        }
      ]
    },
    {
      "cell_type": "code",
      "metadata": {
        "id": "NOtwyQs9z-uE"
      },
      "source": [
        ""
      ],
      "execution_count": null,
      "outputs": []
    }
  ]
}