{
  "nbformat": 4,
  "nbformat_minor": 0,
  "metadata": {
    "colab": {
      "name": "HSO_Arush.ipynb",
      "provenance": [],
      "collapsed_sections": [],
      "mount_file_id": "1OzT8muarHlkmu4lXqLkAhd1A4BkAvvIC",
      "authorship_tag": "ABX9TyOX+dpsrqpO1z4ZhuZuBAsV",
      "include_colab_link": true
    },
    "kernelspec": {
      "name": "python3",
      "display_name": "Python 3"
    },
    "language_info": {
      "name": "python"
    }
  },
  "cells": [
    {
      "cell_type": "markdown",
      "metadata": {
        "id": "view-in-github",
        "colab_type": "text"
      },
      "source": [
        "<a href=\"https://colab.research.google.com/github/Arush0113/HSO201_ResearchProject/blob/main/HSO_Arush.ipynb\" target=\"_parent\"><img src=\"https://colab.research.google.com/assets/colab-badge.svg\" alt=\"Open In Colab\"/></a>"
      ]
    },
    {
      "cell_type": "code",
      "metadata": {
        "id": "bCJ-F3nu6c4E"
      },
      "source": [
        "import pandas as pd\n",
        "df = pd.read_csv('/content/drive/MyDrive/Table 303.25.txt', delimiter=' ')"
      ],
      "execution_count": 1,
      "outputs": []
    },
    {
      "cell_type": "code",
      "metadata": {
        "colab": {
          "base_uri": "https://localhost:8080/",
          "height": 232
        },
        "id": "g4Qf825s7Cy5",
        "outputId": "6ba42ef1-f3c6-4c00-81b8-ddf7599f06e6"
      },
      "source": [
        "df.head()"
      ],
      "execution_count": 2,
      "outputs": [
        {
          "output_type": "execute_result",
          "data": {
            "text/html": [
              "<div>\n",
              "<style scoped>\n",
              "    .dataframe tbody tr th:only-of-type {\n",
              "        vertical-align: middle;\n",
              "    }\n",
              "\n",
              "    .dataframe tbody tr th {\n",
              "        vertical-align: top;\n",
              "    }\n",
              "\n",
              "    .dataframe thead th {\n",
              "        text-align: right;\n",
              "    }\n",
              "</style>\n",
              "<table border=\"1\" class=\"dataframe\">\n",
              "  <thead>\n",
              "    <tr style=\"text-align: right;\">\n",
              "      <th></th>\n",
              "      <th>Year</th>\n",
              "      <th>Total(All)</th>\n",
              "      <th>4-year(All)</th>\n",
              "      <th>2-year(All)</th>\n",
              "      <th>Total(Public)</th>\n",
              "      <th>4-year(Public)</th>\n",
              "      <th>2-year(Public)</th>\n",
              "      <th>Total(Private_All)</th>\n",
              "      <th>4-year(Private_All)</th>\n",
              "      <th>2-year(Private_All)</th>\n",
              "      <th>Total(Private_NonProfit)</th>\n",
              "      <th>4-year(Private_NonProfit)</th>\n",
              "      <th>2-year(Private_NonProfit)</th>\n",
              "      <th>Total(Private_ForProfit)</th>\n",
              "      <th>4-year(Private_ForProfit)</th>\n",
              "      <th>2-year(Private_ForProfit)</th>\n",
              "    </tr>\n",
              "  </thead>\n",
              "  <tbody>\n",
              "    <tr>\n",
              "      <th>0</th>\n",
              "      <td>1</td>\n",
              "      <td>2</td>\n",
              "      <td>3</td>\n",
              "      <td>4</td>\n",
              "      <td>5</td>\n",
              "      <td>6</td>\n",
              "      <td>7</td>\n",
              "      <td>8</td>\n",
              "      <td>9</td>\n",
              "      <td>10</td>\n",
              "      <td>11</td>\n",
              "      <td>12</td>\n",
              "      <td>13</td>\n",
              "      <td>14</td>\n",
              "      <td>15</td>\n",
              "      <td>16</td>\n",
              "    </tr>\n",
              "    <tr>\n",
              "      <th>1</th>\n",
              "      <td>1970</td>\n",
              "      <td>8,580,887</td>\n",
              "      <td>6,261,502</td>\n",
              "      <td>2,319,385</td>\n",
              "      <td>6,428,134</td>\n",
              "      <td>4,232,722</td>\n",
              "      <td>2,195,412</td>\n",
              "      <td>2,152,753</td>\n",
              "      <td>2,028,780</td>\n",
              "      <td>123,973</td>\n",
              "      <td>2,134,420</td>\n",
              "      <td>2,021,121</td>\n",
              "      <td>113,299</td>\n",
              "      <td>18,333</td>\n",
              "      <td>7,659</td>\n",
              "      <td>10,674</td>\n",
              "    </tr>\n",
              "    <tr>\n",
              "      <th>2</th>\n",
              "      <td>1971</td>\n",
              "      <td>8,948,644</td>\n",
              "      <td>6,369,355</td>\n",
              "      <td>2,579,289</td>\n",
              "      <td>6,804,309</td>\n",
              "      <td>4,346,990</td>\n",
              "      <td>2,457,319</td>\n",
              "      <td>2,144,335</td>\n",
              "      <td>2,022,365</td>\n",
              "      <td>121,970</td>\n",
              "      <td>2,121,913</td>\n",
              "      <td>2,011,682</td>\n",
              "      <td>110,231</td>\n",
              "      <td>22,422</td>\n",
              "      <td>10,683</td>\n",
              "      <td>11,739</td>\n",
              "    </tr>\n",
              "    <tr>\n",
              "      <th>3</th>\n",
              "      <td>1972</td>\n",
              "      <td>9,214,860</td>\n",
              "      <td>6,458,674</td>\n",
              "      <td>2,756,186</td>\n",
              "      <td>7,070,635</td>\n",
              "      <td>4,429,696</td>\n",
              "      <td>2,640,939</td>\n",
              "      <td>2,144,225</td>\n",
              "      <td>2,028,978</td>\n",
              "      <td>115,247</td>\n",
              "      <td>2,123,245</td>\n",
              "      <td>2,019,380</td>\n",
              "      <td>103,865</td>\n",
              "      <td>20,980</td>\n",
              "      <td>9,598</td>\n",
              "      <td>11,382</td>\n",
              "    </tr>\n",
              "    <tr>\n",
              "      <th>4</th>\n",
              "      <td>1973</td>\n",
              "      <td>9,602,123</td>\n",
              "      <td>6,590,023</td>\n",
              "      <td>3,012,100</td>\n",
              "      <td>7,419,516</td>\n",
              "      <td>4,529,895</td>\n",
              "      <td>2,889,621</td>\n",
              "      <td>2,182,607</td>\n",
              "      <td>2,060,128</td>\n",
              "      <td>122,479</td>\n",
              "      <td>2,148,784</td>\n",
              "      <td>2,045,804</td>\n",
              "      <td>102,980</td>\n",
              "      <td>33,823</td>\n",
              "      <td>14,324</td>\n",
              "      <td>19,499</td>\n",
              "    </tr>\n",
              "  </tbody>\n",
              "</table>\n",
              "</div>"
            ],
            "text/plain": [
              "   Year Total(All)  ... 4-year(Private_ForProfit) 2-year(Private_ForProfit)\n",
              "0     1          2  ...                        15                        16\n",
              "1  1970  8,580,887  ...                     7,659                    10,674\n",
              "2  1971  8,948,644  ...                    10,683                    11,739\n",
              "3  1972  9,214,860  ...                     9,598                    11,382\n",
              "4  1973  9,602,123  ...                    14,324                    19,499\n",
              "\n",
              "[5 rows x 16 columns]"
            ]
          },
          "metadata": {
            "tags": []
          },
          "execution_count": 2
        }
      ]
    },
    {
      "cell_type": "code",
      "metadata": {
        "colab": {
          "base_uri": "https://localhost:8080/",
          "height": 232
        },
        "id": "o2MDZNhV4V5f",
        "outputId": "c1e2573a-81b3-4a74-bbd5-534cfde24ddd"
      },
      "source": [
        "df = df.drop([0], axis = 0)\n",
        "# df.drop([\"index\"], axis = 1, inplace = True)\n",
        "# df = df.reset_index()\n",
        "df.head()"
      ],
      "execution_count": 3,
      "outputs": [
        {
          "output_type": "execute_result",
          "data": {
            "text/html": [
              "<div>\n",
              "<style scoped>\n",
              "    .dataframe tbody tr th:only-of-type {\n",
              "        vertical-align: middle;\n",
              "    }\n",
              "\n",
              "    .dataframe tbody tr th {\n",
              "        vertical-align: top;\n",
              "    }\n",
              "\n",
              "    .dataframe thead th {\n",
              "        text-align: right;\n",
              "    }\n",
              "</style>\n",
              "<table border=\"1\" class=\"dataframe\">\n",
              "  <thead>\n",
              "    <tr style=\"text-align: right;\">\n",
              "      <th></th>\n",
              "      <th>Year</th>\n",
              "      <th>Total(All)</th>\n",
              "      <th>4-year(All)</th>\n",
              "      <th>2-year(All)</th>\n",
              "      <th>Total(Public)</th>\n",
              "      <th>4-year(Public)</th>\n",
              "      <th>2-year(Public)</th>\n",
              "      <th>Total(Private_All)</th>\n",
              "      <th>4-year(Private_All)</th>\n",
              "      <th>2-year(Private_All)</th>\n",
              "      <th>Total(Private_NonProfit)</th>\n",
              "      <th>4-year(Private_NonProfit)</th>\n",
              "      <th>2-year(Private_NonProfit)</th>\n",
              "      <th>Total(Private_ForProfit)</th>\n",
              "      <th>4-year(Private_ForProfit)</th>\n",
              "      <th>2-year(Private_ForProfit)</th>\n",
              "    </tr>\n",
              "  </thead>\n",
              "  <tbody>\n",
              "    <tr>\n",
              "      <th>1</th>\n",
              "      <td>1970</td>\n",
              "      <td>8,580,887</td>\n",
              "      <td>6,261,502</td>\n",
              "      <td>2,319,385</td>\n",
              "      <td>6,428,134</td>\n",
              "      <td>4,232,722</td>\n",
              "      <td>2,195,412</td>\n",
              "      <td>2,152,753</td>\n",
              "      <td>2,028,780</td>\n",
              "      <td>123,973</td>\n",
              "      <td>2,134,420</td>\n",
              "      <td>2,021,121</td>\n",
              "      <td>113,299</td>\n",
              "      <td>18,333</td>\n",
              "      <td>7,659</td>\n",
              "      <td>10,674</td>\n",
              "    </tr>\n",
              "    <tr>\n",
              "      <th>2</th>\n",
              "      <td>1971</td>\n",
              "      <td>8,948,644</td>\n",
              "      <td>6,369,355</td>\n",
              "      <td>2,579,289</td>\n",
              "      <td>6,804,309</td>\n",
              "      <td>4,346,990</td>\n",
              "      <td>2,457,319</td>\n",
              "      <td>2,144,335</td>\n",
              "      <td>2,022,365</td>\n",
              "      <td>121,970</td>\n",
              "      <td>2,121,913</td>\n",
              "      <td>2,011,682</td>\n",
              "      <td>110,231</td>\n",
              "      <td>22,422</td>\n",
              "      <td>10,683</td>\n",
              "      <td>11,739</td>\n",
              "    </tr>\n",
              "    <tr>\n",
              "      <th>3</th>\n",
              "      <td>1972</td>\n",
              "      <td>9,214,860</td>\n",
              "      <td>6,458,674</td>\n",
              "      <td>2,756,186</td>\n",
              "      <td>7,070,635</td>\n",
              "      <td>4,429,696</td>\n",
              "      <td>2,640,939</td>\n",
              "      <td>2,144,225</td>\n",
              "      <td>2,028,978</td>\n",
              "      <td>115,247</td>\n",
              "      <td>2,123,245</td>\n",
              "      <td>2,019,380</td>\n",
              "      <td>103,865</td>\n",
              "      <td>20,980</td>\n",
              "      <td>9,598</td>\n",
              "      <td>11,382</td>\n",
              "    </tr>\n",
              "    <tr>\n",
              "      <th>4</th>\n",
              "      <td>1973</td>\n",
              "      <td>9,602,123</td>\n",
              "      <td>6,590,023</td>\n",
              "      <td>3,012,100</td>\n",
              "      <td>7,419,516</td>\n",
              "      <td>4,529,895</td>\n",
              "      <td>2,889,621</td>\n",
              "      <td>2,182,607</td>\n",
              "      <td>2,060,128</td>\n",
              "      <td>122,479</td>\n",
              "      <td>2,148,784</td>\n",
              "      <td>2,045,804</td>\n",
              "      <td>102,980</td>\n",
              "      <td>33,823</td>\n",
              "      <td>14,324</td>\n",
              "      <td>19,499</td>\n",
              "    </tr>\n",
              "    <tr>\n",
              "      <th>5</th>\n",
              "      <td>1974</td>\n",
              "      <td>10,223,729</td>\n",
              "      <td>6,819,735</td>\n",
              "      <td>3,403,994</td>\n",
              "      <td>7,988,500</td>\n",
              "      <td>4,703,018</td>\n",
              "      <td>3,285,482</td>\n",
              "      <td>2,235,229</td>\n",
              "      <td>2,116,717</td>\n",
              "      <td>118,512</td>\n",
              "      <td>2,200,963</td>\n",
              "      <td>2,098,599</td>\n",
              "      <td>102,364</td>\n",
              "      <td>34,266</td>\n",
              "      <td>18,118</td>\n",
              "      <td>16,148</td>\n",
              "    </tr>\n",
              "  </tbody>\n",
              "</table>\n",
              "</div>"
            ],
            "text/plain": [
              "   Year  Total(All)  ... 4-year(Private_ForProfit) 2-year(Private_ForProfit)\n",
              "1  1970   8,580,887  ...                     7,659                    10,674\n",
              "2  1971   8,948,644  ...                    10,683                    11,739\n",
              "3  1972   9,214,860  ...                     9,598                    11,382\n",
              "4  1973   9,602,123  ...                    14,324                    19,499\n",
              "5  1974  10,223,729  ...                    18,118                    16,148\n",
              "\n",
              "[5 rows x 16 columns]"
            ]
          },
          "metadata": {
            "tags": []
          },
          "execution_count": 3
        }
      ]
    },
    {
      "cell_type": "code",
      "metadata": {
        "id": "cMWREZIP7DmA"
      },
      "source": [
        "import numpy as np\n",
        "import matplotlib.pyplot as plt\n",
        "import seaborn as sns\n",
        "import re\n",
        "\n",
        "%matplotlib inline"
      ],
      "execution_count": 4,
      "outputs": []
    },
    {
      "cell_type": "code",
      "metadata": {
        "id": "gX6GHqIS3jzt"
      },
      "source": [
        "list = []\n",
        "for item in df['Total(All)'].values:\n",
        "  l1 = re.split(',', item)\n",
        "  list.append(''.join(l1))\n",
        "# print(list)  \n",
        "df['Total(All)'] = list\n",
        "\n",
        "list = []\n",
        "for item in df['Total(Public)'].values:\n",
        "  l1 = re.split(',', item)\n",
        "  list.append(''.join(l1))\n",
        "# print(list)  \n",
        "df['Total(Public)'] = list\n",
        "\n",
        "list = []\n",
        "for item in df['Total(Private_All)'].values:\n",
        "  l1 = re.split(',', item)\n",
        "  list.append(''.join(l1))\n",
        "# print(list)  \n",
        "df['Total(Private_All)'] = list\n",
        "\n",
        "\n",
        "list = []\n",
        "for item in df['4-year(All)'].values:\n",
        "  l1 = re.split(',', item)\n",
        "  list.append(''.join(l1))\n",
        "# print(list)  \n",
        "df['4-year(All)'] = list\n",
        "\n",
        "list = []\n",
        "for item in df['4-year(Public)'].values:\n",
        "  l1 = re.split(',', item)\n",
        "  list.append(''.join(l1))\n",
        "# print(list)  \n",
        "df['4-year(Public)'] = list\n",
        "\n",
        "list = []\n",
        "for item in df['4-year(Private_All)'].values:\n",
        "  l1 = re.split(',', item)\n",
        "  list.append(''.join(l1))\n",
        "# print(list)  \n",
        "df['4-year(Private_All)'] = list\n",
        "\n",
        "\n",
        "list = []\n",
        "for item in df['2-year(All)'].values:\n",
        "  l1 = re.split(',', item)\n",
        "  list.append(''.join(l1))\n",
        "# print(list)  \n",
        "df['2-year(All)'] = list\n",
        "\n",
        "list = []\n",
        "for item in df['2-year(Public)'].values:\n",
        "  l1 = re.split(',', item)\n",
        "  list.append(''.join(l1))\n",
        "# print(list)  \n",
        "df['2-year(Public)'] = list\n",
        "\n",
        "list = []\n",
        "for item in df['2-year(Private_All)'].values:\n",
        "  l1 = re.split(',', item)\n",
        "  list.append(''.join(l1))\n",
        "# print(list)  \n",
        "df['2-year(Private_All)'] = list"
      ],
      "execution_count": 5,
      "outputs": []
    },
    {
      "cell_type": "code",
      "metadata": {
        "colab": {
          "base_uri": "https://localhost:8080/",
          "height": 506
        },
        "id": "Dw2Yf1AD3z6T",
        "outputId": "9322dc3d-08b3-466e-9418-2418377c4244"
      },
      "source": [
        "df['Total(All)'] = df['Total(All)'].astype(int)\n",
        "df['4-year(All)'] = df['4-year(All)'].astype(int)\n",
        "df['2-year(All)'] = df['2-year(All)'].astype(int)\n",
        "df['Total(Public)'] = df['Total(Public)'].astype(int)\n",
        "df['4-year(Public)'] = df['4-year(Public)'].astype(int)\n",
        "df['2-year(Public)'] = df['2-year(Public)'].astype(int)\n",
        "df['Total(Private_All)'] = df['Total(Private_All)'].astype(int)\n",
        "df['4-year(Private_All)'] = df['4-year(Private_All)'].astype(int)\n",
        "df['2-year(Private_All)'] = df['2-year(Private_All)'].astype(int)\n",
        "\n",
        "df['Year'] = df['Year'].astype(int)\n",
        "\n",
        "df1 = df[(df['Year'] == 1978) | (df['Year'] == 1988) | (df['Year'] == 1998) | (df['Year'] == 2008) | (df['Year'] == 2018)]\n",
        "# sns.figure(figsize = (15,10))\n",
        "plt.figure(figsize=(6,4), )\n",
        "sns.barplot(data = df1, x = 'Year', y = 'Total(All)')\n",
        "# sns.barplot(data = df1, x = 'Year', y = '4-year(All)')\n",
        "df1.head()\n",
        "# x_vars = ['Total(All)', '4-year(All)', '2-year(All)']"
      ],
      "execution_count": 6,
      "outputs": [
        {
          "output_type": "execute_result",
          "data": {
            "text/html": [
              "<div>\n",
              "<style scoped>\n",
              "    .dataframe tbody tr th:only-of-type {\n",
              "        vertical-align: middle;\n",
              "    }\n",
              "\n",
              "    .dataframe tbody tr th {\n",
              "        vertical-align: top;\n",
              "    }\n",
              "\n",
              "    .dataframe thead th {\n",
              "        text-align: right;\n",
              "    }\n",
              "</style>\n",
              "<table border=\"1\" class=\"dataframe\">\n",
              "  <thead>\n",
              "    <tr style=\"text-align: right;\">\n",
              "      <th></th>\n",
              "      <th>Year</th>\n",
              "      <th>Total(All)</th>\n",
              "      <th>4-year(All)</th>\n",
              "      <th>2-year(All)</th>\n",
              "      <th>Total(Public)</th>\n",
              "      <th>4-year(Public)</th>\n",
              "      <th>2-year(Public)</th>\n",
              "      <th>Total(Private_All)</th>\n",
              "      <th>4-year(Private_All)</th>\n",
              "      <th>2-year(Private_All)</th>\n",
              "      <th>Total(Private_NonProfit)</th>\n",
              "      <th>4-year(Private_NonProfit)</th>\n",
              "      <th>2-year(Private_NonProfit)</th>\n",
              "      <th>Total(Private_ForProfit)</th>\n",
              "      <th>4-year(Private_ForProfit)</th>\n",
              "      <th>2-year(Private_ForProfit)</th>\n",
              "    </tr>\n",
              "  </thead>\n",
              "  <tbody>\n",
              "    <tr>\n",
              "      <th>9</th>\n",
              "      <td>1978</td>\n",
              "      <td>11260092</td>\n",
              "      <td>7231625</td>\n",
              "      <td>4028467</td>\n",
              "      <td>8785893</td>\n",
              "      <td>4912203</td>\n",
              "      <td>3873690</td>\n",
              "      <td>2474199</td>\n",
              "      <td>2319422</td>\n",
              "      <td>154777</td>\n",
              "      <td>2,408,331</td>\n",
              "      <td>2,299,132</td>\n",
              "      <td>109,199</td>\n",
              "      <td>65,868</td>\n",
              "      <td>20,290</td>\n",
              "      <td>45,578</td>\n",
              "    </tr>\n",
              "    <tr>\n",
              "      <th>19</th>\n",
              "      <td>1988</td>\n",
              "      <td>13055337</td>\n",
              "      <td>8180182</td>\n",
              "      <td>4875155</td>\n",
              "      <td>10161388</td>\n",
              "      <td>5545901</td>\n",
              "      <td>4615487</td>\n",
              "      <td>2893949</td>\n",
              "      <td>2634281</td>\n",
              "      <td>259668</td>\n",
              "      <td>—</td>\n",
              "      <td>—</td>\n",
              "      <td>—</td>\n",
              "      <td>—</td>\n",
              "      <td>—</td>\n",
              "      <td>—</td>\n",
              "    </tr>\n",
              "    <tr>\n",
              "      <th>29</th>\n",
              "      <td>1998</td>\n",
              "      <td>14506967</td>\n",
              "      <td>9017653</td>\n",
              "      <td>5489314</td>\n",
              "      <td>11137769</td>\n",
              "      <td>5891806</td>\n",
              "      <td>5245963</td>\n",
              "      <td>3369198</td>\n",
              "      <td>3125847</td>\n",
              "      <td>243351</td>\n",
              "      <td>3,004,925</td>\n",
              "      <td>2,939,055</td>\n",
              "      <td>65,870</td>\n",
              "      <td>364,273</td>\n",
              "      <td>186,792</td>\n",
              "      <td>177,481</td>\n",
              "    </tr>\n",
              "    <tr>\n",
              "      <th>39</th>\n",
              "      <td>2008</td>\n",
              "      <td>19081686</td>\n",
              "      <td>12110487</td>\n",
              "      <td>6971199</td>\n",
              "      <td>13970862</td>\n",
              "      <td>7330682</td>\n",
              "      <td>6640180</td>\n",
              "      <td>5110824</td>\n",
              "      <td>4779805</td>\n",
              "      <td>331019</td>\n",
              "      <td>3,660,827</td>\n",
              "      <td>3,625,469</td>\n",
              "      <td>35,358</td>\n",
              "      <td>1,449,997</td>\n",
              "      <td>1,154,336</td>\n",
              "      <td>295,661</td>\n",
              "    </tr>\n",
              "    <tr>\n",
              "      <th>49</th>\n",
              "      <td>2018</td>\n",
              "      <td>19645918</td>\n",
              "      <td>13900710</td>\n",
              "      <td>5745208</td>\n",
              "      <td>14529264</td>\n",
              "      <td>8982560</td>\n",
              "      <td>5546704</td>\n",
              "      <td>5116654</td>\n",
              "      <td>4918150</td>\n",
              "      <td>198504</td>\n",
              "      <td>4,134,244</td>\n",
              "      <td>4,089,090</td>\n",
              "      <td>45,154</td>\n",
              "      <td>982,410</td>\n",
              "      <td>829,060</td>\n",
              "      <td>153,350</td>\n",
              "    </tr>\n",
              "  </tbody>\n",
              "</table>\n",
              "</div>"
            ],
            "text/plain": [
              "    Year  Total(All)  ...  4-year(Private_ForProfit)  2-year(Private_ForProfit)\n",
              "9   1978    11260092  ...                     20,290                     45,578\n",
              "19  1988    13055337  ...                          —                          —\n",
              "29  1998    14506967  ...                    186,792                    177,481\n",
              "39  2008    19081686  ...                  1,154,336                    295,661\n",
              "49  2018    19645918  ...                    829,060                    153,350\n",
              "\n",
              "[5 rows x 16 columns]"
            ]
          },
          "metadata": {
            "tags": []
          },
          "execution_count": 6
        },
        {
          "output_type": "display_data",
          "data": {
            "image/png": "[encoded data removed]",
            "text/plain": [
              "<Figure size 432x288 with 1 Axes>"
            ]
          },
          "metadata": {
            "tags": [],
            "needs_background": "light"
          }
        }
      ]
    },
    {
      "cell_type": "code",
      "metadata": {
        "colab": {
          "base_uri": "https://localhost:8080/",
          "height": 326
        },
        "id": "CiEV2HOH31wO",
        "outputId": "23d8f240-1d01-420d-d5dc-905e48704e07"
      },
      "source": [
        "columns = ['Year', '4-year(All)', '2-year(All)']\n",
        "df2 = df1[columns]\n",
        "\n",
        "df2 = df2.set_index('Year')\n",
        "df2.plot(kind = 'bar',)\n",
        "plt.ylabel('Enrollments', size = 13)\n",
        "plt.xlabel('Year', size = 13)\n",
        "# plt.figure(figsize=(6,4))\n",
        "# plt.subplot()"
      ],
      "execution_count": 7,
      "outputs": [
        {
          "output_type": "execute_result",
          "data": {
            "text/plain": [
              "Text(0.5, 0, 'Year')"
            ]
          },
          "metadata": {
            "tags": []
          },
          "execution_count": 7
        },
        {
          "output_type": "display_data",
          "data": {
            "image/png": "[encoded data removed]",
            "text/plain": [
              "<Figure size 432x288 with 1 Axes>"
            ]
          },
          "metadata": {
            "tags": [],
            "needs_background": "light"
          }
        }
      ]
    },
    {
      "cell_type": "code",
      "metadata": {
        "colab": {
          "base_uri": "https://localhost:8080/",
          "height": 326
        },
        "id": "lRlKRuqYUtM0",
        "outputId": "eb803cac-ef9f-436d-d6f1-e57838a41870"
      },
      "source": [
        "columns = ['Year', '4-year(Public)', '2-year(Public)']\n",
        "df2 = df1[columns]\n",
        "\n",
        "df2 = df2.set_index('Year')\n",
        "df2.plot(kind = 'bar')\n",
        "plt.ylabel('Enrollments', size = 13)\n",
        "plt.xlabel('Year', size = 13)"
      ],
      "execution_count": 8,
      "outputs": [
        {
          "output_type": "execute_result",
          "data": {
            "text/plain": [
              "Text(0.5, 0, 'Year')"
            ]
          },
          "metadata": {
            "tags": []
          },
          "execution_count": 8
        },
        {
          "output_type": "display_data",
          "data": {
            "image/png": "[encoded data removed]",
            "text/plain": [
              "<Figure size 432x288 with 1 Axes>"
            ]
          },
          "metadata": {
            "tags": [],
            "needs_background": "light"
          }
        }
      ]
    },
    {
      "cell_type": "code",
      "metadata": {
        "colab": {
          "base_uri": "https://localhost:8080/",
          "height": 326
        },
        "id": "VChhgqUlWyCq",
        "outputId": "17fb20d9-a828-4344-d910-ddf2f9b7359f"
      },
      "source": [
        "columns = ['Year', '4-year(Private_All)', '2-year(Private_All)']\n",
        "df2 = df1[columns]\n",
        "\n",
        "df2 = df2.set_index('Year')\n",
        "df2.plot(kind = 'bar')\n",
        "plt.ylabel('Enrollments', size = 12)\n",
        "plt.xlabel('Year', size = 12)"
      ],
      "execution_count": 9,
      "outputs": [
        {
          "output_type": "execute_result",
          "data": {
            "text/plain": [
              "Text(0.5, 0, 'Year')"
            ]
          },
          "metadata": {
            "tags": []
          },
          "execution_count": 9
        },
        {
          "output_type": "display_data",
          "data": {
            "image/png": "[encoded data removed]",
            "text/plain": [
              "<Figure size 432x288 with 1 Axes>"
            ]
          },
          "metadata": {
            "tags": [],
            "needs_background": "light"
          }
        }
      ]
    },
    {
      "cell_type": "code",
      "metadata": {
        "colab": {
          "base_uri": "https://localhost:8080/",
          "height": 354
        },
        "id": "4FofdOfot-V-",
        "outputId": "ce253803-9d64-40f4-9109-29b031d338e4"
      },
      "source": [
        "columns = ['Year', 'Total(Private_NonProfit)', 'Total(Private_ForProfit)']\n",
        "df2 = df1[columns]\n",
        "\n",
        "df2 = df2.set_index('Year')\n",
        "df2.plot(kind = 'bar')\n",
        "plt.ylabel('Enrollments')"
      ],
      "execution_count": 10,
      "outputs": [
        {
          "output_type": "error",
          "ename": "TypeError",
          "evalue": "ignored",
          "traceback": [
            "\u001b[0;31m---------------------------------------------------------------------------\u001b[0m",
            "\u001b[0;31mTypeError\u001b[0m                                 Traceback (most recent call last)",
            "\u001b[0;32m<ipython-input-10-2221dc55c0f2>\u001b[0m in \u001b[0;36m<module>\u001b[0;34m()\u001b[0m\n\u001b[1;32m      3\u001b[0m \u001b[0;34m\u001b[0m\u001b[0m\n\u001b[1;32m      4\u001b[0m \u001b[0mdf2\u001b[0m \u001b[0;34m=\u001b[0m \u001b[0mdf2\u001b[0m\u001b[0;34m.\u001b[0m\u001b[0mset_index\u001b[0m\u001b[0;34m(\u001b[0m\u001b[0;34m'Year'\u001b[0m\u001b[0;34m)\u001b[0m\u001b[0;34m\u001b[0m\u001b[0;34m\u001b[0m\u001b[0m\n\u001b[0;32m----> 5\u001b[0;31m \u001b[0mdf2\u001b[0m\u001b[0;34m.\u001b[0m\u001b[0mplot\u001b[0m\u001b[0;34m(\u001b[0m\u001b[0mkind\u001b[0m \u001b[0;34m=\u001b[0m \u001b[0;34m'bar'\u001b[0m\u001b[0;34m)\u001b[0m\u001b[0;34m\u001b[0m\u001b[0;34m\u001b[0m\u001b[0m\n\u001b[0m\u001b[1;32m      6\u001b[0m \u001b[0mplt\u001b[0m\u001b[0;34m.\u001b[0m\u001b[0mylabel\u001b[0m\u001b[0;34m(\u001b[0m\u001b[0;34m'Enrollments'\u001b[0m\u001b[0;34m)\u001b[0m\u001b[0;34m\u001b[0m\u001b[0;34m\u001b[0m\u001b[0m\n",
            "\u001b[0;32m/usr/local/lib/python3.7/dist-packages/pandas/plotting/_core.py\u001b[0m in \u001b[0;36m__call__\u001b[0;34m(self, *args, **kwargs)\u001b[0m\n\u001b[1;32m    947\u001b[0m                     \u001b[0mdata\u001b[0m\u001b[0;34m.\u001b[0m\u001b[0mcolumns\u001b[0m \u001b[0;34m=\u001b[0m \u001b[0mlabel_name\u001b[0m\u001b[0;34m\u001b[0m\u001b[0;34m\u001b[0m\u001b[0m\n\u001b[1;32m    948\u001b[0m \u001b[0;34m\u001b[0m\u001b[0m\n\u001b[0;32m--> 949\u001b[0;31m         \u001b[0;32mreturn\u001b[0m \u001b[0mplot_backend\u001b[0m\u001b[0;34m.\u001b[0m\u001b[0mplot\u001b[0m\u001b[0;34m(\u001b[0m\u001b[0mdata\u001b[0m\u001b[0;34m,\u001b[0m \u001b[0mkind\u001b[0m\u001b[0;34m=\u001b[0m\u001b[0mkind\u001b[0m\u001b[0;34m,\u001b[0m \u001b[0;34m**\u001b[0m\u001b[0mkwargs\u001b[0m\u001b[0;34m)\u001b[0m\u001b[0;34m\u001b[0m\u001b[0;34m\u001b[0m\u001b[0m\n\u001b[0m\u001b[1;32m    950\u001b[0m \u001b[0;34m\u001b[0m\u001b[0m\n\u001b[1;32m    951\u001b[0m     \u001b[0m__call__\u001b[0m\u001b[0;34m.\u001b[0m\u001b[0m__doc__\u001b[0m \u001b[0;34m=\u001b[0m \u001b[0m__doc__\u001b[0m\u001b[0;34m\u001b[0m\u001b[0;34m\u001b[0m\u001b[0m\n",
            "\u001b[0;32m/usr/local/lib/python3.7/dist-packages/pandas/plotting/_matplotlib/__init__.py\u001b[0m in \u001b[0;36mplot\u001b[0;34m(data, kind, **kwargs)\u001b[0m\n\u001b[1;32m     59\u001b[0m             \u001b[0mkwargs\u001b[0m\u001b[0;34m[\u001b[0m\u001b[0;34m\"ax\"\u001b[0m\u001b[0;34m]\u001b[0m \u001b[0;34m=\u001b[0m \u001b[0mgetattr\u001b[0m\u001b[0;34m(\u001b[0m\u001b[0max\u001b[0m\u001b[0;34m,\u001b[0m \u001b[0;34m\"left_ax\"\u001b[0m\u001b[0;34m,\u001b[0m \u001b[0max\u001b[0m\u001b[0;34m)\u001b[0m\u001b[0;34m\u001b[0m\u001b[0;34m\u001b[0m\u001b[0m\n\u001b[1;32m     60\u001b[0m     \u001b[0mplot_obj\u001b[0m \u001b[0;34m=\u001b[0m \u001b[0mPLOT_CLASSES\u001b[0m\u001b[0;34m[\u001b[0m\u001b[0mkind\u001b[0m\u001b[0;34m]\u001b[0m\u001b[0;34m(\u001b[0m\u001b[0mdata\u001b[0m\u001b[0;34m,\u001b[0m \u001b[0;34m**\u001b[0m\u001b[0mkwargs\u001b[0m\u001b[0;34m)\u001b[0m\u001b[0;34m\u001b[0m\u001b[0;34m\u001b[0m\u001b[0m\n\u001b[0;32m---> 61\u001b[0;31m     \u001b[0mplot_obj\u001b[0m\u001b[0;34m.\u001b[0m\u001b[0mgenerate\u001b[0m\u001b[0;34m(\u001b[0m\u001b[0;34m)\u001b[0m\u001b[0;34m\u001b[0m\u001b[0;34m\u001b[0m\u001b[0m\n\u001b[0m\u001b[1;32m     62\u001b[0m     \u001b[0mplot_obj\u001b[0m\u001b[0;34m.\u001b[0m\u001b[0mdraw\u001b[0m\u001b[0;34m(\u001b[0m\u001b[0;34m)\u001b[0m\u001b[0;34m\u001b[0m\u001b[0;34m\u001b[0m\u001b[0m\n\u001b[1;32m     63\u001b[0m     \u001b[0;32mreturn\u001b[0m \u001b[0mplot_obj\u001b[0m\u001b[0;34m.\u001b[0m\u001b[0mresult\u001b[0m\u001b[0;34m\u001b[0m\u001b[0;34m\u001b[0m\u001b[0m\n",
            "\u001b[0;32m/usr/local/lib/python3.7/dist-packages/pandas/plotting/_matplotlib/core.py\u001b[0m in \u001b[0;36mgenerate\u001b[0;34m(self)\u001b[0m\n\u001b[1;32m    267\u001b[0m     \u001b[0;32mdef\u001b[0m \u001b[0mgenerate\u001b[0m\u001b[0;34m(\u001b[0m\u001b[0mself\u001b[0m\u001b[0;34m)\u001b[0m\u001b[0;34m:\u001b[0m\u001b[0;34m\u001b[0m\u001b[0;34m\u001b[0m\u001b[0m\n\u001b[1;32m    268\u001b[0m         \u001b[0mself\u001b[0m\u001b[0;34m.\u001b[0m\u001b[0m_args_adjust\u001b[0m\u001b[0;34m(\u001b[0m\u001b[0;34m)\u001b[0m\u001b[0;34m\u001b[0m\u001b[0;34m\u001b[0m\u001b[0m\n\u001b[0;32m--> 269\u001b[0;31m         \u001b[0mself\u001b[0m\u001b[0;34m.\u001b[0m\u001b[0m_compute_plot_data\u001b[0m\u001b[0;34m(\u001b[0m\u001b[0;34m)\u001b[0m\u001b[0;34m\u001b[0m\u001b[0;34m\u001b[0m\u001b[0m\n\u001b[0m\u001b[1;32m    270\u001b[0m         \u001b[0mself\u001b[0m\u001b[0;34m.\u001b[0m\u001b[0m_setup_subplots\u001b[0m\u001b[0;34m(\u001b[0m\u001b[0;34m)\u001b[0m\u001b[0;34m\u001b[0m\u001b[0;34m\u001b[0m\u001b[0m\n\u001b[1;32m    271\u001b[0m         \u001b[0mself\u001b[0m\u001b[0;34m.\u001b[0m\u001b[0m_make_plot\u001b[0m\u001b[0;34m(\u001b[0m\u001b[0;34m)\u001b[0m\u001b[0;34m\u001b[0m\u001b[0;34m\u001b[0m\u001b[0m\n",
            "\u001b[0;32m/usr/local/lib/python3.7/dist-packages/pandas/plotting/_matplotlib/core.py\u001b[0m in \u001b[0;36m_compute_plot_data\u001b[0;34m(self)\u001b[0m\n\u001b[1;32m    416\u001b[0m         \u001b[0;31m# no non-numeric frames or series allowed\u001b[0m\u001b[0;34m\u001b[0m\u001b[0;34m\u001b[0m\u001b[0;34m\u001b[0m\u001b[0m\n\u001b[1;32m    417\u001b[0m         \u001b[0;32mif\u001b[0m \u001b[0mis_empty\u001b[0m\u001b[0;34m:\u001b[0m\u001b[0;34m\u001b[0m\u001b[0;34m\u001b[0m\u001b[0m\n\u001b[0;32m--> 418\u001b[0;31m             \u001b[0;32mraise\u001b[0m \u001b[0mTypeError\u001b[0m\u001b[0;34m(\u001b[0m\u001b[0;34m\"no numeric data to plot\"\u001b[0m\u001b[0;34m)\u001b[0m\u001b[0;34m\u001b[0m\u001b[0;34m\u001b[0m\u001b[0m\n\u001b[0m\u001b[1;32m    419\u001b[0m \u001b[0;34m\u001b[0m\u001b[0m\n\u001b[1;32m    420\u001b[0m         \u001b[0;31m# GH25587: cast ExtensionArray of pandas (IntegerArray, etc.) to\u001b[0m\u001b[0;34m\u001b[0m\u001b[0;34m\u001b[0m\u001b[0;34m\u001b[0m\u001b[0m\n",
            "\u001b[0;31mTypeError\u001b[0m: no numeric data to plot"
          ]
        }
      ]
    },
    {
      "cell_type": "code",
      "metadata": {
        "colab": {
          "base_uri": "https://localhost:8080/",
          "height": 290
        },
        "id": "sFF9_VrRdTL4",
        "outputId": "6be8bdb9-a555-4ac0-b75e-8448b5b445c3"
      },
      "source": [
        "plt.figure(figsize = (6,4))\n",
        "plt.subplot()\n",
        "\n",
        "plt.scatter(data = df, x = 'Year', y = 'Total(All)')\n",
        "plt.scatter(data = df, x = 'Year', y = 'Total(Public)')\n",
        "plt.scatter(data = df, x = 'Year', y = 'Total(Private_All)')\n",
        "# plt.scatter(data = df, x = 'Year', y = '4-year(All)')\n",
        "# plt.scatter(data = df, x = 'Year', y = '4-year(Public)')\n",
        "# plt.scatter(data = df, x = 'Year', y = '4-year(Private_All)')\n",
        "# plt.scatter(data = df, x = 'Year', y = '2-year(All)')\n",
        "# plt.scatter(data = df, x = 'Year', y = '2-year(Public)')\n",
        "# plt.scatter(data = df, x = 'Year', y = '2-year(Private_All)')\n",
        "plt.xlabel('Year')\n",
        "plt.ylabel('Enrollments in the U.S.')\n",
        "plt.legend(['All colleges','4 year colleges','2 year colleges'])\n",
        "plt.show()"
      ],
      "execution_count": 11,
      "outputs": [
        {
          "output_type": "display_data",
          "data": {
            "image/png": "[encoded data removed]",
            "text/plain": [
              "<Figure size 432x288 with 1 Axes>"
            ]
          },
          "metadata": {
            "tags": [],
            "needs_background": "light"
          }
        }
      ]
    },
    {
      "cell_type": "code",
      "metadata": {
        "colab": {
          "base_uri": "https://localhost:8080/",
          "height": 403
        },
        "id": "Yc4rxLOJmZYS",
        "outputId": "1dc21aff-6457-4d26-c6a4-a6a97798a39b"
      },
      "source": [
        "list_yrs = np.arange(1978, 2019)\n",
        "# print(list_yrs)\n",
        "\n",
        "plt.figure(figsize = (8,6))\n",
        "plt.subplot()\n",
        "\n",
        "plt.xticks = list_yrs\n",
        "plt.plot(df['Year'], df['Total(All)'], ls = '-', marker = '.', markersize = 7)\n",
        "plt.plot(df['Year'], df['Total(Public)'], marker = '.', markersize = 7)\n",
        "plt.plot(df['Year'], df['Total(Private_All)'],  marker = '.', markersize = 7)\n",
        "plt.xlabel('Year', size = 14)\n",
        "plt.ylabel('Enrollments in the U.S.', size = 14)\n",
        "plt.legend(['All colleges','4 year colleges','2 year colleges'])\n",
        "plt.show()"
      ],
      "execution_count": 12,
      "outputs": [
        {
          "output_type": "display_data",
          "data": {
            "image/png": "[encoded data removed]",
            "text/plain": [
              "<Figure size 576x432 with 1 Axes>"
            ]
          },
          "metadata": {
            "tags": [],
            "needs_background": "light"
          }
        }
      ]
    },
    {
      "cell_type": "code",
      "metadata": {
        "id": "q_abR5Z5zhmn"
      },
      "source": [
        ""
      ],
      "execution_count": 12,
      "outputs": []
    },
    {
      "cell_type": "code",
      "metadata": {
        "colab": {
          "base_uri": "https://localhost:8080/",
          "height": 229
        },
        "id": "ujTZQR5Bb9eC",
        "outputId": "b4923fa5-ba82-4229-f04b-34f22210e482"
      },
      "source": [
        "df_new = pd.read_csv('/content/drive/MyDrive/Modified table NCES.txt', delimiter='\\t')\n",
        "df_new.head()"
      ],
      "execution_count": 13,
      "outputs": [
        {
          "output_type": "execute_result",
          "data": {
            "text/html": [
              "<div>\n",
              "<style scoped>\n",
              "    .dataframe tbody tr th:only-of-type {\n",
              "        vertical-align: middle;\n",
              "    }\n",
              "\n",
              "    .dataframe tbody tr th {\n",
              "        vertical-align: top;\n",
              "    }\n",
              "\n",
              "    .dataframe thead th {\n",
              "        text-align: right;\n",
              "    }\n",
              "</style>\n",
              "<table border=\"1\" class=\"dataframe\">\n",
              "  <thead>\n",
              "    <tr style=\"text-align: right;\">\n",
              "      <th></th>\n",
              "      <th>Highest_degree_offered</th>\n",
              "      <th>Total</th>\n",
              "      <th>Age under 18</th>\n",
              "      <th>Age 18-19</th>\n",
              "      <th>Age 20-21</th>\n",
              "      <th>Age 22-24</th>\n",
              "      <th>Age 25-29</th>\n",
              "      <th>Age 30-34</th>\n",
              "      <th>Age 35-39</th>\n",
              "      <th>Age 40-49</th>\n",
              "      <th>Age 50-64</th>\n",
              "      <th>Age 65 and over</th>\n",
              "    </tr>\n",
              "  </thead>\n",
              "  <tbody>\n",
              "    <tr>\n",
              "      <th>0</th>\n",
              "      <td>Total</td>\n",
              "      <td>182,869</td>\n",
              "      <td>9,119</td>\n",
              "      <td>52,392</td>\n",
              "      <td>44,842</td>\n",
              "      <td>31,867</td>\n",
              "      <td>18,237</td>\n",
              "      <td>8,601</td>\n",
              "      <td>5,606</td>\n",
              "      <td>7,264</td>\n",
              "      <td>4,384</td>\n",
              "      <td>557</td>\n",
              "    </tr>\n",
              "    <tr>\n",
              "      <th>1</th>\n",
              "      <td>Doctor's_degree-research/scholarship_and_profe...</td>\n",
              "      <td>40,885</td>\n",
              "      <td>1,133</td>\n",
              "      <td>11,255</td>\n",
              "      <td>10,021</td>\n",
              "      <td>8,757</td>\n",
              "      <td>4,727</td>\n",
              "      <td>1,858</td>\n",
              "      <td>1,058</td>\n",
              "      <td>1,293</td>\n",
              "      <td>730</td>\n",
              "      <td>53</td>\n",
              "    </tr>\n",
              "    <tr>\n",
              "      <th>2</th>\n",
              "      <td>Doctor's_degree - research/scholarship</td>\n",
              "      <td>95,902</td>\n",
              "      <td>3,666</td>\n",
              "      <td>27,087</td>\n",
              "      <td>24,344</td>\n",
              "      <td>16,413</td>\n",
              "      <td>9,445</td>\n",
              "      <td>4,733</td>\n",
              "      <td>3,125</td>\n",
              "      <td>4,136</td>\n",
              "      <td>2,569</td>\n",
              "      <td>384</td>\n",
              "    </tr>\n",
              "    <tr>\n",
              "      <th>3</th>\n",
              "      <td>Doctor's_degree - professional practice</td>\n",
              "      <td>13,127</td>\n",
              "      <td>660</td>\n",
              "      <td>3,866</td>\n",
              "      <td>2,846</td>\n",
              "      <td>1,913</td>\n",
              "      <td>1,462</td>\n",
              "      <td>708</td>\n",
              "      <td>508</td>\n",
              "      <td>680</td>\n",
              "      <td>448</td>\n",
              "      <td>36</td>\n",
              "    </tr>\n",
              "    <tr>\n",
              "      <th>4</th>\n",
              "      <td>Master's_degree</td>\n",
              "      <td>27,436</td>\n",
              "      <td>3,462</td>\n",
              "      <td>8,010</td>\n",
              "      <td>6,193</td>\n",
              "      <td>3,952</td>\n",
              "      <td>2,207</td>\n",
              "      <td>1,149</td>\n",
              "      <td>796</td>\n",
              "      <td>1,024</td>\n",
              "      <td>564</td>\n",
              "      <td>79</td>\n",
              "    </tr>\n",
              "  </tbody>\n",
              "</table>\n",
              "</div>"
            ],
            "text/plain": [
              "                              Highest_degree_offered  ... Age 65 and over\n",
              "0                                              Total  ...             557\n",
              "1  Doctor's_degree-research/scholarship_and_profe...  ...              53\n",
              "2             Doctor's_degree - research/scholarship  ...             384\n",
              "3            Doctor's_degree - professional practice  ...              36\n",
              "4                                    Master's_degree  ...              79\n",
              "\n",
              "[5 rows x 12 columns]"
            ]
          },
          "metadata": {
            "tags": []
          },
          "execution_count": 13
        }
      ]
    },
    {
      "cell_type": "code",
      "metadata": {
        "colab": {
          "base_uri": "https://localhost:8080/",
          "height": 346
        },
        "id": "nnyU7uC-cWhb",
        "outputId": "aa18a825-0bae-4809-cf71-b7e5c8e36d06"
      },
      "source": [
        "df_new = df_new.set_index(df_new['Highest_degree_offered'])\n",
        "\n",
        "list = []\n",
        "for item in df_new['Total'].values:\n",
        "  l1 = re.split(',', item)\n",
        "  list.append(''.join(l1))\n",
        "# print(list)  \n",
        "df_new['Total'] = list\n",
        "\n",
        "list = []\n",
        "for item in df_new['Age under 18'].values:\n",
        "  l1 = re.split(',', item)\n",
        "  list.append(''.join(l1))\n",
        "# print(list)  \n",
        "df_new['Age under 18'] = list\n",
        "\n",
        "list = []\n",
        "for item in df_new['Age 18-19'].values:\n",
        "  l1 = re.split(',', item)\n",
        "  list.append(''.join(l1))\n",
        "# print(list)  \n",
        "df_new['Age 18-19'] = list\n",
        "\n",
        "list = []\n",
        "for item in df_new['Age 20-21'].values:\n",
        "  l1 = re.split(',', item)\n",
        "  list.append(''.join(l1))\n",
        "# print(list)  \n",
        "df_new['Age 20-21'] = list\n",
        "\n",
        "list = []\n",
        "for item in df_new['Age 22-24'].values:\n",
        "  l1 = re.split(',', item)\n",
        "  list.append(''.join(l1))\n",
        "# print(list)  \n",
        "df_new['Age 22-24'] = list\n",
        "\n",
        "list = []\n",
        "for item in df_new['Age 25-29'].values:\n",
        "  l1 = re.split(',', item)\n",
        "  list.append(''.join(l1))\n",
        "# print(list)  \n",
        "df_new['Age 25-29'] = list\n",
        "\n",
        "df_new.columns\n",
        "\n",
        "df_new['Total'] = df_new['Total'].astype('int')\n",
        "df_new['Age 18-19'] = df_new['Age 18-19'].astype('int')\n",
        "df_new['Age 20-21'] = df_new['Age 20-21'].astype('int')\n",
        "df_new['Age 22-24'] = df_new['Age 22-24'].astype('int')\n",
        "df_new['Age 25-29'] = df_new['Age 25-29'].astype('int')\n",
        "\n",
        "\n",
        "df_new.head()"
      ],
      "execution_count": 14,
      "outputs": [
        {
          "output_type": "execute_result",
          "data": {
            "text/html": [
              "<div>\n",
              "<style scoped>\n",
              "    .dataframe tbody tr th:only-of-type {\n",
              "        vertical-align: middle;\n",
              "    }\n",
              "\n",
              "    .dataframe tbody tr th {\n",
              "        vertical-align: top;\n",
              "    }\n",
              "\n",
              "    .dataframe thead th {\n",
              "        text-align: right;\n",
              "    }\n",
              "</style>\n",
              "<table border=\"1\" class=\"dataframe\">\n",
              "  <thead>\n",
              "    <tr style=\"text-align: right;\">\n",
              "      <th></th>\n",
              "      <th>Highest_degree_offered</th>\n",
              "      <th>Total</th>\n",
              "      <th>Age under 18</th>\n",
              "      <th>Age 18-19</th>\n",
              "      <th>Age 20-21</th>\n",
              "      <th>Age 22-24</th>\n",
              "      <th>Age 25-29</th>\n",
              "      <th>Age 30-34</th>\n",
              "      <th>Age 35-39</th>\n",
              "      <th>Age 40-49</th>\n",
              "      <th>Age 50-64</th>\n",
              "      <th>Age 65 and over</th>\n",
              "    </tr>\n",
              "    <tr>\n",
              "      <th>Highest_degree_offered</th>\n",
              "      <th></th>\n",
              "      <th></th>\n",
              "      <th></th>\n",
              "      <th></th>\n",
              "      <th></th>\n",
              "      <th></th>\n",
              "      <th></th>\n",
              "      <th></th>\n",
              "      <th></th>\n",
              "      <th></th>\n",
              "      <th></th>\n",
              "      <th></th>\n",
              "    </tr>\n",
              "  </thead>\n",
              "  <tbody>\n",
              "    <tr>\n",
              "      <th>Total</th>\n",
              "      <td>Total</td>\n",
              "      <td>182869</td>\n",
              "      <td>9119</td>\n",
              "      <td>52392</td>\n",
              "      <td>44842</td>\n",
              "      <td>31867</td>\n",
              "      <td>18237</td>\n",
              "      <td>8,601</td>\n",
              "      <td>5,606</td>\n",
              "      <td>7,264</td>\n",
              "      <td>4,384</td>\n",
              "      <td>557</td>\n",
              "    </tr>\n",
              "    <tr>\n",
              "      <th>Doctor's_degree-research/scholarship_and_professional_practice</th>\n",
              "      <td>Doctor's_degree-research/scholarship_and_profe...</td>\n",
              "      <td>40885</td>\n",
              "      <td>1133</td>\n",
              "      <td>11255</td>\n",
              "      <td>10021</td>\n",
              "      <td>8757</td>\n",
              "      <td>4727</td>\n",
              "      <td>1,858</td>\n",
              "      <td>1,058</td>\n",
              "      <td>1,293</td>\n",
              "      <td>730</td>\n",
              "      <td>53</td>\n",
              "    </tr>\n",
              "    <tr>\n",
              "      <th>Doctor's_degree - research/scholarship</th>\n",
              "      <td>Doctor's_degree - research/scholarship</td>\n",
              "      <td>95902</td>\n",
              "      <td>3666</td>\n",
              "      <td>27087</td>\n",
              "      <td>24344</td>\n",
              "      <td>16413</td>\n",
              "      <td>9445</td>\n",
              "      <td>4,733</td>\n",
              "      <td>3,125</td>\n",
              "      <td>4,136</td>\n",
              "      <td>2,569</td>\n",
              "      <td>384</td>\n",
              "    </tr>\n",
              "    <tr>\n",
              "      <th>Doctor's_degree - professional practice</th>\n",
              "      <td>Doctor's_degree - professional practice</td>\n",
              "      <td>13127</td>\n",
              "      <td>660</td>\n",
              "      <td>3866</td>\n",
              "      <td>2846</td>\n",
              "      <td>1913</td>\n",
              "      <td>1462</td>\n",
              "      <td>708</td>\n",
              "      <td>508</td>\n",
              "      <td>680</td>\n",
              "      <td>448</td>\n",
              "      <td>36</td>\n",
              "    </tr>\n",
              "    <tr>\n",
              "      <th>Master's_degree</th>\n",
              "      <td>Master's_degree</td>\n",
              "      <td>27436</td>\n",
              "      <td>3462</td>\n",
              "      <td>8010</td>\n",
              "      <td>6193</td>\n",
              "      <td>3952</td>\n",
              "      <td>2207</td>\n",
              "      <td>1,149</td>\n",
              "      <td>796</td>\n",
              "      <td>1,024</td>\n",
              "      <td>564</td>\n",
              "      <td>79</td>\n",
              "    </tr>\n",
              "  </tbody>\n",
              "</table>\n",
              "</div>"
            ],
            "text/plain": [
              "                                                                               Highest_degree_offered  ...  Age 65 and over\n",
              "Highest_degree_offered                                                                                 ...                 \n",
              "Total                                                                                           Total  ...              557\n",
              "Doctor's_degree-research/scholarship_and_profes...  Doctor's_degree-research/scholarship_and_profe...  ...               53\n",
              "Doctor's_degree - research/scholarship                         Doctor's_degree - research/scholarship  ...              384\n",
              "Doctor's_degree - professional practice                       Doctor's_degree - professional practice  ...               36\n",
              "Master's_degree                                                                       Master's_degree  ...               79\n",
              "\n",
              "[5 rows x 12 columns]"
            ]
          },
          "metadata": {
            "tags": []
          },
          "execution_count": 14
        }
      ]
    },
    {
      "cell_type": "code",
      "metadata": {
        "colab": {
          "base_uri": "https://localhost:8080/",
          "height": 225
        },
        "id": "fVRofeMfcckX",
        "outputId": "588f6864-a6d5-4577-8902-0a1f3cae5123"
      },
      "source": [
        "corr_mtx = df_new.corr()\n",
        "corr_mtx"
      ],
      "execution_count": 15,
      "outputs": [
        {
          "output_type": "execute_result",
          "data": {
            "text/html": [
              "<div>\n",
              "<style scoped>\n",
              "    .dataframe tbody tr th:only-of-type {\n",
              "        vertical-align: middle;\n",
              "    }\n",
              "\n",
              "    .dataframe tbody tr th {\n",
              "        vertical-align: top;\n",
              "    }\n",
              "\n",
              "    .dataframe thead th {\n",
              "        text-align: right;\n",
              "    }\n",
              "</style>\n",
              "<table border=\"1\" class=\"dataframe\">\n",
              "  <thead>\n",
              "    <tr style=\"text-align: right;\">\n",
              "      <th></th>\n",
              "      <th>Total</th>\n",
              "      <th>Age 18-19</th>\n",
              "      <th>Age 20-21</th>\n",
              "      <th>Age 22-24</th>\n",
              "      <th>Age 25-29</th>\n",
              "      <th>Age 65 and over</th>\n",
              "    </tr>\n",
              "  </thead>\n",
              "  <tbody>\n",
              "    <tr>\n",
              "      <th>Total</th>\n",
              "      <td>1.000000</td>\n",
              "      <td>0.999825</td>\n",
              "      <td>0.999660</td>\n",
              "      <td>0.997446</td>\n",
              "      <td>0.998336</td>\n",
              "      <td>0.976077</td>\n",
              "    </tr>\n",
              "    <tr>\n",
              "      <th>Age 18-19</th>\n",
              "      <td>0.999825</td>\n",
              "      <td>1.000000</td>\n",
              "      <td>0.999322</td>\n",
              "      <td>0.996527</td>\n",
              "      <td>0.997546</td>\n",
              "      <td>0.975933</td>\n",
              "    </tr>\n",
              "    <tr>\n",
              "      <th>Age 20-21</th>\n",
              "      <td>0.999660</td>\n",
              "      <td>0.999322</td>\n",
              "      <td>1.000000</td>\n",
              "      <td>0.997399</td>\n",
              "      <td>0.998184</td>\n",
              "      <td>0.979106</td>\n",
              "    </tr>\n",
              "    <tr>\n",
              "      <th>Age 22-24</th>\n",
              "      <td>0.997446</td>\n",
              "      <td>0.996527</td>\n",
              "      <td>0.997399</td>\n",
              "      <td>1.000000</td>\n",
              "      <td>0.999508</td>\n",
              "      <td>0.963279</td>\n",
              "    </tr>\n",
              "    <tr>\n",
              "      <th>Age 25-29</th>\n",
              "      <td>0.998336</td>\n",
              "      <td>0.997546</td>\n",
              "      <td>0.998184</td>\n",
              "      <td>0.999508</td>\n",
              "      <td>1.000000</td>\n",
              "      <td>0.967453</td>\n",
              "    </tr>\n",
              "    <tr>\n",
              "      <th>Age 65 and over</th>\n",
              "      <td>0.976077</td>\n",
              "      <td>0.975933</td>\n",
              "      <td>0.979106</td>\n",
              "      <td>0.963279</td>\n",
              "      <td>0.967453</td>\n",
              "      <td>1.000000</td>\n",
              "    </tr>\n",
              "  </tbody>\n",
              "</table>\n",
              "</div>"
            ],
            "text/plain": [
              "                    Total  Age 18-19  ...  Age 25-29  Age 65 and over\n",
              "Total            1.000000   0.999825  ...   0.998336         0.976077\n",
              "Age 18-19        0.999825   1.000000  ...   0.997546         0.975933\n",
              "Age 20-21        0.999660   0.999322  ...   0.998184         0.979106\n",
              "Age 22-24        0.997446   0.996527  ...   0.999508         0.963279\n",
              "Age 25-29        0.998336   0.997546  ...   1.000000         0.967453\n",
              "Age 65 and over  0.976077   0.975933  ...   0.967453         1.000000\n",
              "\n",
              "[6 rows x 6 columns]"
            ]
          },
          "metadata": {
            "tags": []
          },
          "execution_count": 15
        }
      ]
    },
    {
      "cell_type": "code",
      "metadata": {
        "colab": {
          "base_uri": "https://localhost:8080/",
          "height": 359
        },
        "id": "GzAMjszTgDYd",
        "outputId": "3af19531-e97a-4d8c-89f3-1c804cbe2843"
      },
      "source": [
        "sns.heatmap(corr_mtx, annot = True, cmap = 'Blues')"
      ],
      "execution_count": 16,
      "outputs": [
        {
          "output_type": "execute_result",
          "data": {
            "text/plain": [
              "<matplotlib.axes._subplots.AxesSubplot at 0x7f56b0711390>"
            ]
          },
          "metadata": {
            "tags": []
          },
          "execution_count": 16
        },
        {
          "output_type": "display_data",
          "data": {
            "image/png": "[encoded data removed]",
            "text/plain": [
              "<Figure size 432x288 with 2 Axes>"
            ]
          },
          "metadata": {
            "tags": [],
            "needs_background": "light"
          }
        }
      ]
    },
    {
      "cell_type": "code",
      "metadata": {
        "colab": {
          "base_uri": "https://localhost:8080/",
          "height": 1000
        },
        "id": "txzPS2p1dRnV",
        "outputId": "2dd16cce-4827-4dce-fba6-7adc4e72ba02"
      },
      "source": [
        "data_plot = sns.PairGrid(df_new, hue = 'Highest_degree_offered')\n",
        "data_plot.map(plt.scatter)"
      ],
      "execution_count": 17,
      "outputs": [
        {
          "output_type": "execute_result",
          "data": {
            "text/plain": [
              "<seaborn.axisgrid.PairGrid at 0x7f56a7dd6cd0>"
            ]
          },
          "metadata": {
            "tags": []
          },
          "execution_count": 17
        },
        {
          "output_type": "display_data",
          "data": {
            "image/png": "[encoded data removed]",
            "text/plain": [
              "<Figure size 1080x1080 with 36 Axes>"
            ]
          },
          "metadata": {
            "tags": [],
            "needs_background": "light"
          }
        }
      ]
    },
    {
      "cell_type": "code",
      "metadata": {
        "id": "zPzn4ytRfncz",
        "colab": {
          "base_uri": "https://localhost:8080/",
          "height": 242
        },
        "outputId": "b31d8ff7-d71d-4b24-9be6-ae13adaa41e7"
      },
      "source": [
        "df_n2 = pd.read_csv('/content/drive/MyDrive/Time series degree of urbanisation 1.txt', delimiter='\\t')\n",
        "df_n2"
      ],
      "execution_count": 81,
      "outputs": [
        {
          "output_type": "execute_result",
          "data": {
            "text/html": [
              "<div>\n",
              "<style scoped>\n",
              "    .dataframe tbody tr th:only-of-type {\n",
              "        vertical-align: middle;\n",
              "    }\n",
              "\n",
              "    .dataframe tbody tr th {\n",
              "        vertical-align: top;\n",
              "    }\n",
              "\n",
              "    .dataframe thead th {\n",
              "        text-align: right;\n",
              "    }\n",
              "</style>\n",
              "<table border=\"1\" class=\"dataframe\">\n",
              "  <thead>\n",
              "    <tr style=\"text-align: right;\">\n",
              "      <th></th>\n",
              "      <th>Fall</th>\n",
              "      <th>City: Large</th>\n",
              "      <th>City: Midsize</th>\n",
              "      <th>City: Small</th>\n",
              "      <th>Suburb: Large</th>\n",
              "      <th>Suburb: Midsize</th>\n",
              "      <th>Suburb: Small</th>\n",
              "      <th>Town: Fringe</th>\n",
              "      <th>Town: Distant</th>\n",
              "      <th>Town: Remote</th>\n",
              "      <th>Rural: Fringe</th>\n",
              "      <th>Rural: Distant</th>\n",
              "      <th>Rural: Remote</th>\n",
              "    </tr>\n",
              "  </thead>\n",
              "  <tbody>\n",
              "    <tr>\n",
              "      <th>0</th>\n",
              "      <td>2019</td>\n",
              "      <td>3,846,082</td>\n",
              "      <td>1,675,562</td>\n",
              "      <td>1,842,876</td>\n",
              "      <td>1,841,424</td>\n",
              "      <td>371,928</td>\n",
              "      <td>382,138</td>\n",
              "      <td>252,584</td>\n",
              "      <td>707,501</td>\n",
              "      <td>428,190</td>\n",
              "      <td>114,085</td>\n",
              "      <td>48,211</td>\n",
              "      <td>31,815</td>\n",
              "    </tr>\n",
              "    <tr>\n",
              "      <th>1</th>\n",
              "      <td>2018</td>\n",
              "      <td>3,698,300</td>\n",
              "      <td>1,664,469</td>\n",
              "      <td>1,673,843</td>\n",
              "      <td>1,885,424</td>\n",
              "      <td>389,702</td>\n",
              "      <td>375,091</td>\n",
              "      <td>274,101</td>\n",
              "      <td>715,547</td>\n",
              "      <td>414,186</td>\n",
              "      <td>110,632</td>\n",
              "      <td>42,955</td>\n",
              "      <td>34,392</td>\n",
              "    </tr>\n",
              "    <tr>\n",
              "      <th>2</th>\n",
              "      <td>2017</td>\n",
              "      <td>3,441,953</td>\n",
              "      <td>1,492,060</td>\n",
              "      <td>1,677,717</td>\n",
              "      <td>1,834,488</td>\n",
              "      <td>353,676</td>\n",
              "      <td>355,902</td>\n",
              "      <td>265,331</td>\n",
              "      <td>702,273</td>\n",
              "      <td>391,431</td>\n",
              "      <td>108,171</td>\n",
              "      <td>45,568</td>\n",
              "      <td>31,320</td>\n",
              "    </tr>\n",
              "    <tr>\n",
              "      <th>3</th>\n",
              "      <td>2016</td>\n",
              "      <td>3,316,133</td>\n",
              "      <td>1,534,578</td>\n",
              "      <td>1,635,486</td>\n",
              "      <td>1,756,650</td>\n",
              "      <td>327,641</td>\n",
              "      <td>347,055</td>\n",
              "      <td>274,417</td>\n",
              "      <td>677,441</td>\n",
              "      <td>386,991</td>\n",
              "      <td>114,773</td>\n",
              "      <td>39,374</td>\n",
              "      <td>24,636</td>\n",
              "    </tr>\n",
              "    <tr>\n",
              "      <th>4</th>\n",
              "      <td>2015</td>\n",
              "      <td>2,966,977</td>\n",
              "      <td>1,505,759</td>\n",
              "      <td>1,632,973</td>\n",
              "      <td>1,728,569</td>\n",
              "      <td>346,189</td>\n",
              "      <td>339,471</td>\n",
              "      <td>249,894</td>\n",
              "      <td>639,132</td>\n",
              "      <td>348,487</td>\n",
              "      <td>145,171</td>\n",
              "      <td>42,745</td>\n",
              "      <td>21,967</td>\n",
              "    </tr>\n",
              "    <tr>\n",
              "      <th>5</th>\n",
              "      <td>2014</td>\n",
              "      <td>2,867,978</td>\n",
              "      <td>1,420,658</td>\n",
              "      <td>1,600,678</td>\n",
              "      <td>1,671,029</td>\n",
              "      <td>336,185</td>\n",
              "      <td>300,791</td>\n",
              "      <td>242,346</td>\n",
              "      <td>603,884</td>\n",
              "      <td>327,219</td>\n",
              "      <td>167,467</td>\n",
              "      <td>41,076</td>\n",
              "      <td>19,448</td>\n",
              "    </tr>\n",
              "  </tbody>\n",
              "</table>\n",
              "</div>"
            ],
            "text/plain": [
              "   Fall City: Large City: Midsize  ... Rural: Fringe Rural: Distant Rural: Remote\n",
              "0  2019   3,846,082     1,675,562  ...       114,085         48,211        31,815\n",
              "1  2018   3,698,300     1,664,469  ...       110,632         42,955        34,392\n",
              "2  2017   3,441,953     1,492,060  ...       108,171         45,568        31,320\n",
              "3  2016   3,316,133     1,534,578  ...       114,773         39,374        24,636\n",
              "4  2015   2,966,977     1,505,759  ...       145,171         42,745        21,967\n",
              "5  2014   2,867,978     1,420,658  ...       167,467         41,076        19,448\n",
              "\n",
              "[6 rows x 13 columns]"
            ]
          },
          "metadata": {
            "tags": []
          },
          "execution_count": 81
        }
      ]
    },
    {
      "cell_type": "code",
      "metadata": {
        "colab": {
          "base_uri": "https://localhost:8080/",
          "height": 292
        },
        "id": "q3KBXhDPSQg4",
        "outputId": "62248c5c-b687-459d-8f53-69a2552e758b"
      },
      "source": [
        "list = []\n",
        "list_columns = df_n2.columns\n",
        "list_columns = list_columns[1:]\n",
        "print(list_columns.values)\n",
        "\n",
        "for i in list_columns:\n",
        "  list = []\n",
        "  for item in df_n2[i].values:\n",
        "    l1 = re.split(',', item)\n",
        "    list.append(''.join(l1))\n",
        "  df_n2[i] = list\n",
        "  df_n2[i] = df_n2[i].astype('int')\n",
        "\n",
        "df_n2\n"
      ],
      "execution_count": 88,
      "outputs": [
        {
          "output_type": "stream",
          "text": [
            "['City: Large' 'City: Midsize' 'City: Small' 'Suburb: Large'\n",
            " 'Suburb: Midsize' 'Suburb: Small' 'Town: Fringe' 'Town: Distant'\n",
            " 'Town: Remote' 'Rural: Fringe' 'Rural: Distant' 'Rural: Remote']\n"
          ],
          "name": "stdout"
        },
        {
          "output_type": "execute_result",
          "data": {
            "text/html": [
              "<div>\n",
              "<style scoped>\n",
              "    .dataframe tbody tr th:only-of-type {\n",
              "        vertical-align: middle;\n",
              "    }\n",
              "\n",
              "    .dataframe tbody tr th {\n",
              "        vertical-align: top;\n",
              "    }\n",
              "\n",
              "    .dataframe thead th {\n",
              "        text-align: right;\n",
              "    }\n",
              "</style>\n",
              "<table border=\"1\" class=\"dataframe\">\n",
              "  <thead>\n",
              "    <tr style=\"text-align: right;\">\n",
              "      <th></th>\n",
              "      <th>Fall</th>\n",
              "      <th>City: Large</th>\n",
              "      <th>City: Midsize</th>\n",
              "      <th>City: Small</th>\n",
              "      <th>Suburb: Large</th>\n",
              "      <th>Suburb: Midsize</th>\n",
              "      <th>Suburb: Small</th>\n",
              "      <th>Town: Fringe</th>\n",
              "      <th>Town: Distant</th>\n",
              "      <th>Town: Remote</th>\n",
              "      <th>Rural: Fringe</th>\n",
              "      <th>Rural: Distant</th>\n",
              "      <th>Rural: Remote</th>\n",
              "    </tr>\n",
              "  </thead>\n",
              "  <tbody>\n",
              "    <tr>\n",
              "      <th>0</th>\n",
              "      <td>2019</td>\n",
              "      <td>3846082</td>\n",
              "      <td>1675562</td>\n",
              "      <td>1842876</td>\n",
              "      <td>1841424</td>\n",
              "      <td>371928</td>\n",
              "      <td>382138</td>\n",
              "      <td>252584</td>\n",
              "      <td>707501</td>\n",
              "      <td>428190</td>\n",
              "      <td>114085</td>\n",
              "      <td>48211</td>\n",
              "      <td>31815</td>\n",
              "    </tr>\n",
              "    <tr>\n",
              "      <th>1</th>\n",
              "      <td>2018</td>\n",
              "      <td>3698300</td>\n",
              "      <td>1664469</td>\n",
              "      <td>1673843</td>\n",
              "      <td>1885424</td>\n",
              "      <td>389702</td>\n",
              "      <td>375091</td>\n",
              "      <td>274101</td>\n",
              "      <td>715547</td>\n",
              "      <td>414186</td>\n",
              "      <td>110632</td>\n",
              "      <td>42955</td>\n",
              "      <td>34392</td>\n",
              "    </tr>\n",
              "    <tr>\n",
              "      <th>2</th>\n",
              "      <td>2017</td>\n",
              "      <td>3441953</td>\n",
              "      <td>1492060</td>\n",
              "      <td>1677717</td>\n",
              "      <td>1834488</td>\n",
              "      <td>353676</td>\n",
              "      <td>355902</td>\n",
              "      <td>265331</td>\n",
              "      <td>702273</td>\n",
              "      <td>391431</td>\n",
              "      <td>108171</td>\n",
              "      <td>45568</td>\n",
              "      <td>31320</td>\n",
              "    </tr>\n",
              "    <tr>\n",
              "      <th>3</th>\n",
              "      <td>2016</td>\n",
              "      <td>3316133</td>\n",
              "      <td>1534578</td>\n",
              "      <td>1635486</td>\n",
              "      <td>1756650</td>\n",
              "      <td>327641</td>\n",
              "      <td>347055</td>\n",
              "      <td>274417</td>\n",
              "      <td>677441</td>\n",
              "      <td>386991</td>\n",
              "      <td>114773</td>\n",
              "      <td>39374</td>\n",
              "      <td>24636</td>\n",
              "    </tr>\n",
              "    <tr>\n",
              "      <th>4</th>\n",
              "      <td>2015</td>\n",
              "      <td>2966977</td>\n",
              "      <td>1505759</td>\n",
              "      <td>1632973</td>\n",
              "      <td>1728569</td>\n",
              "      <td>346189</td>\n",
              "      <td>339471</td>\n",
              "      <td>249894</td>\n",
              "      <td>639132</td>\n",
              "      <td>348487</td>\n",
              "      <td>145171</td>\n",
              "      <td>42745</td>\n",
              "      <td>21967</td>\n",
              "    </tr>\n",
              "    <tr>\n",
              "      <th>5</th>\n",
              "      <td>2014</td>\n",
              "      <td>2867978</td>\n",
              "      <td>1420658</td>\n",
              "      <td>1600678</td>\n",
              "      <td>1671029</td>\n",
              "      <td>336185</td>\n",
              "      <td>300791</td>\n",
              "      <td>242346</td>\n",
              "      <td>603884</td>\n",
              "      <td>327219</td>\n",
              "      <td>167467</td>\n",
              "      <td>41076</td>\n",
              "      <td>19448</td>\n",
              "    </tr>\n",
              "  </tbody>\n",
              "</table>\n",
              "</div>"
            ],
            "text/plain": [
              "   Fall  City: Large  ...  Rural: Distant  Rural: Remote\n",
              "0  2019      3846082  ...           48211          31815\n",
              "1  2018      3698300  ...           42955          34392\n",
              "2  2017      3441953  ...           45568          31320\n",
              "3  2016      3316133  ...           39374          24636\n",
              "4  2015      2966977  ...           42745          21967\n",
              "5  2014      2867978  ...           41076          19448\n",
              "\n",
              "[6 rows x 13 columns]"
            ]
          },
          "metadata": {
            "tags": []
          },
          "execution_count": 88
        }
      ]
    },
    {
      "cell_type": "code",
      "metadata": {
        "colab": {
          "base_uri": "https://localhost:8080/",
          "height": 529
        },
        "id": "lH7bcQ-6SpSh",
        "outputId": "a7616e5e-4cac-49a5-af79-88dbeab7c618"
      },
      "source": [
        "plt.figure(figsize=(12,8))\n",
        "plt.subplot()\n",
        "\n",
        "for i in list_columns:\n",
        "  plt.plot(df_n2['Fall'], df_n2[i],)\n",
        "\n",
        "\n",
        "plt.legend([i for i in list_columns], loc = 2)\n",
        "plt.xlabel('Years', size = 14)\n",
        "plt.ylabel('Number of Applicants', size = 14)"
      ],
      "execution_count": 99,
      "outputs": [
        {
          "output_type": "execute_result",
          "data": {
            "text/plain": [
              "Text(0, 0.5, 'Number of Applicants')"
            ]
          },
          "metadata": {
            "tags": []
          },
          "execution_count": 99
        },
        {
          "output_type": "display_data",
          "data": {
            "image/png": "[encoded data removed]",
            "text/plain": [
              "<Figure size 864x576 with 1 Axes>"
            ]
          },
          "metadata": {
            "tags": [],
            "needs_background": "light"
          }
        }
      ]
    },
    {
      "cell_type": "code",
      "metadata": {
        "id": "GVr54sgsWjT3"
      },
      "source": [
        ""
      ],
      "execution_count": null,
      "outputs": []
    }
  ]
}