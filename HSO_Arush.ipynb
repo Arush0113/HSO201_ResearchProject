{
  "nbformat": 4,
  "nbformat_minor": 0,
  "metadata": {
    "colab": {
      "name": "HSO_Arush.ipynb",
      "provenance": [],
      "collapsed_sections": [],
      "mount_file_id": "1OzT8muarHlkmu4lXqLkAhd1A4BkAvvIC",
      "authorship_tag": "ABX9TyNF9J3wlwC72BKZylD6lV+g",
      "include_colab_link": true
    },
    "kernelspec": {
      "name": "python3",
      "display_name": "Python 3"
    },
    "language_info": {
      "name": "python"
    }
  },
  "cells": [
    {
      "cell_type": "markdown",
      "metadata": {
        "id": "view-in-github",
        "colab_type": "text"
      },
      "source": [
        "<a href=\"https://colab.research.google.com/github/Arush0113/HSO201_ResearchProject/blob/main/HSO_Arush.ipynb\" target=\"_parent\"><img src=\"https://colab.research.google.com/assets/colab-badge.svg\" alt=\"Open In Colab\"/></a>"
      ]
    },
    {
      "cell_type": "code",
      "metadata": {
        "id": "bCJ-F3nu6c4E"
      },
      "source": [
        "import pandas as pd\n",
        "df = pd.read_csv('/content/drive/MyDrive/Table 303.25.txt', delimiter=' ')"
      ],
      "execution_count": 173,
      "outputs": []
    },
    {
      "cell_type": "code",
      "metadata": {
        "colab": {
          "base_uri": "https://localhost:8080/",
          "height": 232
        },
        "id": "g4Qf825s7Cy5",
        "outputId": "70506fd6-0cd2-409c-a666-6b0838973dc6"
      },
      "source": [
        "df.head()"
      ],
      "execution_count": 174,
      "outputs": [
        {
          "output_type": "execute_result",
          "data": {
            "text/html": [
              "<div>\n",
              "<style scoped>\n",
              "    .dataframe tbody tr th:only-of-type {\n",
              "        vertical-align: middle;\n",
              "    }\n",
              "\n",
              "    .dataframe tbody tr th {\n",
              "        vertical-align: top;\n",
              "    }\n",
              "\n",
              "    .dataframe thead th {\n",
              "        text-align: right;\n",
              "    }\n",
              "</style>\n",
              "<table border=\"1\" class=\"dataframe\">\n",
              "  <thead>\n",
              "    <tr style=\"text-align: right;\">\n",
              "      <th></th>\n",
              "      <th>Year</th>\n",
              "      <th>Total(All)</th>\n",
              "      <th>4-year(All)</th>\n",
              "      <th>2-year(All)</th>\n",
              "      <th>Total(Public)</th>\n",
              "      <th>4-year(Public)</th>\n",
              "      <th>2-year(Public)</th>\n",
              "      <th>Total(Private_All)</th>\n",
              "      <th>4-year(Private_All)</th>\n",
              "      <th>2-year(Private_All)</th>\n",
              "      <th>Total(Private_NonProfit)</th>\n",
              "      <th>4-year(Private_NonProfit)</th>\n",
              "      <th>2-year(Private_NonProfit)</th>\n",
              "      <th>Total(Private_ForProfit)</th>\n",
              "      <th>4-year(Private_ForProfit)</th>\n",
              "      <th>2-year(Private_ForProfit)</th>\n",
              "    </tr>\n",
              "  </thead>\n",
              "  <tbody>\n",
              "    <tr>\n",
              "      <th>0</th>\n",
              "      <td>1</td>\n",
              "      <td>2</td>\n",
              "      <td>3</td>\n",
              "      <td>4</td>\n",
              "      <td>5</td>\n",
              "      <td>6</td>\n",
              "      <td>7</td>\n",
              "      <td>8</td>\n",
              "      <td>9</td>\n",
              "      <td>10</td>\n",
              "      <td>11</td>\n",
              "      <td>12</td>\n",
              "      <td>13</td>\n",
              "      <td>14</td>\n",
              "      <td>15</td>\n",
              "      <td>16</td>\n",
              "    </tr>\n",
              "    <tr>\n",
              "      <th>1</th>\n",
              "      <td>1970</td>\n",
              "      <td>8,580,887</td>\n",
              "      <td>6,261,502</td>\n",
              "      <td>2,319,385</td>\n",
              "      <td>6,428,134</td>\n",
              "      <td>4,232,722</td>\n",
              "      <td>2,195,412</td>\n",
              "      <td>2,152,753</td>\n",
              "      <td>2,028,780</td>\n",
              "      <td>123,973</td>\n",
              "      <td>2,134,420</td>\n",
              "      <td>2,021,121</td>\n",
              "      <td>113,299</td>\n",
              "      <td>18,333</td>\n",
              "      <td>7,659</td>\n",
              "      <td>10,674</td>\n",
              "    </tr>\n",
              "    <tr>\n",
              "      <th>2</th>\n",
              "      <td>1971</td>\n",
              "      <td>8,948,644</td>\n",
              "      <td>6,369,355</td>\n",
              "      <td>2,579,289</td>\n",
              "      <td>6,804,309</td>\n",
              "      <td>4,346,990</td>\n",
              "      <td>2,457,319</td>\n",
              "      <td>2,144,335</td>\n",
              "      <td>2,022,365</td>\n",
              "      <td>121,970</td>\n",
              "      <td>2,121,913</td>\n",
              "      <td>2,011,682</td>\n",
              "      <td>110,231</td>\n",
              "      <td>22,422</td>\n",
              "      <td>10,683</td>\n",
              "      <td>11,739</td>\n",
              "    </tr>\n",
              "    <tr>\n",
              "      <th>3</th>\n",
              "      <td>1972</td>\n",
              "      <td>9,214,860</td>\n",
              "      <td>6,458,674</td>\n",
              "      <td>2,756,186</td>\n",
              "      <td>7,070,635</td>\n",
              "      <td>4,429,696</td>\n",
              "      <td>2,640,939</td>\n",
              "      <td>2,144,225</td>\n",
              "      <td>2,028,978</td>\n",
              "      <td>115,247</td>\n",
              "      <td>2,123,245</td>\n",
              "      <td>2,019,380</td>\n",
              "      <td>103,865</td>\n",
              "      <td>20,980</td>\n",
              "      <td>9,598</td>\n",
              "      <td>11,382</td>\n",
              "    </tr>\n",
              "    <tr>\n",
              "      <th>4</th>\n",
              "      <td>1973</td>\n",
              "      <td>9,602,123</td>\n",
              "      <td>6,590,023</td>\n",
              "      <td>3,012,100</td>\n",
              "      <td>7,419,516</td>\n",
              "      <td>4,529,895</td>\n",
              "      <td>2,889,621</td>\n",
              "      <td>2,182,607</td>\n",
              "      <td>2,060,128</td>\n",
              "      <td>122,479</td>\n",
              "      <td>2,148,784</td>\n",
              "      <td>2,045,804</td>\n",
              "      <td>102,980</td>\n",
              "      <td>33,823</td>\n",
              "      <td>14,324</td>\n",
              "      <td>19,499</td>\n",
              "    </tr>\n",
              "  </tbody>\n",
              "</table>\n",
              "</div>"
            ],
            "text/plain": [
              "   Year Total(All)  ... 4-year(Private_ForProfit) 2-year(Private_ForProfit)\n",
              "0     1          2  ...                        15                        16\n",
              "1  1970  8,580,887  ...                     7,659                    10,674\n",
              "2  1971  8,948,644  ...                    10,683                    11,739\n",
              "3  1972  9,214,860  ...                     9,598                    11,382\n",
              "4  1973  9,602,123  ...                    14,324                    19,499\n",
              "\n",
              "[5 rows x 16 columns]"
            ]
          },
          "metadata": {
            "tags": []
          },
          "execution_count": 174
        }
      ]
    },
    {
      "cell_type": "code",
      "metadata": {
        "colab": {
          "base_uri": "https://localhost:8080/",
          "height": 232
        },
        "id": "o2MDZNhV4V5f",
        "outputId": "2764b39c-072e-437f-be46-929b3272a524"
      },
      "source": [
        "df = df.drop([0], axis = 0)\n",
        "# df.drop([\"index\"], axis = 1, inplace = True)\n",
        "# df = df.reset_index()\n",
        "df.head()"
      ],
      "execution_count": 175,
      "outputs": [
        {
          "output_type": "execute_result",
          "data": {
            "text/html": [
              "<div>\n",
              "<style scoped>\n",
              "    .dataframe tbody tr th:only-of-type {\n",
              "        vertical-align: middle;\n",
              "    }\n",
              "\n",
              "    .dataframe tbody tr th {\n",
              "        vertical-align: top;\n",
              "    }\n",
              "\n",
              "    .dataframe thead th {\n",
              "        text-align: right;\n",
              "    }\n",
              "</style>\n",
              "<table border=\"1\" class=\"dataframe\">\n",
              "  <thead>\n",
              "    <tr style=\"text-align: right;\">\n",
              "      <th></th>\n",
              "      <th>Year</th>\n",
              "      <th>Total(All)</th>\n",
              "      <th>4-year(All)</th>\n",
              "      <th>2-year(All)</th>\n",
              "      <th>Total(Public)</th>\n",
              "      <th>4-year(Public)</th>\n",
              "      <th>2-year(Public)</th>\n",
              "      <th>Total(Private_All)</th>\n",
              "      <th>4-year(Private_All)</th>\n",
              "      <th>2-year(Private_All)</th>\n",
              "      <th>Total(Private_NonProfit)</th>\n",
              "      <th>4-year(Private_NonProfit)</th>\n",
              "      <th>2-year(Private_NonProfit)</th>\n",
              "      <th>Total(Private_ForProfit)</th>\n",
              "      <th>4-year(Private_ForProfit)</th>\n",
              "      <th>2-year(Private_ForProfit)</th>\n",
              "    </tr>\n",
              "  </thead>\n",
              "  <tbody>\n",
              "    <tr>\n",
              "      <th>1</th>\n",
              "      <td>1970</td>\n",
              "      <td>8,580,887</td>\n",
              "      <td>6,261,502</td>\n",
              "      <td>2,319,385</td>\n",
              "      <td>6,428,134</td>\n",
              "      <td>4,232,722</td>\n",
              "      <td>2,195,412</td>\n",
              "      <td>2,152,753</td>\n",
              "      <td>2,028,780</td>\n",
              "      <td>123,973</td>\n",
              "      <td>2,134,420</td>\n",
              "      <td>2,021,121</td>\n",
              "      <td>113,299</td>\n",
              "      <td>18,333</td>\n",
              "      <td>7,659</td>\n",
              "      <td>10,674</td>\n",
              "    </tr>\n",
              "    <tr>\n",
              "      <th>2</th>\n",
              "      <td>1971</td>\n",
              "      <td>8,948,644</td>\n",
              "      <td>6,369,355</td>\n",
              "      <td>2,579,289</td>\n",
              "      <td>6,804,309</td>\n",
              "      <td>4,346,990</td>\n",
              "      <td>2,457,319</td>\n",
              "      <td>2,144,335</td>\n",
              "      <td>2,022,365</td>\n",
              "      <td>121,970</td>\n",
              "      <td>2,121,913</td>\n",
              "      <td>2,011,682</td>\n",
              "      <td>110,231</td>\n",
              "      <td>22,422</td>\n",
              "      <td>10,683</td>\n",
              "      <td>11,739</td>\n",
              "    </tr>\n",
              "    <tr>\n",
              "      <th>3</th>\n",
              "      <td>1972</td>\n",
              "      <td>9,214,860</td>\n",
              "      <td>6,458,674</td>\n",
              "      <td>2,756,186</td>\n",
              "      <td>7,070,635</td>\n",
              "      <td>4,429,696</td>\n",
              "      <td>2,640,939</td>\n",
              "      <td>2,144,225</td>\n",
              "      <td>2,028,978</td>\n",
              "      <td>115,247</td>\n",
              "      <td>2,123,245</td>\n",
              "      <td>2,019,380</td>\n",
              "      <td>103,865</td>\n",
              "      <td>20,980</td>\n",
              "      <td>9,598</td>\n",
              "      <td>11,382</td>\n",
              "    </tr>\n",
              "    <tr>\n",
              "      <th>4</th>\n",
              "      <td>1973</td>\n",
              "      <td>9,602,123</td>\n",
              "      <td>6,590,023</td>\n",
              "      <td>3,012,100</td>\n",
              "      <td>7,419,516</td>\n",
              "      <td>4,529,895</td>\n",
              "      <td>2,889,621</td>\n",
              "      <td>2,182,607</td>\n",
              "      <td>2,060,128</td>\n",
              "      <td>122,479</td>\n",
              "      <td>2,148,784</td>\n",
              "      <td>2,045,804</td>\n",
              "      <td>102,980</td>\n",
              "      <td>33,823</td>\n",
              "      <td>14,324</td>\n",
              "      <td>19,499</td>\n",
              "    </tr>\n",
              "    <tr>\n",
              "      <th>5</th>\n",
              "      <td>1974</td>\n",
              "      <td>10,223,729</td>\n",
              "      <td>6,819,735</td>\n",
              "      <td>3,403,994</td>\n",
              "      <td>7,988,500</td>\n",
              "      <td>4,703,018</td>\n",
              "      <td>3,285,482</td>\n",
              "      <td>2,235,229</td>\n",
              "      <td>2,116,717</td>\n",
              "      <td>118,512</td>\n",
              "      <td>2,200,963</td>\n",
              "      <td>2,098,599</td>\n",
              "      <td>102,364</td>\n",
              "      <td>34,266</td>\n",
              "      <td>18,118</td>\n",
              "      <td>16,148</td>\n",
              "    </tr>\n",
              "  </tbody>\n",
              "</table>\n",
              "</div>"
            ],
            "text/plain": [
              "   Year  Total(All)  ... 4-year(Private_ForProfit) 2-year(Private_ForProfit)\n",
              "1  1970   8,580,887  ...                     7,659                    10,674\n",
              "2  1971   8,948,644  ...                    10,683                    11,739\n",
              "3  1972   9,214,860  ...                     9,598                    11,382\n",
              "4  1973   9,602,123  ...                    14,324                    19,499\n",
              "5  1974  10,223,729  ...                    18,118                    16,148\n",
              "\n",
              "[5 rows x 16 columns]"
            ]
          },
          "metadata": {
            "tags": []
          },
          "execution_count": 175
        }
      ]
    },
    {
      "cell_type": "code",
      "metadata": {
        "id": "cMWREZIP7DmA"
      },
      "source": [
        "import numpy as np\n",
        "import matplotlib.pyplot as plt\n",
        "import seaborn as sns\n",
        "import re\n",
        "\n",
        "%matplotlib inline"
      ],
      "execution_count": 176,
      "outputs": []
    },
    {
      "cell_type": "code",
      "metadata": {
        "id": "gX6GHqIS3jzt"
      },
      "source": [
        "list = []\n",
        "for item in df['Total(All)'].values:\n",
        "  l1 = re.split(',', item)\n",
        "  list.append(''.join(l1))\n",
        "# print(list)  \n",
        "df['Total(All)'] = list\n",
        "\n",
        "\n",
        "list = []\n",
        "for item in df['4-year(All)'].values:\n",
        "  l1 = re.split(',', item)\n",
        "  list.append(''.join(l1))\n",
        "# print(list)  \n",
        "df['4-year(All)'] = list\n",
        "\n",
        "list = []\n",
        "for item in df['2-year(All)'].values:\n",
        "  l1 = re.split(',', item)\n",
        "  list.append(''.join(l1))\n",
        "# print(list)  \n",
        "df['2-year(All)'] = list\n"
      ],
      "execution_count": 177,
      "outputs": []
    },
    {
      "cell_type": "code",
      "metadata": {
        "colab": {
          "base_uri": "https://localhost:8080/",
          "height": 506
        },
        "id": "Dw2Yf1AD3z6T",
        "outputId": "57a8250b-60af-4228-8be8-d3b1f9e0c0ce"
      },
      "source": [
        "df['Total(All)'] = df['Total(All)'].astype(int)\n",
        "df['4-year(All)'] = df['4-year(All)'].astype(int)\n",
        "df['2-year(All)'] = df['2-year(All)'].astype(int)\n",
        "df['Year'] = df['Year'].astype(int)\n",
        "\n",
        "df1 = df[(df['Year'] == 1978) | (df['Year'] == 1988) | (df['Year'] == 1998) | (df['Year'] == 2008) | (df['Year'] == 2018)]\n",
        "# sns.figure(figsize = (15,10))\n",
        "plt.figure(figsize=(6,4), )\n",
        "sns.barplot(data = df1, x = 'Year', y = 'Total(All)')\n",
        "# sns.barplot(data = df1, x = 'Year', y = '4-year(All)')\n",
        "df1.head()\n",
        "# x_vars = ['Total(All)', '4-year(All)', '2-year(All)']"
      ],
      "execution_count": 180,
      "outputs": [
        {
          "output_type": "execute_result",
          "data": {
            "text/html": [
              "<div>\n",
              "<style scoped>\n",
              "    .dataframe tbody tr th:only-of-type {\n",
              "        vertical-align: middle;\n",
              "    }\n",
              "\n",
              "    .dataframe tbody tr th {\n",
              "        vertical-align: top;\n",
              "    }\n",
              "\n",
              "    .dataframe thead th {\n",
              "        text-align: right;\n",
              "    }\n",
              "</style>\n",
              "<table border=\"1\" class=\"dataframe\">\n",
              "  <thead>\n",
              "    <tr style=\"text-align: right;\">\n",
              "      <th></th>\n",
              "      <th>Year</th>\n",
              "      <th>Total(All)</th>\n",
              "      <th>4-year(All)</th>\n",
              "      <th>2-year(All)</th>\n",
              "      <th>Total(Public)</th>\n",
              "      <th>4-year(Public)</th>\n",
              "      <th>2-year(Public)</th>\n",
              "      <th>Total(Private_All)</th>\n",
              "      <th>4-year(Private_All)</th>\n",
              "      <th>2-year(Private_All)</th>\n",
              "      <th>Total(Private_NonProfit)</th>\n",
              "      <th>4-year(Private_NonProfit)</th>\n",
              "      <th>2-year(Private_NonProfit)</th>\n",
              "      <th>Total(Private_ForProfit)</th>\n",
              "      <th>4-year(Private_ForProfit)</th>\n",
              "      <th>2-year(Private_ForProfit)</th>\n",
              "    </tr>\n",
              "  </thead>\n",
              "  <tbody>\n",
              "    <tr>\n",
              "      <th>9</th>\n",
              "      <td>1978</td>\n",
              "      <td>11260092</td>\n",
              "      <td>7231625</td>\n",
              "      <td>4028467</td>\n",
              "      <td>8,785,893</td>\n",
              "      <td>4,912,203</td>\n",
              "      <td>3,873,690</td>\n",
              "      <td>2,474,199</td>\n",
              "      <td>2,319,422</td>\n",
              "      <td>154,777</td>\n",
              "      <td>2,408,331</td>\n",
              "      <td>2,299,132</td>\n",
              "      <td>109,199</td>\n",
              "      <td>65,868</td>\n",
              "      <td>20,290</td>\n",
              "      <td>45,578</td>\n",
              "    </tr>\n",
              "    <tr>\n",
              "      <th>19</th>\n",
              "      <td>1988</td>\n",
              "      <td>13055337</td>\n",
              "      <td>8180182</td>\n",
              "      <td>4875155</td>\n",
              "      <td>10,161,388</td>\n",
              "      <td>5,545,901</td>\n",
              "      <td>4,615,487</td>\n",
              "      <td>2,893,949</td>\n",
              "      <td>2,634,281</td>\n",
              "      <td>259,668</td>\n",
              "      <td>—</td>\n",
              "      <td>—</td>\n",
              "      <td>—</td>\n",
              "      <td>—</td>\n",
              "      <td>—</td>\n",
              "      <td>—</td>\n",
              "    </tr>\n",
              "    <tr>\n",
              "      <th>29</th>\n",
              "      <td>1998</td>\n",
              "      <td>14506967</td>\n",
              "      <td>9017653</td>\n",
              "      <td>5489314</td>\n",
              "      <td>11,137,769</td>\n",
              "      <td>5,891,806</td>\n",
              "      <td>5,245,963</td>\n",
              "      <td>3,369,198</td>\n",
              "      <td>3,125,847</td>\n",
              "      <td>243,351</td>\n",
              "      <td>3,004,925</td>\n",
              "      <td>2,939,055</td>\n",
              "      <td>65,870</td>\n",
              "      <td>364,273</td>\n",
              "      <td>186,792</td>\n",
              "      <td>177,481</td>\n",
              "    </tr>\n",
              "    <tr>\n",
              "      <th>39</th>\n",
              "      <td>2008</td>\n",
              "      <td>19081686</td>\n",
              "      <td>12110487</td>\n",
              "      <td>6971199</td>\n",
              "      <td>13,970,862</td>\n",
              "      <td>7,330,682</td>\n",
              "      <td>6,640,180</td>\n",
              "      <td>5,110,824</td>\n",
              "      <td>4,779,805</td>\n",
              "      <td>331,019</td>\n",
              "      <td>3,660,827</td>\n",
              "      <td>3,625,469</td>\n",
              "      <td>35,358</td>\n",
              "      <td>1,449,997</td>\n",
              "      <td>1,154,336</td>\n",
              "      <td>295,661</td>\n",
              "    </tr>\n",
              "    <tr>\n",
              "      <th>49</th>\n",
              "      <td>2018</td>\n",
              "      <td>19645918</td>\n",
              "      <td>13900710</td>\n",
              "      <td>5745208</td>\n",
              "      <td>14,529,264</td>\n",
              "      <td>8,982,560</td>\n",
              "      <td>5,546,704</td>\n",
              "      <td>5,116,654</td>\n",
              "      <td>4,918,150</td>\n",
              "      <td>198,504</td>\n",
              "      <td>4,134,244</td>\n",
              "      <td>4,089,090</td>\n",
              "      <td>45,154</td>\n",
              "      <td>982,410</td>\n",
              "      <td>829,060</td>\n",
              "      <td>153,350</td>\n",
              "    </tr>\n",
              "  </tbody>\n",
              "</table>\n",
              "</div>"
            ],
            "text/plain": [
              "    Year  Total(All)  ...  4-year(Private_ForProfit)  2-year(Private_ForProfit)\n",
              "9   1978    11260092  ...                     20,290                     45,578\n",
              "19  1988    13055337  ...                          —                          —\n",
              "29  1998    14506967  ...                    186,792                    177,481\n",
              "39  2008    19081686  ...                  1,154,336                    295,661\n",
              "49  2018    19645918  ...                    829,060                    153,350\n",
              "\n",
              "[5 rows x 16 columns]"
            ]
          },
          "metadata": {
            "tags": []
          },
          "execution_count": 180
        },
        {
          "output_type": "display_data",
          "data": {
            "image/png": "[encoded data removed]",
            "text/plain": [
              "<Figure size 432x288 with 1 Axes>"
            ]
          },
          "metadata": {
            "tags": [],
            "needs_background": "light"
          }
        }
      ]
    },
    {
      "cell_type": "code",
      "metadata": {
        "colab": {
          "base_uri": "https://localhost:8080/",
          "height": 323
        },
        "id": "CiEV2HOH31wO",
        "outputId": "04b8fdc1-da10-44fa-c99c-9ba5839006ba"
      },
      "source": [
        "columns = ['Year', 'Total(All)', '4-year(All)', '2-year(All)']\n",
        "df2 = df1[columns]\n",
        "\n",
        "df2 = df2.set_index('Year')\n",
        "df2.columns = ['Total(All)', '4-year(All)', '2-year(All)']\n",
        "df2.plot(kind = 'bar')\n",
        "\n",
        "# plt.figure(figsize=(6,4))\n",
        "# plt.subplot()\n"
      ],
      "execution_count": 182,
      "outputs": [
        {
          "output_type": "execute_result",
          "data": {
            "text/plain": [
              "<matplotlib.axes._subplots.AxesSubplot at 0x7f173b0976d0>"
            ]
          },
          "metadata": {
            "tags": []
          },
          "execution_count": 182
        },
        {
          "output_type": "display_data",
          "data": {
            "image/png": "[encoded data removed]",
            "text/plain": [
              "<Figure size 432x288 with 1 Axes>"
            ]
          },
          "metadata": {
            "tags": [],
            "needs_background": "light"
          }
        }
      ]
    },
    {
      "cell_type": "code",
      "metadata": {
        "id": "lRlKRuqYUtM0"
      },
      "source": [
        ""
      ],
      "execution_count": 159,
      "outputs": []
    },
    {
      "cell_type": "code",
      "metadata": {
        "id": "VChhgqUlWyCq"
      },
      "source": [
        ""
      ],
      "execution_count": null,
      "outputs": []
    }
  ]
}